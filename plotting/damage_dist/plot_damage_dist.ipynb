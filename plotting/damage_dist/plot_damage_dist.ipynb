{
 "metadata": {
  "name": "",
  "signature": "sha256:72f3257d5b10f1c1bcab2bb94c8dd453910e267da9c2e3203eb2f3cbf0053ec7"
 },
 "nbformat": 3,
 "nbformat_minor": 0,
 "worksheets": [
  {
   "cells": [
    {
     "cell_type": "code",
     "collapsed": false,
     "input": [
      "%matplotlib inline\n",
      "import plot_damage_dist as plotdd"
     ],
     "language": "python",
     "metadata": {},
     "outputs": []
    },
    {
     "cell_type": "code",
     "collapsed": false,
     "input": [
      "dmg_dist_file = 'dmg_dist_per_taxonomy-1854.xml'\n",
      "export_png = True"
     ],
     "language": "python",
     "metadata": {},
     "outputs": []
    },
    {
     "cell_type": "code",
     "collapsed": false,
     "input": [
      "plotdd.plot_damage_dist(dmg_dist_file, export_png)"
     ],
     "language": "python",
     "metadata": {},
     "outputs": []
    }
   ],
   "metadata": {}
  }
 ]
}