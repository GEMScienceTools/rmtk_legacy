{
 "metadata": {
  "name": ""
 },
 "nbformat": 3,
 "nbformat_minor": 0,
 "worksheets": [
  {
   "cells": [
    {
     "cell_type": "code",
     "collapsed": false,
     "input": [
      "\"\"\"\n",
      "Created on Thu Jun  5 12:26:31 2014\n",
      "\n",
      "@author: chiaracasotto\n",
      "\"\"\"\n",
      "# Clear existing variables\n",
      "def clearall():\n",
      "    all = [var for var in globals() if var[0] != \"_\"]\n",
      "    for var in all:\n",
      "        del globals()[var]\n",
      "clearall()\n",
      "\n",
      "# Import functions\n",
      "import numpy as np\n",
      "import scipy.stats as stat\n",
      "import os\n",
      "import csv\n",
      "from common.print_csv import print_outputs\n",
      "\n",
      "def damage_to_loss(SaT,bTSa,iml):\n",
      "    cd = os.getcwd()\n",
      "    # INPUT: SaT is the mean log(iml), bTSa is the dispersion, std(log(iml))\n",
      "    # Input consequence functions. The number of damage state considered should\n",
      "    # be the same in both fragility and consequence. \n",
      "    input2 = cd+'/common/consequence.csv'\n",
      "    with open(input2, 'rb') as f:\n",
      "        reader = csv.reader(f)\n",
      "        newlist = [row for row in reader]\n",
      "        loss_ratio=[float(ele) for ele in newlist[1]]\n",
      "\n",
      "    # From continuous function to dicrete\n",
      "    poe = [np.zeros_like(iml)]*len(SaT)\n",
      "    for i in range(0,len(SaT)):\n",
      "        mu = SaT[i]\n",
      "        sigma = bTSa[i]\n",
      "        if sigma == 0:\n",
      "            probability = np.zeros_like(iml)\n",
      "            probability[iml>np.exp(mu)] = 1 # check this\n",
      "            poe[i] = probability\n",
      "        else:\n",
      "            poe[i] = stat.norm(mu,sigma).cdf(np.log(iml)) # Probability of exceedance each DS\n",
      "\n",
      "    # From probability of exceedance to probability of occurance and loss ratio per damage state\n",
      "    loss_ratio_DS = [np.zeros_like(iml)]*len(SaT)\n",
      "    poo = poe\n",
      "    for i in range(0,len(SaT)-1):\n",
      "        poo[i] = poe[i]-poe[i+1] # probability of occurance of each DS\n",
      "    for i in range(0,len(SaT)):\n",
      "        loss_ratio_DS[i] = poo[i]*loss_ratio[i] # loss_ratio vs intensity measure for each DS\n",
      "\n",
      "    # Total loss_ratio\n",
      "    LR = sum(loss_ratio_DS)\n",
      "    return LR"
     ],
     "language": "python",
     "metadata": {},
     "outputs": [],
     "prompt_number": 1
    },
    {
     "cell_type": "code",
     "collapsed": false,
     "input": [
      "plotflag = [0, 0, 1, 1]\n",
      "linew = 2\n",
      "fontsize = 10\n",
      "units = ['[m]', '[kN]', '[g]']\n",
      "iml = np.linspace(0.05,2,25)\n",
      "plot_feature = [plotflag, linew, fontsize, units, iml]\n",
      "with open('common/fragility.csv', 'rb') as f:\n",
      "    reader = csv.reader(f)\n",
      "    newlist = [row for row in reader]\n",
      "    Sa = [float(ele[1]) for ele in newlist[1:]] # First period\n",
      "    b = [float(ele[2]) for ele in newlist[1:]]\n",
      "print iml"
     ],
     "language": "python",
     "metadata": {},
     "outputs": [
      {
       "output_type": "stream",
       "stream": "stdout",
       "text": [
        "[ 0.05     0.13125  0.2125   0.29375  0.375    0.45625  0.5375   0.61875\n",
        "  0.7      0.78125  0.8625   0.94375  1.025    1.10625  1.1875   1.26875\n",
        "  1.35     1.43125  1.5125   1.59375  1.675    1.75625  1.8375   1.91875\n",
        "  2.     ]\n"
       ]
      }
     ],
     "prompt_number": 6
    },
    {
     "cell_type": "code",
     "collapsed": false,
     "input": [
      "nType = len(Sa)/3\n",
      "SaT = np.reshape(np.array(Sa),(nType,3))\n",
      "bTSa = np.reshape(np.array(Sa),(nType,3))\n",
      "LR = []"
     ],
     "language": "python",
     "metadata": {},
     "outputs": [],
     "prompt_number": 7
    },
    {
     "cell_type": "code",
     "collapsed": false,
     "input": [
      "for i in range(0,len(SaT)):\n",
      "    LR.append(damage_to_loss(SaT[i],bTSa[i],iml))\n",
      "bLR = np.zeros_like(LR)\n"
     ],
     "language": "python",
     "metadata": {},
     "outputs": [],
     "prompt_number": 8
    },
    {
     "cell_type": "code",
     "collapsed": false,
     "input": [
      "# Export discrete vulnerability curve to csv\n",
      "output_file = './outputs/vulnerability_curve.csv'\n",
      "header = ['Intensity Measure Level','mean Loss Ratio','coefficient of variation Loss Ratio']\n",
      "n_lines = len(LR)\n",
      "col_data = [iml, LR, bLR] # mean and coefficient of variation of LR"
     ],
     "language": "python",
     "metadata": {},
     "outputs": [],
     "prompt_number": 11
    },
    {
     "cell_type": "code",
     "collapsed": false,
     "input": [
      "outfile = open(output_file, 'wt')\n",
      "writer = csv.writer(outfile, delimiter=',')\n",
      "writer.writerow(header)\n",
      "for j in range(0, n_lines):\n",
      "    for ele in col_data:\n",
      "        if len(ele)>0:\n",
      "            dat = [col for col in ele[j]]\n",
      "        else:\n",
      "            dat = ele[j]\n",
      "    writer.writerow(dat)\n",
      "outfile.close()"
     ],
     "language": "python",
     "metadata": {},
     "outputs": [
      {
       "ename": "TypeError",
       "evalue": "object of type 'numpy.float64' has no len()",
       "output_type": "pyerr",
       "traceback": [
        "\u001b[0;31m---------------------------------------------------------------------------\u001b[0m\n\u001b[0;31mTypeError\u001b[0m                                 Traceback (most recent call last)",
        "\u001b[0;32m<ipython-input-14-16381e3a91bd>\u001b[0m in \u001b[0;36m<module>\u001b[0;34m()\u001b[0m\n\u001b[1;32m      4\u001b[0m \u001b[0;32mfor\u001b[0m \u001b[0mj\u001b[0m \u001b[0;32min\u001b[0m \u001b[0mrange\u001b[0m\u001b[0;34m(\u001b[0m\u001b[0;36m0\u001b[0m\u001b[0;34m,\u001b[0m \u001b[0mn_lines\u001b[0m\u001b[0;34m)\u001b[0m\u001b[0;34m:\u001b[0m\u001b[0;34m\u001b[0m\u001b[0m\n\u001b[1;32m      5\u001b[0m     \u001b[0;32mfor\u001b[0m \u001b[0mele\u001b[0m \u001b[0;32min\u001b[0m \u001b[0mcol_data\u001b[0m\u001b[0;34m:\u001b[0m\u001b[0;34m\u001b[0m\u001b[0m\n\u001b[0;32m----> 6\u001b[0;31m         \u001b[0;32mif\u001b[0m \u001b[0mlen\u001b[0m\u001b[0;34m(\u001b[0m\u001b[0mele\u001b[0m\u001b[0;34m[\u001b[0m\u001b[0mj\u001b[0m\u001b[0;34m]\u001b[0m\u001b[0;34m)\u001b[0m\u001b[0;34m>\u001b[0m\u001b[0;36m0\u001b[0m\u001b[0;34m:\u001b[0m\u001b[0;34m\u001b[0m\u001b[0m\n\u001b[0m\u001b[1;32m      7\u001b[0m             \u001b[0mdat\u001b[0m \u001b[0;34m=\u001b[0m \u001b[0;34m[\u001b[0m\u001b[0mcol\u001b[0m \u001b[0;32mfor\u001b[0m \u001b[0mcol\u001b[0m \u001b[0;32min\u001b[0m \u001b[0mele\u001b[0m\u001b[0;34m[\u001b[0m\u001b[0mj\u001b[0m\u001b[0;34m]\u001b[0m\u001b[0;34m]\u001b[0m\u001b[0;34m\u001b[0m\u001b[0m\n\u001b[1;32m      8\u001b[0m         \u001b[0;32melse\u001b[0m\u001b[0;34m:\u001b[0m\u001b[0;34m\u001b[0m\u001b[0m\n",
        "\u001b[0;31mTypeError\u001b[0m: object of type 'numpy.float64' has no len()"
       ]
      }
     ],
     "prompt_number": 14
    },
    {
     "cell_type": "code",
     "collapsed": false,
     "input": [
      "print_outputs(output_path,header,n_lines,col_data)"
     ],
     "language": "python",
     "metadata": {},
     "outputs": [
      {
       "metadata": {},
       "output_type": "pyout",
       "prompt_number": 10,
       "text": [
        "7.0185758477918894e-65"
       ]
      }
     ],
     "prompt_number": 10
    },
    {
     "cell_type": "code",
     "collapsed": false,
     "input": [],
     "language": "python",
     "metadata": {},
     "outputs": []
    }
   ],
   "metadata": {}
  }
 ]
}