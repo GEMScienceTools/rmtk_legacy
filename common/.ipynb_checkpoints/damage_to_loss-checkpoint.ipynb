{
 "metadata": {
  "name": ""
 },
 "nbformat": 3,
 "nbformat_minor": 0,
 "worksheets": [
  {
   "cells": [
    {
     "cell_type": "code",
     "collapsed": false,
     "input": [
      "\"\"\"\n",
      "Created on Thu Jun  5 12:26:31 2014\n",
      "\n",
      "@author: chiaracasotto\n",
      "\"\"\"\n",
      "\n",
      "import numpy as np\n",
      "import scipy.stats as stat\n",
      "import os\n",
      "import csv\n",
      "from common.export_vulnerability import export_vulnerability\n",
      "\n",
      "def damage_to_loss(SaT,bTSa,iml):\n",
      "    cd = os.getcwd()\n",
      "    # INPUT: SaT is the mean log(iml), bTSa is the dispersion, std(log(iml))\n",
      "    # Input consequence functions. The number of damage state considered should\n",
      "    # be the same in both fragility and consequence. \n",
      "    input2 = cd+'/consequence.csv'\n",
      "    with open(input2, 'rb') as f:\n",
      "        reader = csv.reader(f)\n",
      "        newlist = [row for row in reader]\n",
      "        loss_ratio=[float(ele) for ele in newlist[1]]\n",
      "\n",
      "    # From continuous function to dicrete\n",
      "    poe = [np.zeros_like(iml)]*len(SaT)\n",
      "    for i in range(0,len(SaT)):\n",
      "        mu = SaT[i]\n",
      "        sigma = bTSa[i]\n",
      "        if sigma == 0:\n",
      "            probability = np.zeros_like(iml)\n",
      "            probability[iml>np.exp(mu)] = 1 # check this\n",
      "            poe[i] = probability\n",
      "        else:\n",
      "            poe[i] = stat.norm(mu,sigma).cdf(np.log(iml)) # Probability of exceedance each DS\n",
      "\n",
      "    # From probability of exceedance to probability of occurance and loss ratio per damage state\n",
      "    loss_ratio_DS = [np.zeros_like(iml)]*len(SaT)\n",
      "    poo = poe\n",
      "    for i in range(0,len(SaT)-1):\n",
      "        poo[i] = poe[i]-poe[i+1] # probability of occurance of each DS\n",
      "    for i in range(0,len(SaT)):\n",
      "        loss_ratio_DS[i] = poo[i]*loss_ratio[i] # loss_ratio vs intensity measure for each DS\n",
      "\n",
      "    # Total loss_ratio\n",
      "    LR = sum(loss_ratio_DS)\n",
      "    return LR"
     ],
     "language": "python",
     "metadata": {},
     "outputs": [
      {
       "ename": "ImportError",
       "evalue": "No module named common.print_csv",
       "output_type": "pyerr",
       "traceback": [
        "\u001b[0;31m---------------------------------------------------------------------------\u001b[0m\n\u001b[0;31mImportError\u001b[0m                               Traceback (most recent call last)",
        "\u001b[0;32m<ipython-input-24-ff4676e4e2ed>\u001b[0m in \u001b[0;36m<module>\u001b[0;34m()\u001b[0m\n\u001b[1;32m      9\u001b[0m \u001b[0;32mimport\u001b[0m \u001b[0mos\u001b[0m\u001b[0;34m\u001b[0m\u001b[0m\n\u001b[1;32m     10\u001b[0m \u001b[0;32mimport\u001b[0m \u001b[0mcsv\u001b[0m\u001b[0;34m\u001b[0m\u001b[0m\n\u001b[0;32m---> 11\u001b[0;31m \u001b[0;32mfrom\u001b[0m \u001b[0mexport_vulnerability\u001b[0m \u001b[0;32mimport\u001b[0m \u001b[0mexport_vulnerability\u001b[0m\u001b[0;34m\u001b[0m\u001b[0m\n\u001b[0m\u001b[1;32m     12\u001b[0m \u001b[0;34m\u001b[0m\u001b[0m\n\u001b[1;32m     13\u001b[0m \u001b[0;32mdef\u001b[0m \u001b[0mdamage_to_loss\u001b[0m\u001b[0;34m(\u001b[0m\u001b[0mSaT\u001b[0m\u001b[0;34m,\u001b[0m\u001b[0mbTSa\u001b[0m\u001b[0;34m,\u001b[0m\u001b[0miml\u001b[0m\u001b[0;34m)\u001b[0m\u001b[0;34m:\u001b[0m\u001b[0;34m\u001b[0m\u001b[0m\n",
        "\u001b[0;32m/Users/chiaracasotto/GitHub/RMTK/common/export_vulnerability.py\u001b[0m in \u001b[0;36m<module>\u001b[0;34m()\u001b[0m\n\u001b[1;32m      7\u001b[0m \u001b[0;32mimport\u001b[0m \u001b[0mos\u001b[0m\u001b[0;34m\u001b[0m\u001b[0m\n\u001b[1;32m      8\u001b[0m \u001b[0;32mimport\u001b[0m \u001b[0mmatplotlib\u001b[0m\u001b[0;34m.\u001b[0m\u001b[0mpyplot\u001b[0m \u001b[0;32mas\u001b[0m \u001b[0mplt\u001b[0m\u001b[0;34m\u001b[0m\u001b[0m\n\u001b[0;32m----> 9\u001b[0;31m \u001b[0;32mfrom\u001b[0m \u001b[0mcommon\u001b[0m\u001b[0;34m.\u001b[0m\u001b[0mprint_csv\u001b[0m \u001b[0;32mimport\u001b[0m \u001b[0mprint_outputs\u001b[0m\u001b[0;34m\u001b[0m\u001b[0m\n\u001b[0m\u001b[1;32m     10\u001b[0m \u001b[0;34m\u001b[0m\u001b[0m\n\u001b[1;32m     11\u001b[0m \u001b[0;32mdef\u001b[0m \u001b[0mexport_vulnerability\u001b[0m\u001b[0;34m(\u001b[0m\u001b[0mvuln\u001b[0m\u001b[0;34m,\u001b[0m \u001b[0mplot_feature\u001b[0m\u001b[0;34m,\u001b[0m \u001b[0mx\u001b[0m\u001b[0;34m,\u001b[0m \u001b[0my\u001b[0m\u001b[0;34m)\u001b[0m\u001b[0;34m:\u001b[0m\u001b[0;34m\u001b[0m\u001b[0m\n",
        "\u001b[0;31mImportError\u001b[0m: No module named common.print_csv"
       ]
      }
     ],
     "prompt_number": 24
    },
    {
     "cell_type": "code",
     "collapsed": false,
     "input": [
      "plotflag = [0, 0, 1, 1]\n",
      "linew = 2\n",
      "fontsize = 10\n",
      "units = ['[m]', '[kN]', '[g]']\n",
      "iml = np.linspace(0.05,2,25)\n",
      "plot_feature = [plotflag, linew, fontsize, units, iml]\n",
      "with open('fragility.csv', 'rb') as f:\n",
      "    reader = csv.reader(f)\n",
      "    newlist = [row for row in reader]\n",
      "    Sa = [float(ele[1]) for ele in newlist[1:]] # First period\n",
      "    b = [float(ele[2]) for ele in newlist[1:]]"
     ],
     "language": "python",
     "metadata": {},
     "outputs": [],
     "prompt_number": 19
    },
    {
     "cell_type": "code",
     "collapsed": false,
     "input": [
      "nType = len(Sa)/3\n",
      "SaT = np.reshape(np.array(Sa),(nType,3))\n",
      "bTSa = np.reshape(np.array(Sa),(nType,3))\n",
      "LR = []"
     ],
     "language": "python",
     "metadata": {},
     "outputs": [],
     "prompt_number": 20
    },
    {
     "cell_type": "code",
     "collapsed": false,
     "input": [
      "for i in range(0,len(SaT)):\n",
      "    LR.append(damage_to_loss(SaT[i],bTSa[i],iml))\n",
      "bLR = np.zeros_like(LR)"
     ],
     "language": "python",
     "metadata": {},
     "outputs": [],
     "prompt_number": 21
    },
    {
     "cell_type": "code",
     "collapsed": false,
     "input": [
      "export_vulnerability(vuln, plot_feature, LR, np.zeros_like(LR))"
     ],
     "language": "python",
     "metadata": {},
     "outputs": [
      {
       "ename": "NameError",
       "evalue": "name 'export_vulnerability' is not defined",
       "output_type": "pyerr",
       "traceback": [
        "\u001b[0;31m---------------------------------------------------------------------------\u001b[0m\n\u001b[0;31mNameError\u001b[0m                                 Traceback (most recent call last)",
        "\u001b[0;32m<ipython-input-22-09097958f291>\u001b[0m in \u001b[0;36m<module>\u001b[0;34m()\u001b[0m\n\u001b[0;32m----> 1\u001b[0;31m \u001b[0mexport_vulnerability\u001b[0m\u001b[0;34m(\u001b[0m\u001b[0mvuln\u001b[0m\u001b[0;34m,\u001b[0m \u001b[0mplot_feature\u001b[0m\u001b[0;34m,\u001b[0m \u001b[0mLR\u001b[0m\u001b[0;34m,\u001b[0m \u001b[0mnp\u001b[0m\u001b[0;34m.\u001b[0m\u001b[0mzeros_like\u001b[0m\u001b[0;34m(\u001b[0m\u001b[0mLR\u001b[0m\u001b[0;34m)\u001b[0m\u001b[0;34m)\u001b[0m\u001b[0;34m\u001b[0m\u001b[0m\n\u001b[0m",
        "\u001b[0;31mNameError\u001b[0m: name 'export_vulnerability' is not defined"
       ]
      }
     ],
     "prompt_number": 22
    },
    {
     "cell_type": "code",
     "collapsed": false,
     "input": [],
     "language": "python",
     "metadata": {},
     "outputs": []
    }
   ],
   "metadata": {}
  }
 ]
}