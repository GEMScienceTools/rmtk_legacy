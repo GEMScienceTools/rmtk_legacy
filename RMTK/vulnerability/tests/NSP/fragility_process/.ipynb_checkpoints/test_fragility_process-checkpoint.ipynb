{
 "metadata": {
  "name": ""
 },
 "nbformat": 3,
 "nbformat_minor": 0,
 "worksheets": [
  {
   "cells": [
    {
     "cell_type": "code",
     "collapsed": false,
     "input": [
      "# Clear existing variables\n",
      "def clearall():\n",
      "    all = [var for var in globals() if var[0] != \"_\"]\n",
      "    for var in all:\n",
      "        del globals()[var]\n",
      "clearall()\n",
      "import numpy as np\n",
      "import scipy.stats as stat\n",
      "import matplotlib.pyplot as plt\n",
      "from conversions import from_median_to_mean\n",
      "noBlg = 3\n",
      "Sa_ratios = [1, 1.2, 0.9]\n",
      "bTSa = [np.array([0.1904678,   0.34344428,  0.37524771,  0.3902132,   0.39421843]),\n",
      "        np.array([ 0.21424855,  0.36911505,  0.3990526,   0.41032909,  0.41265483]),\n",
      "        np.array([ 0.21367852,  0.35846285,  0.38356651,  0.39371426,  0.39636487])]\n",
      "SaT50 =[np.array([0.2,  0.5,  0.6,  0.7,   0.9]),\n",
      "        np.array([0.3,  0.6,  0.7,  0.8,  1.0]),\n",
      "        np.array([0.5,  0.7,  0.8,  0.9,  1.1])]\n",
      "w = np.array([0.3, 0.3, 0.4])\n",
      "allSa, allbTSa = [], []"
     ],
     "language": "python",
     "metadata": {},
     "outputs": [],
     "prompt_number": 5
    },
    {
     "cell_type": "code",
     "collapsed": false,
     "input": [
      "# Converting the Sa(T1) to Sa(Tav), the common IM\n",
      "for blg in range(0,noBlg):\n",
      "    SaTlogmean_av, bTSa_av = np.log(SaT50[blg])*Sa_ratios[blg], np.array(bTSa[blg])*Sa_ratios[blg]\n",
      "    allSa.append(SaTlogmean_av)\n",
      "    allbTSa.append(bTSa_av)\n",
      "print allSa\n",
      "#allSa = [np.array([-1.37182269, -0.5820877 , -0.31279747, -0.12840494,  0.06328026]), np.array([-1.37199112, -0.58181518, -0.31903517, -0.13888345,  0.05128043]), np.array([-1.37199112, -0.58181626, -0.34149002, -0.16600186,  0.0184446 ])]"
     ],
     "language": "python",
     "metadata": {},
     "outputs": [
      {
       "output_type": "stream",
       "stream": "stdout",
       "text": [
        "[array([-1.60943791, -0.69314718, -0.51082562, -0.35667494, -0.10536052]), array([-1.44476737, -0.61299075, -0.42800993, -0.26777226,  0.        ]), array([-0.62383246, -0.32100745, -0.2008292 , -0.09482446,  0.08577916]), array([-1.60943791, -0.69314718, -0.51082562, -0.35667494, -0.10536052]), array([-1.44476737, -0.61299075, -0.42800993, -0.26777226,  0.        ]), array([-0.62383246, -0.32100745, -0.2008292 , -0.09482446,  0.08577916])]\n"
       ]
      }
     ],
     "prompt_number": 7
    },
    {
     "cell_type": "code",
     "collapsed": false,
     "input": [
      "# Combine the fragility of each building in a single lognormal curve with\n",
      "# mean = weighted_mean(means) and std = SRSS(weighted_std(means),weighted_mean(stds))\n",
      "log_meanSa, log_stSa = [],[]\n",
      "for i in range(0,len(SaT50[0])):\n",
      "    SaLS = [ele[i] for ele in allSa]\n",
      "    StdSaLS = [ele[i] for ele in allbTSa]\n",
      "    log_meanSa.append(np.average(SaLS,weights = w)) # weighted log-mean\n",
      "    log_stSa.append(np.sqrt(np.sum(w*(np.power((SaLS-log_meanSa[i]),2)+np.power(StdSaLS,2))))) # weighted log-std (dispersion)\n",
      "print \"mean_tot(ln(x)) = \", log_meanSa\n",
      "print \"std_tot(ln(x)) = \", log_stSa"
     ],
     "language": "python",
     "metadata": {},
     "outputs": [
      {
       "ename": "TypeError",
       "evalue": "Axis must be specified when shapes of a and weights differ.",
       "output_type": "pyerr",
       "traceback": [
        "\u001b[0;31m---------------------------------------------------------------------------\u001b[0m\n\u001b[0;31mTypeError\u001b[0m                                 Traceback (most recent call last)",
        "\u001b[0;32m<ipython-input-17-6c7f69cfb187>\u001b[0m in \u001b[0;36m<module>\u001b[0;34m()\u001b[0m\n\u001b[1;32m      5\u001b[0m     \u001b[0mSaLS\u001b[0m \u001b[0;34m=\u001b[0m \u001b[0;34m[\u001b[0m\u001b[0mele\u001b[0m\u001b[0;34m[\u001b[0m\u001b[0mi\u001b[0m\u001b[0;34m]\u001b[0m \u001b[0;32mfor\u001b[0m \u001b[0mele\u001b[0m \u001b[0;32min\u001b[0m \u001b[0mallSa\u001b[0m\u001b[0;34m]\u001b[0m\u001b[0;34m\u001b[0m\u001b[0m\n\u001b[1;32m      6\u001b[0m     \u001b[0mStdSaLS\u001b[0m \u001b[0;34m=\u001b[0m \u001b[0;34m[\u001b[0m\u001b[0mele\u001b[0m\u001b[0;34m[\u001b[0m\u001b[0mi\u001b[0m\u001b[0;34m]\u001b[0m \u001b[0;32mfor\u001b[0m \u001b[0mele\u001b[0m \u001b[0;32min\u001b[0m \u001b[0mallbTSa\u001b[0m\u001b[0;34m]\u001b[0m\u001b[0;34m\u001b[0m\u001b[0m\n\u001b[0;32m----> 7\u001b[0;31m     \u001b[0mlog_meanSa\u001b[0m\u001b[0;34m.\u001b[0m\u001b[0mappend\u001b[0m\u001b[0;34m(\u001b[0m\u001b[0mnp\u001b[0m\u001b[0;34m.\u001b[0m\u001b[0maverage\u001b[0m\u001b[0;34m(\u001b[0m\u001b[0mSaLS\u001b[0m\u001b[0;34m,\u001b[0m\u001b[0mweights\u001b[0m \u001b[0;34m=\u001b[0m \u001b[0mw\u001b[0m\u001b[0;34m)\u001b[0m\u001b[0;34m)\u001b[0m \u001b[0;31m# weighted log-mean\u001b[0m\u001b[0;34m\u001b[0m\u001b[0m\n\u001b[0m\u001b[1;32m      8\u001b[0m     \u001b[0mlog_stSa\u001b[0m\u001b[0;34m.\u001b[0m\u001b[0mappend\u001b[0m\u001b[0;34m(\u001b[0m\u001b[0mnp\u001b[0m\u001b[0;34m.\u001b[0m\u001b[0msqrt\u001b[0m\u001b[0;34m(\u001b[0m\u001b[0mnp\u001b[0m\u001b[0;34m.\u001b[0m\u001b[0msum\u001b[0m\u001b[0;34m(\u001b[0m\u001b[0mw\u001b[0m\u001b[0;34m*\u001b[0m\u001b[0;34m(\u001b[0m\u001b[0mnp\u001b[0m\u001b[0;34m.\u001b[0m\u001b[0mpower\u001b[0m\u001b[0;34m(\u001b[0m\u001b[0;34m(\u001b[0m\u001b[0mSaLS\u001b[0m\u001b[0;34m-\u001b[0m\u001b[0mlog_meanSa\u001b[0m\u001b[0;34m[\u001b[0m\u001b[0mi\u001b[0m\u001b[0;34m]\u001b[0m\u001b[0;34m)\u001b[0m\u001b[0;34m,\u001b[0m\u001b[0;36m2\u001b[0m\u001b[0;34m)\u001b[0m\u001b[0;34m+\u001b[0m\u001b[0mnp\u001b[0m\u001b[0;34m.\u001b[0m\u001b[0mpower\u001b[0m\u001b[0;34m(\u001b[0m\u001b[0mStdSaLS\u001b[0m\u001b[0;34m,\u001b[0m\u001b[0;36m2\u001b[0m\u001b[0;34m)\u001b[0m\u001b[0;34m)\u001b[0m\u001b[0;34m)\u001b[0m\u001b[0;34m)\u001b[0m\u001b[0;34m)\u001b[0m \u001b[0;31m# weighted log-std (dispersion)\u001b[0m\u001b[0;34m\u001b[0m\u001b[0m\n\u001b[1;32m      9\u001b[0m \u001b[0;32mprint\u001b[0m \u001b[0;34m\"mean_tot(ln(x)) = \"\u001b[0m\u001b[0;34m,\u001b[0m \u001b[0mlog_meanSa\u001b[0m\u001b[0;34m\u001b[0m\u001b[0m\n",
        "\u001b[0;32m/Library/Python/2.7/site-packages/numpy-override/numpy/lib/function_base.pyc\u001b[0m in \u001b[0;36maverage\u001b[0;34m(a, axis, weights, returned)\u001b[0m\n\u001b[1;32m    503\u001b[0m             \u001b[0;32mif\u001b[0m \u001b[0maxis\u001b[0m \u001b[0;32mis\u001b[0m \u001b[0mNone\u001b[0m \u001b[0;34m:\u001b[0m\u001b[0;34m\u001b[0m\u001b[0m\n\u001b[1;32m    504\u001b[0m                 raise TypeError(\n\u001b[0;32m--> 505\u001b[0;31m                         \u001b[0;34m\"Axis must be specified when shapes of a \"\u001b[0m\u001b[0;31m\\\u001b[0m\u001b[0;34m\u001b[0m\u001b[0m\n\u001b[0m\u001b[1;32m    506\u001b[0m                         \"and weights differ.\")\n\u001b[1;32m    507\u001b[0m             \u001b[0;32mif\u001b[0m \u001b[0mwgt\u001b[0m\u001b[0;34m.\u001b[0m\u001b[0mndim\u001b[0m \u001b[0;34m!=\u001b[0m \u001b[0;36m1\u001b[0m \u001b[0;34m:\u001b[0m\u001b[0;34m\u001b[0m\u001b[0m\n",
        "\u001b[0;31mTypeError\u001b[0m: Axis must be specified when shapes of a and weights differ."
       ]
      }
     ],
     "prompt_number": 17
    },
    {
     "cell_type": "code",
     "collapsed": false,
     "input": [
      "# Plot fragility curves\n",
      "colours = ['b','r','g','k','c','y']\n",
      "cd = os.getcwd()\n",
      "#texto = ['yielding','collapse','mod']\n",
      "Sa50 = np.exp(log_meanSa)\n",
      "bTSa = log_stSa\n",
      "for q in range(0,len(Sa50)):\n",
      "    txt = 'Damage State '+str(q+1)\n",
      "    y = stat.norm(np.log(Sa50[q]),bTSa[q]).cdf(np.log(iml))\n",
      "    plt.plot(iml,y,color=colours[q],linewidth=linew,label = txt)\n",
      "\n",
      "plt.xlabel('Spectral acceleration at T elastic, Sa(Tel) '+units[2],fontsize = fontsize)\n",
      "plt.ylabel('Probabilty of Exceedance',fontsize = fontsize)\n",
      "plt.suptitle('Fragility Curves',fontsize = fontsize)\n",
      "plt.legend(loc='lower right',frameon = False)\n",
      "plt.show()"
     ],
     "language": "python",
     "metadata": {},
     "outputs": []
    },
    {
     "cell_type": "code",
     "collapsed": false,
     "input": [
      "# Export fragility parameters (mu and cov of Sa) to csv\n",
      "# from log-mean to mean and from dispersion to cofficient of variation\n",
      "[meanSa, stSa] = from_median_to_mean(np.exp(log_meanSa),log_stSa)\n",
      "cov = np.divide(stSa,meanSa)\n",
      "output_path = cd+'/outputs/fragility_parameters.csv'\n",
      "header = ['DS', 'mean', 'coefficient of variation']\n",
      "n_lines = len(meanSa)\n",
      "DS = range(len(meanSa)+1)\n",
      "col_data = [DS[1:], meanSa, cov]\n",
      "print col_data\n",
      "print_outputs(output_path,header,n_lines,col_data)"
     ],
     "language": "python",
     "metadata": {},
     "outputs": []
    }
   ],
   "metadata": {}
  }
 ]
}