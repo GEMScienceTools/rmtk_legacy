{
 "metadata": {
  "name": "",
  "signature": "sha256:060efe065e193346c08f536d7daa669b6b5b61a2120ce70561a22a1dad42e692"
 },
 "nbformat": 3,
 "nbformat_minor": 0,
 "worksheets": [
  {
   "cells": [
    {
     "cell_type": "code",
     "collapsed": false,
     "input": [],
     "language": "python",
     "metadata": {},
     "outputs": []
    }
   ],
   "metadata": {}
  }
 ]
}