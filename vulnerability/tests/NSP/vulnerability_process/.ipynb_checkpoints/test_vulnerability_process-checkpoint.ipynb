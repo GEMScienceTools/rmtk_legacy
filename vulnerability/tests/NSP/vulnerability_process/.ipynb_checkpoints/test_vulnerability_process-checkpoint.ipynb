{
 "metadata": {
  "name": ""
 },
 "nbformat": 3,
 "nbformat_minor": 0,
 "worksheets": [
  {
   "cells": [
    {
     "cell_type": "code",
     "collapsed": false,
     "input": [
      "def clearall():\n",
      "    all = [var for var in globals() if var[0] != \"_\"]\n",
      "    for var in all:\n",
      "        del globals()[var]\n",
      "clearall()\n",
      "\n",
      "import numpy as np\n",
      "import scipy.stats as stat\n",
      "from functions.spo2ida_method import spo2ida\n",
      "from functions.simplified_method import simplified_bilinear\n",
      "from functions.DF_method import DFfragility\n",
      "from functions.spo2ida_based.spo2ida_allTfunction import spo2ida_allT\n",
      "from functions.spo2ida_based.get_spo2ida_parameters import get_spo2ida_parameters\n",
      "from functions.damage_to_loss import damage_to_loss\n",
      "from functions.get_data import read_data"
     ],
     "language": "python",
     "metadata": {},
     "outputs": [],
     "prompt_number": 22
    },
    {
     "cell_type": "code",
     "collapsed": false,
     "input": [
      "an_type = 1\n",
      "in_type = 1\n",
      "vuln = 1\n",
      "g = 9.81\n",
      "iml = np.linspace(0.1,1,10)\n",
      "plotflag = [0, 0, 0, 0]\n",
      "linew = 2\n",
      "fontsize = 10\n",
      "units = ['[m]', '[kN]', '[g]']\n",
      "N = 10\n",
      "MC = 10\n",
      "Tc = 0.5\n",
      "Td = 1.8\n",
      "st = (1./(2.*MC))\n",
      "en = (1.-(1./(2.*MC)))\n",
      "xp = np.linspace(st,en,MC)\n",
      "plot_feature = [plotflag, linew, fontsize, units, iml]\n",
      "[T, Gamma, w, dcroof, SPO, bUthd, noBlg, Tav, Sa_ratios] = read_data(in_type,an_type,linew,fontsize,units,plotflag[0])"
     ],
     "language": "python",
     "metadata": {},
     "outputs": [],
     "prompt_number": 23
    },
    {
     "cell_type": "code",
     "collapsed": false,
     "input": [
      "LR50s = []\n",
      "bLRs = []\n",
      "pw = 1\n",
      "filletstyle = 3\n",
      "\n",
      "for blg in range(0,4):\n",
      "    LRs = []\n",
      "    # Vamvatsikos and Cornell's method\n",
      "    if np.array(bUthd[blg]).any() > 0:\n",
      "    # If only some damage criteria have uncertainty\n",
      "        dc_sample = np.zeros_like(dcroof[blg])\n",
      "        # Monte Carlo realisations of damage criteria e derivation of fragility curves \n",
      "        # for each sample, mean loss ratios are computed at each IML from all samples \n",
      "        for i in range (0,MC):\n",
      "            for j in range(0,len(dcroof[blg])):\n",
      "                if bUthd[blg][j]>0:\n",
      "                    #dc_sample[j] = np.random.lognormal(np.log(dcroof[blg][j]),bUthd[blg][j],1)\n",
      "                    dc_sample[j] = stat.lognorm.ppf(xp[i],bUthd[blg][j],loc=0,scale=dcroof[blg][j])\n",
      "                else:\n",
      "                    dc_sample[j] = dcroof[blg][j]               \n",
      "            [mc,a,ac,r,mf] = get_spo2ida_parameters(SPO[blg], T[blg], Gamma[blg])\n",
      "            [idacm, idacr] = spo2ida_allT(mc,a,ac,r,mf,T[blg],pw,[0],filletstyle,N,linew,fontsize)\n",
      "            [SaT50, bTSa] = spo2ida(idacm, idacr, mf, T[blg], Gamma[blg], g, dc_sample, SPO[blg], np.zeros_like(bUthd[blg]), MC)\n",
      "            # Conversions\n",
      "            SaTlogmean_av, bTSa_av = np.log(SaT50)*Sa_ratios[blg], np.array(bTSa)*Sa_ratios[blg]                  \n",
      "            LRs.append(damage_to_loss(SaTlogmean_av,bTSa_av,iml,'NSP'))\n",
      "    else:\n",
      "    # If any damage criteria have uncertainty\n",
      "        [mc,a,ac,r,mf] = get_spo2ida_parameters(SPO[blg], T[blg], Gamma[blg])\n",
      "        r = min(0.94,r)\n",
      "        [idacm, idacr] = spo2ida_allT(mc,a,ac,r,mf,T[blg],pw,[0],filletstyle,N,linew,fontsize)\n",
      "        [SaT50, bTSa] = spo2ida(idacm, idacr, mf, T[blg], Gamma[blg], g, dcroof[blg], SPO[blg], bUthd[blg], MC)\n",
      "        # Conversions\n",
      "        SaTlogmean_av, bTSa_av = np.log(SaT50)*Sa_ratios[blg], np.array(bTSa)*Sa_ratios[blg]\n",
      "        # Reconvert to median and dispersion\n",
      "        LRs.append(damage_to_loss(SaTlogmean_av,bTSa_av,iml,'NSP'))\n",
      "    # Define Vulnerability curve for each building\n",
      "    LR50s.append(np.mean(LRs,axis = 0))\n",
      "    bLRs.append(np.std(LRs, axis = 0))"
     ],
     "language": "python",
     "metadata": {},
     "outputs": [
      {
       "ename": "IndexError",
       "evalue": "list index out of range",
       "output_type": "pyerr",
       "traceback": [
        "\u001b[0;31m---------------------------------------------------------------------------\u001b[0m\n\u001b[0;31mIndexError\u001b[0m                                Traceback (most recent call last)",
        "\u001b[0;32m<ipython-input-24-0c9fc75b7590>\u001b[0m in \u001b[0;36m<module>\u001b[0;34m()\u001b[0m\n\u001b[1;32m     16\u001b[0m                 \u001b[0;32mif\u001b[0m \u001b[0mbUthd\u001b[0m\u001b[0;34m[\u001b[0m\u001b[0mblg\u001b[0m\u001b[0;34m]\u001b[0m\u001b[0;34m[\u001b[0m\u001b[0mj\u001b[0m\u001b[0;34m]\u001b[0m\u001b[0;34m>\u001b[0m\u001b[0;36m0\u001b[0m\u001b[0;34m:\u001b[0m\u001b[0;34m\u001b[0m\u001b[0m\n\u001b[1;32m     17\u001b[0m                     \u001b[0;31m#dc_sample[j] = np.random.lognormal(np.log(dcroof[blg][j]),bUthd[blg][j],1)\u001b[0m\u001b[0;34m\u001b[0m\u001b[0;34m\u001b[0m\u001b[0m\n\u001b[0;32m---> 18\u001b[0;31m                     \u001b[0mdc_sample\u001b[0m\u001b[0;34m[\u001b[0m\u001b[0mj\u001b[0m\u001b[0;34m]\u001b[0m \u001b[0;34m=\u001b[0m \u001b[0mstat\u001b[0m\u001b[0;34m.\u001b[0m\u001b[0mlognorm\u001b[0m\u001b[0;34m.\u001b[0m\u001b[0mppf\u001b[0m\u001b[0;34m(\u001b[0m\u001b[0mxp\u001b[0m\u001b[0;34m[\u001b[0m\u001b[0mi\u001b[0m\u001b[0;34m]\u001b[0m\u001b[0;34m,\u001b[0m\u001b[0mbUthd\u001b[0m\u001b[0;34m[\u001b[0m\u001b[0mblg\u001b[0m\u001b[0;34m]\u001b[0m\u001b[0;34m[\u001b[0m\u001b[0mi\u001b[0m\u001b[0;34m]\u001b[0m\u001b[0;34m,\u001b[0m\u001b[0mloc\u001b[0m\u001b[0;34m=\u001b[0m\u001b[0;36m0\u001b[0m\u001b[0;34m,\u001b[0m\u001b[0mscale\u001b[0m\u001b[0;34m=\u001b[0m\u001b[0mdcroof\u001b[0m\u001b[0;34m[\u001b[0m\u001b[0mblg\u001b[0m\u001b[0;34m]\u001b[0m\u001b[0;34m[\u001b[0m\u001b[0mj\u001b[0m\u001b[0;34m]\u001b[0m\u001b[0;34m)\u001b[0m\u001b[0;34m\u001b[0m\u001b[0m\n\u001b[0m\u001b[1;32m     19\u001b[0m                 \u001b[0;32melse\u001b[0m\u001b[0;34m:\u001b[0m\u001b[0;34m\u001b[0m\u001b[0m\n\u001b[1;32m     20\u001b[0m                     \u001b[0mdc_sample\u001b[0m\u001b[0;34m[\u001b[0m\u001b[0mj\u001b[0m\u001b[0;34m]\u001b[0m \u001b[0;34m=\u001b[0m \u001b[0mdcroof\u001b[0m\u001b[0;34m[\u001b[0m\u001b[0mblg\u001b[0m\u001b[0;34m]\u001b[0m\u001b[0;34m[\u001b[0m\u001b[0mj\u001b[0m\u001b[0;34m]\u001b[0m\u001b[0;34m\u001b[0m\u001b[0m\n",
        "\u001b[0;31mIndexError\u001b[0m: list index out of range"
       ]
      },
      {
       "output_type": "stream",
       "stream": "stdout",
       "text": [
        "mu(LS) =  [ 0.76794131  1.52577814         nan         nan         nan]\n",
        "median IM =  [0.30359629923905929, 0.61648687596347196, 0.0, 0.0, 0.0]\n",
        "total dispersion =  [0.0, 0.1343651091408001, nan, nan, nan]\n",
        "mu(LS) =  [ 0.76794131  1.52577814         nan         nan         nan]\n",
        "median IM =  [0.30359629923905929, 0.61648687596347196, 0.0, 0.0, 0.0]\n",
        "total dispersion =  [0.0, 0.1343651091408001, nan, nan, nan]\n",
        "mu(LS) =  [ 0.76794131  1.52577814  2.13466713  2.83362893  2.83362893]\n",
        "median IM =  [0.30359629923905929, 0.61648687596347196, 0.84861800910198526, 1.0932483948977354, 1.0932483948977354]\n",
        "total dispersion =  [0.0, 0.1343651091408001, 0.21183846725709138, 0.26765448554529969, 0.26765448554529969]\n",
        "mu(LS) =  [ 0.76794131  1.52577814  2.11424041  2.80651382  2.80651382]\n",
        "median IM =  [0.30359629923905929, 0.61648687596347196, 0.84114859891368166, 1.0842119632120277, 1.0842119632120277]\n",
        "total dispersion =  [0.0, 0.1343651091408001, 0.20983945964683615, 0.26588390591403988, 0.26588390591403988]\n",
        "mu(LS) =  [ 0.76794131  1.52577814  2.19912883  2.91919756  2.91919756]\n",
        "median IM =  [0.30359629923905929, 0.61648687596347196, 0.87203035569729181, 1.1217651521387535, 1.1217651521387535]\n",
        "total dispersion =  [0.0, 0.1343651091408001, 0.21795789837165402, 0.27334210110739027, 0.27334210110739027]\n"
       ]
      },
      {
       "output_type": "stream",
       "stream": "stderr",
       "text": [
        "functions/spo2ida_method.py:48: RuntimeWarning: divide by zero encountered in log\n",
        "  bRSa = 0.5*(np.log(np.array(Rcap[0]))-np.log(np.array(Rcap[2])))\n",
        "functions/spo2ida_method.py:48: RuntimeWarning: invalid value encountered in subtract\n",
        "  bRSa = 0.5*(np.log(np.array(Rcap[0]))-np.log(np.array(Rcap[2])))\n",
        "-c:25: RuntimeWarning: divide by zero encountered in log\n",
        "/opt/local/Library/Frameworks/Python.framework/Versions/2.7/lib/python2.7/site-packages/scipy/stats/distributions.py:1336: RuntimeWarning: invalid value encountered in greater\n",
        "  cond1 = (scale > 0) & (x > self.a) & (x < self.b)\n",
        "/opt/local/Library/Frameworks/Python.framework/Versions/2.7/lib/python2.7/site-packages/scipy/stats/distributions.py:1336: RuntimeWarning: invalid value encountered in less\n",
        "  cond1 = (scale > 0) & (x > self.a) & (x < self.b)\n",
        "/opt/local/Library/Frameworks/Python.framework/Versions/2.7/lib/python2.7/site-packages/scipy/stats/distributions.py:1337: RuntimeWarning: invalid value encountered in greater_equal\n",
        "  cond2 = (x >= self.b) & cond0\n"
       ]
      }
     ],
     "prompt_number": 24
    },
    {
     "cell_type": "code",
     "collapsed": false,
     "input": [
      "# Combine the Loss Ratios of each building in a single LR for each iml, \n",
      "# with mean = mean(LRs) and std = std(LRs)\n",
      "lr = np.array(LR50s)\n",
      "bLRs = np.array(bLRs)"
     ],
     "language": "python",
     "metadata": {},
     "outputs": [],
     "prompt_number": 11
    },
    {
     "cell_type": "code",
     "collapsed": false,
     "input": [
      "LR50 = np.average(lr, axis=0, weights=w) # weighted mean\n",
      "w2 = np.array([np.repeat(ele,len(iml)) for ele in w])\n",
      "bLR = np.sqrt(np.sum(np.multiply(np.power(bLRs,2)+np.power(lr-LR50,2),w2),axis=0))"
     ],
     "language": "python",
     "metadata": {},
     "outputs": [
      {
       "ename": "ValueError",
       "evalue": "Length of weights not compatible with specified axis.",
       "output_type": "pyerr",
       "traceback": [
        "\u001b[0;31m---------------------------------------------------------------------------\u001b[0m\n\u001b[0;31mValueError\u001b[0m                                Traceback (most recent call last)",
        "\u001b[0;32m<ipython-input-13-d80ee3149252>\u001b[0m in \u001b[0;36m<module>\u001b[0;34m()\u001b[0m\n\u001b[0;32m----> 1\u001b[0;31m \u001b[0mLR50\u001b[0m \u001b[0;34m=\u001b[0m \u001b[0mnp\u001b[0m\u001b[0;34m.\u001b[0m\u001b[0maverage\u001b[0m\u001b[0;34m(\u001b[0m\u001b[0mlr\u001b[0m\u001b[0;34m,\u001b[0m \u001b[0maxis\u001b[0m\u001b[0;34m=\u001b[0m\u001b[0;36m0\u001b[0m\u001b[0;34m,\u001b[0m \u001b[0mweights\u001b[0m\u001b[0;34m=\u001b[0m\u001b[0mw\u001b[0m\u001b[0;34m)\u001b[0m \u001b[0;31m# weighted mean\u001b[0m\u001b[0;34m\u001b[0m\u001b[0m\n\u001b[0m\u001b[1;32m      2\u001b[0m \u001b[0mw2\u001b[0m \u001b[0;34m=\u001b[0m \u001b[0mnp\u001b[0m\u001b[0;34m.\u001b[0m\u001b[0marray\u001b[0m\u001b[0;34m(\u001b[0m\u001b[0;34m[\u001b[0m\u001b[0mnp\u001b[0m\u001b[0;34m.\u001b[0m\u001b[0mrepeat\u001b[0m\u001b[0;34m(\u001b[0m\u001b[0mele\u001b[0m\u001b[0;34m,\u001b[0m\u001b[0mlen\u001b[0m\u001b[0;34m(\u001b[0m\u001b[0miml\u001b[0m\u001b[0;34m)\u001b[0m\u001b[0;34m)\u001b[0m \u001b[0;32mfor\u001b[0m \u001b[0mele\u001b[0m \u001b[0;32min\u001b[0m \u001b[0mw\u001b[0m\u001b[0;34m]\u001b[0m\u001b[0;34m)\u001b[0m\u001b[0;34m\u001b[0m\u001b[0m\n\u001b[1;32m      3\u001b[0m \u001b[0mbLR\u001b[0m \u001b[0;34m=\u001b[0m \u001b[0mnp\u001b[0m\u001b[0;34m.\u001b[0m\u001b[0msqrt\u001b[0m\u001b[0;34m(\u001b[0m\u001b[0mnp\u001b[0m\u001b[0;34m.\u001b[0m\u001b[0msum\u001b[0m\u001b[0;34m(\u001b[0m\u001b[0mnp\u001b[0m\u001b[0;34m.\u001b[0m\u001b[0mmultiply\u001b[0m\u001b[0;34m(\u001b[0m\u001b[0mnp\u001b[0m\u001b[0;34m.\u001b[0m\u001b[0mpower\u001b[0m\u001b[0;34m(\u001b[0m\u001b[0mbLRs\u001b[0m\u001b[0;34m,\u001b[0m\u001b[0;36m2\u001b[0m\u001b[0;34m)\u001b[0m\u001b[0;34m+\u001b[0m\u001b[0mnp\u001b[0m\u001b[0;34m.\u001b[0m\u001b[0mpower\u001b[0m\u001b[0;34m(\u001b[0m\u001b[0mlr\u001b[0m\u001b[0;34m-\u001b[0m\u001b[0mLR50\u001b[0m\u001b[0;34m,\u001b[0m\u001b[0;36m2\u001b[0m\u001b[0;34m)\u001b[0m\u001b[0;34m,\u001b[0m\u001b[0mw2\u001b[0m\u001b[0;34m)\u001b[0m\u001b[0;34m,\u001b[0m\u001b[0maxis\u001b[0m\u001b[0;34m=\u001b[0m\u001b[0;36m0\u001b[0m\u001b[0;34m)\u001b[0m\u001b[0;34m)\u001b[0m\u001b[0;34m\u001b[0m\u001b[0m\n",
        "\u001b[0;32m/Library/Python/2.7/site-packages/numpy-override/numpy/lib/function_base.pyc\u001b[0m in \u001b[0;36maverage\u001b[0;34m(a, axis, weights, returned)\u001b[0m\n\u001b[1;32m    511\u001b[0m             \u001b[0;32mif\u001b[0m \u001b[0mwgt\u001b[0m\u001b[0;34m.\u001b[0m\u001b[0mshape\u001b[0m\u001b[0;34m[\u001b[0m\u001b[0;36m0\u001b[0m\u001b[0;34m]\u001b[0m \u001b[0;34m!=\u001b[0m \u001b[0ma\u001b[0m\u001b[0;34m.\u001b[0m\u001b[0mshape\u001b[0m\u001b[0;34m[\u001b[0m\u001b[0maxis\u001b[0m\u001b[0;34m]\u001b[0m \u001b[0;34m:\u001b[0m\u001b[0;34m\u001b[0m\u001b[0m\n\u001b[1;32m    512\u001b[0m                 raise ValueError(\n\u001b[0;32m--> 513\u001b[0;31m                         \u001b[0;34m\"Length of weights not compatible with \"\u001b[0m\u001b[0;31m\\\u001b[0m\u001b[0;34m\u001b[0m\u001b[0m\n\u001b[0m\u001b[1;32m    514\u001b[0m                         \"specified axis.\")\n\u001b[1;32m    515\u001b[0m \u001b[0;34m\u001b[0m\u001b[0m\n",
        "\u001b[0;31mValueError\u001b[0m: Length of weights not compatible with specified axis."
       ]
      }
     ],
     "prompt_number": 13
    },
    {
     "cell_type": "code",
     "collapsed": false,
     "input": [
      "print w"
     ],
     "language": "python",
     "metadata": {},
     "outputs": [
      {
       "output_type": "stream",
       "stream": "stdout",
       "text": [
        "[0.1, 0.2, 0.3, 0.3, 0.1]\n"
       ]
      }
     ],
     "prompt_number": 15
    },
    {
     "cell_type": "code",
     "collapsed": false,
     "input": [],
     "language": "python",
     "metadata": {},
     "outputs": [],
     "prompt_number": 49
    },
    {
     "cell_type": "code",
     "collapsed": false,
     "input": [],
     "language": "python",
     "metadata": {},
     "outputs": []
    }
   ],
   "metadata": {}
  }
 ]
}