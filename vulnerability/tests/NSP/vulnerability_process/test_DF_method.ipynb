{
 "metadata": {
  "name": ""
 },
 "nbformat": 3,
 "nbformat_minor": 0,
 "worksheets": [
  {
   "cells": [
    {
     "cell_type": "code",
     "collapsed": false,
     "input": [
      "# Clear existing variables\n",
      "def clearall():\n",
      "    all = [var for var in globals() if var[0] != \"_\"]\n",
      "    for var in all:\n",
      "        del globals()[var]\n",
      "clearall()\n",
      "import os\n",
      "import numpy as np\n",
      "pi = 3.141592653589793"
     ],
     "language": "python",
     "metadata": {},
     "outputs": [],
     "prompt_number": 73
    },
    {
     "cell_type": "code",
     "collapsed": false,
     "input": [
      "Gamma = [1.292]\n",
      "T = [1.612]\n",
      "Tav = [1.612]\n",
      "Sa_ratios = 1\n",
      "SPO =[[0.0422728605913, 0.113278436093, 0.123312633118, 0.290448402, 2133.26,2133.26, 939.913228223]]\n",
      "dcroof = [[0.0781,\t0.1323,\t0.1869,\t0.2448,\t0.2904]]\n",
      "noBlg = 0\n",
      "w = 1\n",
      "bUthd = [[0.,\t0.,\t0.1,\t0.2,\t0.3]]\n",
      "g=9.81\n",
      "Tc=0.5\n",
      "Td=1.8\n",
      "mc = 2.5\n",
      "a = 0.00\n",
      "ac = 2.36\n",
      "r = 0.44\n",
      "mf = 6.87"
     ],
     "language": "python",
     "metadata": {},
     "outputs": [],
     "prompt_number": 83
    },
    {
     "cell_type": "code",
     "collapsed": false,
     "input": [
      "SPO = SPO[0]\n",
      "drlim = dcroof[0]\n",
      "T = T[0]\n",
      "Gamma = Gamma[0]\n",
      "buthd = bUthd[0]\n",
      "dry = SPO[0]    \n",
      "mlim=np.array(drlim)/dry\n",
      "print mlim"
     ],
     "language": "python",
     "metadata": {},
     "outputs": [
      {
       "output_type": "stream",
       "stream": "stdout",
       "text": [
        "[ 1.84752106  3.12966755  4.42127638  5.79094948  6.86965575]\n"
       ]
      }
     ],
     "prompt_number": 84
    },
    {
     "cell_type": "code",
     "collapsed": false,
     "input": [
      "if mlim.any()>10: \n",
      "    print 'Error: mlim should be less than 10'\n",
      "if r>1 and r<0.25:\n",
      "    print 'Error: rp should be within [0.25,1]'\n",
      "if mc<1:\n",
      "    print 'Error: mc should be within [1,2.5]'\n",
      "if mc>2.5:\n",
      "    print 'Error: mc should be within [1,2.5]'\n",
      "    \n",
      "# Get the (mc50, Rmc) point\n",
      "Tdstar=Td*np.sqrt(2-r)\n",
      "R0=1\n",
      "m0=1\n",
      "# Eq. 2 and 3 in Dolsek and Fajfar (2004) \n",
      "if T<=Tc:\n",
      "    c=0.7*(T/Tc)\n",
      "elif T<=Tdstar:\n",
      "    DT=(T-Tc)/(Tdstar-Tc)\n",
      "    c=(0.7 + 0.3*DT)\n",
      "else:\n",
      "    c=1\n",
      "Rmc = c*(mc-m0) + R0\n",
      "# from Ruiz-Garcia and Miranda (2007)\n",
      "bthd_mc=1.957*(1/5.876 + 1/(11.749*(T+0.1)))*(1-np.exp(-0.739*(Rmc-1)))\n",
      "# Get median and fractiles. For lognormal: Median = mean * exp(0.5*sigma^2)\n",
      "mc50=mc/np.exp(0.5*np.power(bthd_mc,2))\n",
      "mc16=mc50*np.exp(-bthd_mc)\n",
      "mc84=mc50*np.exp(bthd_mc)"
     ],
     "language": "python",
     "metadata": {},
     "outputs": [],
     "prompt_number": 85
    },
    {
     "cell_type": "code",
     "collapsed": false,
     "input": [
      "# Now set Rmf as twice Rmc and get (mf50,Rmf) point\n",
      "Rmf=2*Rmc\n",
      "R0=Rmc\n",
      "m0=mc\n",
      "if T<=Tc:\n",
      "    c=0.7*np.sqrt(r)*(T/Tc)^(1/np.sqrt(r))\n",
      "elif T<=Tdstar:\n",
      "    c=0.7*np.sqrt(r)*(1-DT)+DT\n",
      "else:\n",
      "   c=1\n",
      "# This is the mean mu given R\n",
      "mf_mean=(Rmf-R0)/c + m0\n",
      "bthd_mf=1.957*(1/5.876 + 1/(11.749*(T + 0.1)))*(1-np.exp(-0.739*(Rmf - 1)))\n",
      "# For lognormal: Median = mean * exp(0.5*sigma^2)\n",
      "mf50=mf_mean/np.exp(0.5*np.power(bthd_mf,2))\n",
      "mf16=mf50*np.exp(-bthd_mf)\n",
      "mf84=mf50*np.exp(bthd_mf)\n",
      "print mf16, mf84"
     ],
     "language": "python",
     "metadata": {},
     "outputs": [
      {
       "output_type": "stream",
       "stream": "stdout",
       "text": [
        "3.33410617164 7.44729541224\n"
       ]
      }
     ],
     "prompt_number": 86
    },
    {
     "cell_type": "code",
     "collapsed": false,
     "input": [
      "R=[0,1,Rmc,Rmf]\n",
      "mu16=[0,1,mc16,mf16]\n",
      "mu50=[0,1,mc50,mf50]\n",
      "mu84=[0,1,mc84,mf84]\n",
      "# Now we have fractiles and can invert. Use linear extrapolation for mlim values larger than mf. \n",
      "c16 = (Rmf-Rmc)/(mf84-mc84)\n",
      "c50 = (Rmf-Rmc)/(mf50-mc50)\n",
      "c84 = (Rmf-Rmc)/(mf16-mc16)\n",
      "R16 = np.array([Rmc + c16*(x-mc84) if x>mf84 else np.interp(np.array(x),np.array(mu84),np.array(R)) for x in mlim])\n",
      "R50 = np.array([Rmc + c50*(x-mc50) if x>mf50 else np.interp(np.array(x),np.array(mu50),np.array(R)) for x in mlim])\n",
      "R84 = np.array([Rmc + c84*(x-mc16) if x>mf16 else np.interp(np.array(x),np.array(mu16),np.array(R)) for x in mlim])"
     ],
     "language": "python",
     "metadata": {},
     "outputs": [],
     "prompt_number": 87
    },
    {
     "cell_type": "code",
     "collapsed": false,
     "input": [
      "# Go to an R value at 85% of the R50 for a biased estimate of \"b\"\n",
      "Rlim = 0.85*R50\n",
      "m50Rlim = np.array([mc50+(Rlim[i]-Rmc)/c50 if mlim[i]>mf50 else np.interp(np.array(Rlim[i]),np.array(R),np.array(mu50)) for i in range(0,len(mlim))])\n",
      "b = np.log(m50Rlim)/np.log(Rlim)\n",
      "print b\n",
      "bRSa=0.5*(np.log(R84)-np.log(R16))\n",
      "bUSa=buthd/b\n",
      "\n",
      "CR50 = mlim/R50\n",
      "Sa50 = 4*np.power(pi,2)*np.array(drlim)/(g*Gamma*CR50*np.power(T,2))\n",
      "bTSa = np.sqrt(np.power(bUSa,2) + np.power(bRSa,2))\n",
      "print [Sa50, bTSa]"
     ],
     "language": "python",
     "metadata": {},
     "outputs": [
      {
       "output_type": "stream",
       "stream": "stdout",
       "text": [
        "[ 1.04480072  1.03934364  1.04262559  1.0418304   1.04070397]\n",
        "[array([ 0.09135496,  0.15147423,  0.21091096,  0.27394002,  0.32357948]), array([ 0.2158167 ,  0.31487666,  0.38478457,  0.45025789,  0.51374703])]\n"
       ]
      }
     ],
     "prompt_number": 88
    },
    {
     "cell_type": "code",
     "collapsed": false,
     "input": [],
     "language": "python",
     "metadata": {},
     "outputs": []
    }
   ],
   "metadata": {}
  }
 ]
}