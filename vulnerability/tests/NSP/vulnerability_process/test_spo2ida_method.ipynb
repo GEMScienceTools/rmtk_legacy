{
 "metadata": {
  "name": ""
 },
 "nbformat": 3,
 "nbformat_minor": 0,
 "worksheets": [
  {
   "cells": [
    {
     "cell_type": "code",
     "collapsed": false,
     "input": [
      "\"\"\"\n",
      "Created on Thu May 29 11:29:32 2014\n",
      "\n",
      "@author: chiaracasotto\n",
      "\"\"\"\n",
      "# Clear existing variables\n",
      "def clearall():\n",
      "    all = [var for var in globals() if var[0] != \"_\"]\n",
      "    for var in all:\n",
      "        del globals()[var]\n",
      "clearall()\n",
      "import numpy as np\n",
      "import scipy.stats as stat\n",
      "import os\n",
      "import csv\n",
      "import matplotlib.pyplot as plt\n",
      "pi = 3.141592653589793\n",
      "\n",
      "Gamma = 1.292\n",
      "T = 1.612\n",
      "Tav = 1.612\n",
      "Sa_ratios = 1\n",
      "SPO =[0.0422728605913, 0.113278436093, 0.123312633118, 0.290448402, 2133.26,2133.26, 939.913228223]\n",
      "dcroof = [0.0781,\t0.1323,\t0.1869,\t0.2448,\t0.2904]\n",
      "noBlg = 0\n",
      "w = 1\n",
      "bUthd = [0.,\t0.,\t0.1,\t0.2,\t0.3]\n",
      "mf = 6.87\n",
      "g = 9.81\n",
      "MC = 10\n",
      "with open('inputs/idacm.csv', 'rb') as f:\n",
      "    reader = csv.reader(f)\n",
      "    newlist = [row for row in reader]\n",
      "idacm = [[],[],[]]\n",
      "idacr = [[],[],[]]\n",
      "for i in range(0,3): \n",
      "    for ele in newlist[i]: \n",
      "        if ele is not '':\n",
      "            idacm[i].append(float(ele))\n",
      "with open('inputs/idacr.csv', 'rb') as f:\n",
      "    reader = csv.reader(f)\n",
      "    newlist = [row for row in reader]\n",
      "tmp = [[],[],[]]\n",
      "for i in range(0,len(newlist)):\n",
      "    for ele in newlist[i]:\n",
      "        if ele is not '':\n",
      "            idacr[i].append(float(ele))"
     ],
     "language": "python",
     "metadata": {},
     "outputs": [],
     "prompt_number": 73
    },
    {
     "cell_type": "code",
     "collapsed": false,
     "input": [
      "dry = SPO[0]\n",
      "mcroof = np.array(dcroof)/(dry) # ductility levels at limit states\n",
      "print \"mu(LS) = \", mcroof\n",
      "\n",
      "# Assume lognormal and do some Monte Carlo\n",
      "musample = []\n",
      "for i in range(0,len(mcroof)):\n",
      "    musample.append([])\n",
      "\n",
      "st = (1./(2.*MC))\n",
      "en = (1.-(1./(2.*MC)))\n",
      "xp = np.linspace(st,en,MC)\n",
      "for i in range(0,len(mcroof)):\n",
      "    if bUthd[i]>0:            \n",
      "        musample[i] = stat.lognorm.ppf(xp,bUthd[i],loc=0,scale=mcroof[i])\n",
      "        musample[i][musample[i]>mf]=mf\n",
      "    else:\n",
      "        musample[i] = np.repeat(mcroof[i],MC)"
     ],
     "language": "python",
     "metadata": {},
     "outputs": [
      {
       "output_type": "stream",
       "stream": "stdout",
       "text": [
        "mu(LS) =  [ 1.84752106  3.12966755  4.42127638  5.79094948  6.86965575]\n"
       ]
      }
     ],
     "prompt_number": 75
    },
    {
     "cell_type": "code",
     "collapsed": false,
     "input": [
      "Rcap = [[],[],[]]\n",
      "RcapMC = [[],[],[]]\n",
      "for j in range(0,3):\n",
      "    for i in range(0,len(mcroof)):\n",
      "        RcapMC[j].append([])\n",
      "\n",
      "# find where in ida curves ductility (i) is reached and get corresponding R for all the percentile (j)\n",
      "for i in range(0,len(mcroof)):\n",
      "    for j in range(0,3):\n",
      "        Rcap[j].append(np.interp(mcroof[i],idacm[j],idacr[j]))\n",
      "        RcapMC[j][i]=(np.interp(musample[i],idacm[j],idacr[j]))\n",
      "          # RcapMC[j][0] with j =0,1,2 are the 3 percentiles corresponding to musample ductilities"
     ],
     "language": "python",
     "metadata": {},
     "outputs": [],
     "prompt_number": 76
    },
    {
     "cell_type": "code",
     "collapsed": false,
     "input": [
      "Say = np.power(2*pi,2)*dry/(g*Gamma*np.power(T,2))\n",
      "# Step 4: Estimate Sa50 (median IM per Limit State) in m/s^2 without considering bUthd\n",
      "SaR50 = np.array(Rcap[1])*Say\n",
      "bRSa = 0.5*(np.log(np.array(Rcap[0]))-np.log(np.array(Rcap[2])))\n",
      "print SaR50, bRSa"
     ],
     "language": "python",
     "metadata": {},
     "outputs": [
      {
       "output_type": "stream",
       "stream": "stdout",
       "text": [
        "[ 0.09687395  0.14519962  0.18616901  0.23931159  0.28368259] [ 0.19077635  0.30367043  0.38192453  0.41092115  0.42108761]\n"
       ]
      }
     ],
     "prompt_number": 77
    },
    {
     "cell_type": "code",
     "collapsed": false,
     "input": [
      "#    # These are simple estimates of relatively good accuracy\n",
      "#    SaT50_0 = [np.median(RcapMC[1][i])*Say for i in range(0,len(mcroof))]\n",
      "#    bRc = [np.std(np.log(RcapMC[1][i])) for i in range(0,len(mcroof))]\n",
      "#    bTSa_0 = np.sqrt(np.power(bRSa,2) + np.power(np.array(bRc),2))\n",
      "\n",
      "Sai = []\n",
      "for i in range(0,len(mcroof)):\n",
      "    Sai.append([])\n",
      "\n",
      "# this is to compute the better estimate, still it is much different from above\n",
      "# estimates (at least for most cases that I have tried).\n",
      "SaT50=[]\n",
      "bTSa = []\n",
      "Sa = []\n",
      "for i in range(0,len(mcroof)):\n",
      "    Sa.append(np.array([]))\n",
      "    SaT50.append([])\n",
      "    bTSa.append([])\n",
      "    if bUthd[i] > 0:\n",
      "        allSa50 = [ele*Say for ele in RcapMC[1][i]]\n",
      "        allbSa50 = (np.log(RcapMC[0][i])-np.log(RcapMC[2][i]))/2      \n",
      "        for j in range(0,MC):\n",
      "            realisation = stat.lognorm.ppf(xp,allbSa50[j],loc=0,scale=allSa50[j])\n",
      "            Sai[i].append(realisation)      "
     ],
     "language": "python",
     "metadata": {},
     "outputs": [],
     "prompt_number": 78
    },
    {
     "cell_type": "code",
     "collapsed": false,
     "input": [
      "for i in range(0,len(mcroof)):\n",
      "    if len(Sai[i])>0:\n",
      "        for j in range(1,len(Sai[i])):\n",
      "            Sai[i][j] = np.concatenate((Sai[i][j-1],Sai[i][j]))\n",
      "        Sa[i] = Sai[i][-1]\n",
      "        SaT50[i] = np.median(Sa[i]) \n",
      "        bTSa[i] = np.std(np.log(Sa[i]))\n",
      "    else:\n",
      "        SaT50[i] = SaR50[i]\n",
      "        bTSa[i] = bRSa[i]\n",
      "    \n",
      "print \"median IM = \", SaT50\n",
      "print \"total dispersion = \", bTSa"
     ],
     "language": "python",
     "metadata": {},
     "outputs": [
      {
       "output_type": "stream",
       "stream": "stdout",
       "text": [
        "median IM =  [0.096873952406602112, 0.14519962239603199, 0.18578915318156902, 0.23329971657505369, 0.25168271996864244]\n",
        "total dispersion =  [0.19077634910699545, 0.30367043110998643, 0.36623812788362614, 0.41083921397676693, 0.41638323833433827]\n"
       ]
      }
     ],
     "prompt_number": 79
    },
    {
     "cell_type": "code",
     "collapsed": false,
     "input": [],
     "language": "python",
     "metadata": {},
     "outputs": []
    }
   ],
   "metadata": {}
  }
 ]
}