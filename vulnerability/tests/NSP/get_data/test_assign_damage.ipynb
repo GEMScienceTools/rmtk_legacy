{
 "metadata": {
  "name": ""
 },
 "nbformat": 3,
 "nbformat_minor": 0,
 "worksheets": [
  {
   "cells": [
    {
     "cell_type": "code",
     "collapsed": false,
     "input": [
      "\"\"\"\n",
      "Created on Thu May 29 08:32:34 2014\n",
      "\n",
      "@author: chiaracasotto\n",
      "\"\"\"\n",
      "import numpy as np\n",
      "import csv\n",
      "import os\n",
      "\n",
      "cd = os.getcwd()\n",
      "input1 = cd+'/inputs/displacements_pushover.csv' # storeys height and displacements at story levels starting from level 0\n",
      "input3 = cd+'/inputs/building_parameters.csv' # First period of vibration and partecipation factor normalised with respect to top floor\n",
      "input4 = cd+'/inputs/limits.csv' # Limit States expressed as drifts\n",
      "\n",
      "# Import building parameters\n",
      "with open(input3, 'rb') as f:\n",
      "    reader = csv.reader(f)\n",
      "    newlist = [row for row in reader]\n",
      "T = [float(ele[1]) for ele in newlist[1:]] # First period\n",
      "Gamma = [float(ele[2]) for ele in newlist[1:]] # first modal participation factor normalised with respect to the top displ., Dispersions\n",
      "w = [float(ele[3]) for ele in newlist[1:]] # weight assigned to each building if multiple buildings are input\n",
      "noStorey = [int(ele[4]) for ele in newlist[1:]]\n",
      "noBlg = len(T)\n",
      "H = []\n",
      "for i in range(1,len(newlist)):\n",
      "    H.append([float(ele) for ele in newlist[i][5:5+int(noStorey[i-1])]])"
     ],
     "language": "python",
     "metadata": {},
     "outputs": [],
     "prompt_number": 1
    },
    {
     "cell_type": "code",
     "collapsed": false,
     "input": [
      "# Import displacement\n",
      "with open(input1, 'rb') as f:\n",
      "    reader = csv.reader(f)\n",
      "    newlist = [row for row in reader]\n",
      "tmp, disp = [],[]\n",
      "tmp.append([[] for i in range(0,len(newlist))]); tmp = tmp[0]\n",
      "disp.append([[] for i in range(0,noBlg)]); disp = disp[0]\n",
      "for i in range(1,len(newlist)):        \n",
      "    for ele in newlist[i][2:]:\n",
      "        if ele is not '':\n",
      "            tmp[i-1].append(abs(float(ele)))\n",
      "    j = int((i-1)/noStorey[0])\n",
      "    disp[j].append(tmp[i-1][:])"
     ],
     "language": "python",
     "metadata": {},
     "outputs": [],
     "prompt_number": 2
    },
    {
     "cell_type": "code",
     "collapsed": false,
     "input": [
      "# Import limits\n",
      "with open(input4, 'rb') as f:\n",
      "    reader = csv.reader(f)\n",
      "    newlist = [row for row in reader]\n",
      "newlist = [ele[1:] for ele in newlist]\n",
      "limits = np.array(newlist[1::2],float) #limit states [drifts]\n",
      "bUthd = np.array(newlist[2::2],float)"
     ],
     "language": "python",
     "metadata": {},
     "outputs": [],
     "prompt_number": 3
    },
    {
     "cell_type": "code",
     "collapsed": false,
     "input": [
      "limits,H,noStorey, disp = limits[0], H[0], noStorey[0], disp[0]"
     ],
     "language": "python",
     "metadata": {},
     "outputs": [],
     "prompt_number": 4
    },
    {
     "cell_type": "code",
     "collapsed": false,
     "input": [
      "# Limits state definition\n",
      "# Assign damage state to each analysis\n",
      "disp.insert(0, np.zeros_like(disp[0]))\n",
      "H.insert(0, float(0))\n",
      "I = []\n",
      "for ls in range(0,len(limits)):\n",
      "    for i in range(0,noStorey):\n",
      "        a = np.divide(np.array(disp[i+1])-np.array(disp[i]),H[i+1]) #convert displacement to inter-storey-drift\n",
      "        b = np.nonzero(a>limits[ls]) # find where drifts exceed limit states\n",
      "        if len(b[0]) == 0: \n",
      "            find = len(a)-1\n",
      "        else:\n",
      "            find = b[0][0]\n",
      "        I.append(find)\n",
      "\n",
      "LS_index = zip(*[iter(I)]*noStorey)\n",
      "LS_global = [min(ele) for ele in LS_index]\n",
      "disp_profile = np.empty([noStorey,len(limits)])\n",
      "for i in range(0,noStorey):\n",
      "    disp_profile[i,:] = [disp[i+1][ele] for ele in LS_global]\n",
      "disp_profile = disp_profile.tolist()"
     ],
     "language": "python",
     "metadata": {},
     "outputs": [],
     "prompt_number": 5
    },
    {
     "cell_type": "code",
     "collapsed": false,
     "input": [
      "print disp_profile"
     ],
     "language": "python",
     "metadata": {},
     "outputs": [
      {
       "output_type": "stream",
       "stream": "stdout",
       "text": [
        "[[0.038503656, 0.053147388, 0.068095962, 0.08646459, 0.10261887], [0.078129396, 0.132366396, 0.186904674, 0.244871322, 0.290448402]]\n"
       ]
      }
     ],
     "prompt_number": 6
    },
    {
     "cell_type": "code",
     "collapsed": false,
     "input": [],
     "language": "python",
     "metadata": {},
     "outputs": [
      {
       "output_type": "stream",
       "stream": "stdout",
       "text": [
        "[ 0.01  0.02  0.03  0.04  0.05]\n"
       ]
      }
     ],
     "prompt_number": 34
    },
    {
     "cell_type": "code",
     "collapsed": false,
     "input": [],
     "language": "python",
     "metadata": {},
     "outputs": []
    }
   ],
   "metadata": {}
  }
 ]
}