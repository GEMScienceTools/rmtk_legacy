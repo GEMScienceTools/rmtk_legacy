{
 "metadata": {
  "name": ""
 },
 "nbformat": 3,
 "nbformat_minor": 0,
 "worksheets": [
  {
   "cells": [
    {
     "cell_type": "code",
     "collapsed": false,
     "input": [
      "def clearall():\n",
      "    all = [var for var in globals() if var[0] != \"_\"]\n",
      "    for var in all:\n",
      "        del globals()[var]\n",
      "clearall()\n",
      "import numpy as np\n",
      "import matplotlib.pyplot as plt\n",
      "from idealisation import bilinear\n",
      "from idealisation import quadrilinear\n",
      "from assign_damage import assign_damage\n",
      "import os\n",
      "import csv\n",
      "cd = os.getcwd()\n",
      "input1 = cd+'/inputs/displacements_pushover.csv' # storeys height and displacements at story levels starting from level 0\n",
      "input2 = cd+'/inputs/reactions_pushover.csv' # Base Reactions [kN]\n",
      "input3 = cd+'/inputs/building_parameters.csv' # First period of vibration and partecipation factor normalised with respect to top floor\n",
      "input4 = cd+'/inputs/limits.csv' # Limit States expressed as drifts"
     ],
     "language": "python",
     "metadata": {},
     "outputs": [],
     "prompt_number": 197
    },
    {
     "cell_type": "code",
     "collapsed": false,
     "input": [
      "with open(input3, 'rb') as f:\n",
      "    reader = csv.reader(f)\n",
      "    newlist = [row for row in reader]\n",
      "T = [float(ele[1]) for ele in newlist[1:]] # First period\n",
      "Gamma = [float(ele[2]) for ele in newlist[1:]] # first modal participation factor normalised with respect to the top displ., Dispersions\n",
      "w = [float(ele[3]) for ele in newlist[1:]] # weight assigned to each building if multiple buildings are input\n",
      "noStorey = [int(ele[4]) for ele in newlist[1:]]\n",
      "noBlg = len(T)\n",
      "H = []\n",
      "for i in range(1,len(newlist)):\n",
      "    H.append([float(ele) for ele in newlist[i][5:5+int(noStorey[i-1])]])\n",
      "    #H.append(np.array(newlist[i][5:5+int(noStorey[i-1])],float)) # storeys height [m]"
     ],
     "language": "python",
     "metadata": {},
     "outputs": [],
     "prompt_number": 198
    },
    {
     "cell_type": "code",
     "collapsed": false,
     "input": [
      "with open(input1, 'rb') as f:\n",
      "    reader = csv.reader(f)\n",
      "    newlist = [row for row in reader]\n",
      "tmp, disp = [],[]\n",
      "tmp.append([[] for i in range(0,len(newlist))]); tmp = tmp[0]\n",
      "disp.append([[] for i in range(0,noBlg)]); disp = disp[0]\n",
      "for i in range(1,len(newlist)):        \n",
      "    for ele in newlist[i][2:]:\n",
      "        if ele is not '':\n",
      "            tmp[i-1].append(abs(float(ele)))\n",
      "    j = int((i-1)/noStorey[0])\n",
      "    disp[j].append(tmp[i-1][:])"
     ],
     "language": "python",
     "metadata": {},
     "outputs": [],
     "prompt_number": 199
    },
    {
     "cell_type": "code",
     "collapsed": false,
     "input": [
      "with open(input4, 'rb') as f:\n",
      "    reader = csv.reader(f)\n",
      "    newlist = [row for row in reader]\n",
      "newlist = [ele[1:] for ele in newlist]\n",
      "limits = np.array(newlist[1::2],float) #limit states [drifts]\n",
      "bUthd = np.array(newlist[2::2],float)"
     ],
     "language": "python",
     "metadata": {},
     "outputs": [],
     "prompt_number": 200
    },
    {
     "cell_type": "code",
     "collapsed": false,
     "input": [
      "with open(input2, 'rb') as f:\n",
      "    reader = csv.reader(f)\n",
      "    newlist = [row for row in reader] \n",
      "react = newlist[1:]\n",
      "R, tmp = [],[]\n",
      "tmp.append([[] for i in range(0,len(react))]); tmp = tmp[0]\n",
      "for i in range(0,len(react)):\n",
      "    for ele in react[i]:\n",
      "        if ele is not '':\n",
      "            tmp[i].append(abs(float(ele)))\n",
      "    R.append(tmp[i][1:])"
     ],
     "language": "python",
     "metadata": {},
     "outputs": [],
     "prompt_number": 201
    },
    {
     "cell_type": "code",
     "collapsed": false,
     "input": [
      "droof = []\n",
      "for blg in range(0,len(disp)):\n",
      "    droof.append(disp[blg][noStorey[blg]-1]) # roof displacements"
     ],
     "language": "python",
     "metadata": {},
     "outputs": [],
     "prompt_number": 202
    },
    {
     "cell_type": "code",
     "collapsed": false,
     "input": [
      "with open(input4, 'rb') as f:\n",
      "    data = f.read()\n",
      "l = data.rstrip()\n",
      "lines = l.split('\\n')   \n",
      "newlist = [lines[i].split(',') for i in range(1, len(lines))]\n",
      "newlist = [ele[1:] for ele in newlist]\n",
      "limits = np.array(newlist[::2],float) #limit states [drifts]\n",
      "bUthd = np.array(newlist[1::2],float)\n",
      "        \n",
      "if len(limits) < noBlg:\n",
      "    limits = np.repeat(limits,noBlg,axis=0)"
     ],
     "language": "python",
     "metadata": {},
     "outputs": [],
     "prompt_number": 203
    },
    {
     "cell_type": "code",
     "collapsed": false,
     "input": [
      "blg = 2\n",
      "limits, disp,H,noStorey = limits[blg],disp[blg],H[blg],noStorey[blg]\n",
      "disp.insert(0, np.zeros_like(disp[0]))\n",
      "H.insert(0, float(0))\n",
      "I = []\n",
      "for ls in range(0,len(limits)):\n",
      "    for i in range(0,noStorey):\n",
      "        a = np.divide(np.array(disp[i+1])-np.array(disp[i]),H[i+1]) #convert displacement to inter-storey-drift\n",
      "        b = np.nonzero(a>limits[ls]) # find where drifts exceed limit states\n",
      "        if len(b[0]) == 0: \n",
      "            find = len(a)-1\n",
      "        else:\n",
      "            find = b[0][0]\n",
      "        I.append(find)\n",
      "\n",
      "LS_index = zip(*[iter(I)]*noStorey)\n",
      "LS_global = [min(ele) for ele in LS_index]\n",
      "disp_profile = np.empty([noStorey,len(limits)])\n",
      "for i in range(0,noStorey):\n",
      "    disp_profile[i,:] = [disp[i+1][ele] for ele in LS_global]\n",
      "disp_profile = disp_profile.tolist()"
     ],
     "language": "python",
     "metadata": {},
     "outputs": [
      {
       "output_type": "stream",
       "stream": "stdout",
       "text": [
        "<type 'numpy.ndarray'>\n"
       ]
      }
     ],
     "prompt_number": 196
    },
    {
     "cell_type": "code",
     "collapsed": false,
     "input": [
      "dcroof = []\n",
      "for blg in range(0,noBlg):\n",
      "    [disp_profile] = assign_damage(limits[blg],disp[blg],H[blg],noStorey[blg])\n",
      "    dcroof.append(disp_profile[noStorey[blg]-1])"
     ],
     "language": "python",
     "metadata": {},
     "outputs": [
      {
       "ename": "AttributeError",
       "evalue": "'list' object has no attribute 'tolist'",
       "output_type": "pyerr",
       "traceback": [
        "\u001b[0;31m---------------------------------------------------------------------------\u001b[0m\n\u001b[0;31mAttributeError\u001b[0m                            Traceback (most recent call last)",
        "\u001b[0;32m<ipython-input-204-3eeb6cb0a193>\u001b[0m in \u001b[0;36m<module>\u001b[0;34m()\u001b[0m\n\u001b[1;32m      1\u001b[0m \u001b[0mdcroof\u001b[0m \u001b[0;34m=\u001b[0m \u001b[0;34m[\u001b[0m\u001b[0;34m]\u001b[0m\u001b[0;34m\u001b[0m\u001b[0m\n\u001b[1;32m      2\u001b[0m \u001b[0;32mfor\u001b[0m \u001b[0mblg\u001b[0m \u001b[0;32min\u001b[0m \u001b[0mrange\u001b[0m\u001b[0;34m(\u001b[0m\u001b[0;36m0\u001b[0m\u001b[0;34m,\u001b[0m\u001b[0mnoBlg\u001b[0m\u001b[0;34m)\u001b[0m\u001b[0;34m:\u001b[0m\u001b[0;34m\u001b[0m\u001b[0m\n\u001b[0;32m----> 3\u001b[0;31m     \u001b[0;34m[\u001b[0m\u001b[0mdisp_profile\u001b[0m\u001b[0;34m]\u001b[0m \u001b[0;34m=\u001b[0m \u001b[0massign_damage\u001b[0m\u001b[0;34m(\u001b[0m\u001b[0mlimits\u001b[0m\u001b[0;34m[\u001b[0m\u001b[0mblg\u001b[0m\u001b[0;34m]\u001b[0m\u001b[0;34m,\u001b[0m\u001b[0mdisp\u001b[0m\u001b[0;34m[\u001b[0m\u001b[0mblg\u001b[0m\u001b[0;34m]\u001b[0m\u001b[0;34m,\u001b[0m\u001b[0mH\u001b[0m\u001b[0;34m[\u001b[0m\u001b[0mblg\u001b[0m\u001b[0;34m]\u001b[0m\u001b[0;34m,\u001b[0m\u001b[0mnoStorey\u001b[0m\u001b[0;34m[\u001b[0m\u001b[0mblg\u001b[0m\u001b[0;34m]\u001b[0m\u001b[0;34m)\u001b[0m\u001b[0;34m\u001b[0m\u001b[0m\n\u001b[0m\u001b[1;32m      4\u001b[0m     \u001b[0mdcroof\u001b[0m\u001b[0;34m.\u001b[0m\u001b[0mappend\u001b[0m\u001b[0;34m(\u001b[0m\u001b[0mdisp_profile\u001b[0m\u001b[0;34m[\u001b[0m\u001b[0mnoStorey\u001b[0m\u001b[0;34m[\u001b[0m\u001b[0mblg\u001b[0m\u001b[0;34m]\u001b[0m\u001b[0;34m-\u001b[0m\u001b[0;36m1\u001b[0m\u001b[0;34m]\u001b[0m\u001b[0;34m)\u001b[0m\u001b[0;34m\u001b[0m\u001b[0m\n",
        "\u001b[0;32m/Users/chiaracasotto/Documents/RMTK/NSP_v2/assign_damage.pyc\u001b[0m in \u001b[0;36massign_damage\u001b[0;34m(limits, disp, H, noStorey)\u001b[0m\n\u001b[1;32m     11\u001b[0m     \u001b[0;31m# Assign damage state to each analysis\u001b[0m\u001b[0;34m\u001b[0m\u001b[0;34m\u001b[0m\u001b[0m\n\u001b[1;32m     12\u001b[0m     \u001b[0mdisp\u001b[0m\u001b[0;34m.\u001b[0m\u001b[0minsert\u001b[0m\u001b[0;34m(\u001b[0m\u001b[0;36m0\u001b[0m\u001b[0;34m,\u001b[0m \u001b[0mnp\u001b[0m\u001b[0;34m.\u001b[0m\u001b[0mzeros_like\u001b[0m\u001b[0;34m(\u001b[0m\u001b[0mdisp\u001b[0m\u001b[0;34m[\u001b[0m\u001b[0;36m0\u001b[0m\u001b[0;34m]\u001b[0m\u001b[0;34m)\u001b[0m\u001b[0;34m)\u001b[0m\u001b[0;34m\u001b[0m\u001b[0m\n\u001b[0;32m---> 13\u001b[0;31m     \u001b[0mH\u001b[0m\u001b[0;34m.\u001b[0m\u001b[0minsert\u001b[0m\u001b[0;34m(\u001b[0m\u001b[0;36m0\u001b[0m\u001b[0;34m,\u001b[0m \u001b[0mfloat\u001b[0m\u001b[0;34m(\u001b[0m\u001b[0;36m0\u001b[0m\u001b[0;34m)\u001b[0m\u001b[0;34m)\u001b[0m\u001b[0;34m\u001b[0m\u001b[0m\n\u001b[0m\u001b[1;32m     14\u001b[0m     \u001b[0mI\u001b[0m \u001b[0;34m=\u001b[0m \u001b[0;34m[\u001b[0m\u001b[0;34m]\u001b[0m\u001b[0;34m\u001b[0m\u001b[0m\n\u001b[1;32m     15\u001b[0m     \u001b[0;32mfor\u001b[0m \u001b[0mls\u001b[0m \u001b[0;32min\u001b[0m \u001b[0mrange\u001b[0m\u001b[0;34m(\u001b[0m\u001b[0;36m0\u001b[0m\u001b[0;34m,\u001b[0m\u001b[0mlen\u001b[0m\u001b[0;34m(\u001b[0m\u001b[0mlimits\u001b[0m\u001b[0;34m)\u001b[0m\u001b[0;34m)\u001b[0m\u001b[0;34m:\u001b[0m\u001b[0;34m\u001b[0m\u001b[0m\n",
        "\u001b[0;31mAttributeError\u001b[0m: 'list' object has no attribute 'tolist'"
       ]
      }
     ],
     "prompt_number": 204
    },
    {
     "cell_type": "code",
     "collapsed": false,
     "input": [
      "SPO = []\n",
      "flag = 1\n",
      "linew = 2\n",
      "fontsize = 10\n",
      "units = ['[m]', '[kN]', '[g]']\n",
      "for blg in range(0,noBlg):\n",
      "    [dy,ds,dmin,du,Fy,Fmax,Fmin] = quadrilinear(droof[blg],R[blg],flag,linew,fontsize,units)\n",
      "    SPO.append([dy,ds,dmin,du,Fy,Fmax,Fmin]) "
     ],
     "language": "python",
     "metadata": {},
     "outputs": [],
     "prompt_number": 115
    }
   ],
   "metadata": {}
  }
 ]
}