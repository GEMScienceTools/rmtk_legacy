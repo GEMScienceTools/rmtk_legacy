{
 "metadata": {
  "name": "",
  "signature": "sha256:34388ad46c0ae38ca6fdf09309cbadb315c9e36325a828df0c2df5d0e5b59c40"
 },
 "nbformat": 3,
 "nbformat_minor": 0,
 "worksheets": [
  {
   "cells": [
    {
     "cell_type": "heading",
     "level": 1,
     "metadata": {},
     "source": [
      "Plot loss curves"
     ]
    },
    {
     "cell_type": "code",
     "collapsed": false,
     "input": [
      "%matplotlib inline\n",
      "import plot_loss_curves as plotlc"
     ],
     "language": "python",
     "metadata": {},
     "outputs": [],
     "prompt_number": 3
    },
    {
     "cell_type": "markdown",
     "metadata": {},
     "source": [
      "Please specify the file with the loss results,\n",
      "specify the list of assets for which loss curves are needed,"
     ]
    },
    {
     "cell_type": "code",
     "collapsed": false,
     "input": [
      "loss_file = 'loss-curves-1348.xml'\n",
      "assets_list = ['a1', 'a10', 'a100']\n",
      "log_scale_x = True\n",
      "log_scale_y = True\n",
      "export_png = True\n",
      "export_csv = True"
     ],
     "language": "python",
     "metadata": {},
     "outputs": [],
     "prompt_number": 4
    },
    {
     "cell_type": "code",
     "collapsed": false,
     "input": [
      "plotlc.plot_loss_curves(loss_file, assets_list, log_scale_x, log_scale_y, export_png)"
     ],
     "language": "python",
     "metadata": {},
     "outputs": [
      {
       "ename": "NameError",
       "evalue": "name 'plotlc' is not defined",
       "output_type": "pyerr",
       "traceback": [
        "\u001b[1;31m---------------------------------------------------------------------------\u001b[0m\n\u001b[1;31mNameError\u001b[0m                                 Traceback (most recent call last)",
        "\u001b[1;32m<ipython-input-1-e755b4fe7128>\u001b[0m in \u001b[0;36m<module>\u001b[1;34m()\u001b[0m\n\u001b[1;32m----> 1\u001b[1;33m \u001b[0mplotlc\u001b[0m\u001b[1;33m.\u001b[0m\u001b[0mplot_loss_curves\u001b[0m\u001b[1;33m(\u001b[0m\u001b[0mloss_file\u001b[0m\u001b[1;33m,\u001b[0m \u001b[0massets_list\u001b[0m\u001b[1;33m,\u001b[0m \u001b[0mlog_scale_x\u001b[0m\u001b[1;33m,\u001b[0m \u001b[0mlog_scale_y\u001b[0m\u001b[1;33m,\u001b[0m \u001b[0mexport_png\u001b[0m\u001b[1;33m)\u001b[0m\u001b[1;33m\u001b[0m\u001b[0m\n\u001b[0m",
        "\u001b[1;31mNameError\u001b[0m: name 'plotlc' is not defined"
       ]
      }
     ],
     "prompt_number": 1
    },
    {
     "cell_type": "code",
     "collapsed": false,
     "input": [],
     "language": "python",
     "metadata": {},
     "outputs": [],
     "prompt_number": 0
    },
    {
     "cell_type": "code",
     "collapsed": false,
     "input": [],
     "language": "python",
     "metadata": {},
     "outputs": []
    }
   ],
   "metadata": {}
  }
 ]
}