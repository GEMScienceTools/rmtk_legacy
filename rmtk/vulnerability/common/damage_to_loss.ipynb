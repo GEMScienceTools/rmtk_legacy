{
 "metadata": {
  "name": ""
 },
 "nbformat": 3,
 "nbformat_minor": 0,
 "worksheets": [
  {
   "cells": [
    {
     "cell_type": "code",
     "collapsed": false,
     "input": [
      "\"\"\"\n",
      "Created on Thu Jun  5 12:26:31 2014\n",
      "\n",
      "@author: chiaracasotto\n",
      "\"\"\"\n",
      "# Clear existing variables\n",
      "def clearall():\n",
      "    all = [var for var in globals() if var[0] != \"_\"]\n",
      "    for var in all:\n",
      "        del globals()[var]\n",
      "clearall()\n",
      "\n",
      "# Import functions\n",
      "import numpy as np\n",
      "import scipy.stats as stat\n",
      "import os\n",
      "import csv\n",
      "from print_csv import print_outputs\n",
      "\n",
      "def damage_to_loss(SaT,bTSa,iml):\n",
      "    cd = os.getcwd()\n",
      "    # INPUT: SaT is the mean log(iml), bTSa is the dispersion, std(log(iml))\n",
      "    # Input consequence functions. The number of damage state considered should\n",
      "    # be the same in both fragility and consequence. \n",
      "    input2 = cd+'/consequence.csv'\n",
      "    with open(input2, 'rb') as f:\n",
      "        reader = csv.reader(f)\n",
      "        newlist = [row for row in reader]\n",
      "        loss_ratio=[float(ele) for ele in newlist[1]]\n",
      "\n",
      "    # From continuous function to dicrete\n",
      "    poe = [np.zeros_like(iml)]*len(SaT)\n",
      "    for i in range(0,len(SaT)):\n",
      "        mu = SaT[i]\n",
      "        sigma = bTSa[i]\n",
      "        if sigma == 0:\n",
      "            probability = np.zeros_like(iml)\n",
      "            probability[iml>np.exp(mu)] = 1 # check this\n",
      "            poe[i] = probability\n",
      "        else:\n",
      "            poe[i] = stat.norm(mu,sigma).cdf(np.log(iml)) # Probability of exceedance each DS\n",
      "\n",
      "    # From probability of exceedance to probability of occurance and loss ratio per damage state\n",
      "    loss_ratio_DS = [np.zeros_like(iml)]*len(SaT)\n",
      "    poo = poe\n",
      "    for i in range(0,len(SaT)-1):\n",
      "        poo[i] = poe[i]-poe[i+1] # probability of occurance of each DS\n",
      "    for i in range(0,len(SaT)):\n",
      "        loss_ratio_DS[i] = poo[i]*loss_ratio[i] # loss_ratio vs intensity measure for each DS\n",
      "\n",
      "    # Total loss_ratio\n",
      "    LR = sum(loss_ratio_DS)\n",
      "    return LR"
     ],
     "language": "python",
     "metadata": {},
     "outputs": [],
     "prompt_number": 5
    },
    {
     "cell_type": "code",
     "collapsed": false,
     "input": [
      "plotflag = [0, 0, 1, 1]\n",
      "linew = 2\n",
      "fontsize = 10\n",
      "units = ['[m]', '[kN]', '[g]']\n",
      "iml = np.linspace(0.05,2,25)\n",
      "plot_feature = [plotflag, linew, fontsize, units, iml]\n",
      "with open('fragility.csv', 'rb') as f:\n",
      "    reader = csv.reader(f)\n",
      "    newlist = [row for row in reader]\n",
      "    Sa = [float(ele[1]) for ele in newlist[1:]] # First period\n",
      "    b = [float(ele[2]) for ele in newlist[1:]]\n"
     ],
     "language": "python",
     "metadata": {},
     "outputs": [],
     "prompt_number": 6
    },
    {
     "cell_type": "code",
     "collapsed": false,
     "input": [
      "nType = len(Sa)/3\n",
      "SaT = np.reshape(np.array(Sa),(nType,3))\n",
      "bTSa = np.reshape(np.array(b),(nType,3))\n",
      "LR = []"
     ],
     "language": "python",
     "metadata": {},
     "outputs": [],
     "prompt_number": 7
    },
    {
     "cell_type": "code",
     "collapsed": false,
     "input": [
      "for i in range(0,len(SaT)):\n",
      "    LR.append(damage_to_loss(SaT[i],bTSa[i],iml))\n",
      "bLR = np.zeros_like(LR)\n"
     ],
     "language": "python",
     "metadata": {},
     "outputs": [],
     "prompt_number": 8
    },
    {
     "cell_type": "code",
     "collapsed": false,
     "input": [
      "# Export discrete vulnerability curve to csv\n",
      "output_file = './vulnerability_curve.csv'\n",
      "header = ['Intensity Measure Level','mean Loss Ratio','coefficient of variation Loss Ratio']\n",
      "n_lines = len(LR)\n",
      "col_data = [iml, LR, bLR] # mean and coefficient of variation of LR"
     ],
     "language": "python",
     "metadata": {},
     "outputs": [],
     "prompt_number": 9
    },
    {
     "cell_type": "code",
     "collapsed": false,
     "input": [
      "import pandas as pd\n",
      "col_data = pd.DataFrame(columns = np.arange(len(LR)+1),index = np.arange(len(LR[0])))"
     ],
     "language": "python",
     "metadata": {},
     "outputs": [],
     "prompt_number": 10
    },
    {
     "cell_type": "code",
     "collapsed": false,
     "input": [
      "col_data.iloc[:,0] = iml\n",
      "for i in range(0,len(LR)):\n",
      "    col_data.iloc[:,i+1] = LR[i]"
     ],
     "language": "python",
     "metadata": {},
     "outputs": [],
     "prompt_number": 11
    },
    {
     "cell_type": "code",
     "collapsed": false,
     "input": [
      "exp = col_data.transpose()\n",
      "exp.to_csv('vulnerability_model.csv')"
     ],
     "language": "python",
     "metadata": {},
     "outputs": [],
     "prompt_number": 12
    },
    {
     "cell_type": "code",
     "collapsed": false,
     "input": [],
     "language": "python",
     "metadata": {},
     "outputs": []
    }
   ],
   "metadata": {}
  }
 ]
}