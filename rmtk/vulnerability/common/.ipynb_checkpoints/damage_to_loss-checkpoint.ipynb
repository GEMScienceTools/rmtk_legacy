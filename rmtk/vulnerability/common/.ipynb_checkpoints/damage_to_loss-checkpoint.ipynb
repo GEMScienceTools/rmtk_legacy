{
 "metadata": {
  "name": ""
 },
 "nbformat": 3,
 "nbformat_minor": 0,
 "worksheets": [
  {
   "cells": [
    {
     "cell_type": "code",
     "collapsed": false,
     "input": [
      "\"\"\"\n",
      "Created on Thu Jun  5 12:26:31 2014\n",
      "\n",
      "@author: chiaracasotto\n",
      "\"\"\"\n",
      "# Clear existing variables\n",
      "def clearall():\n",
      "    all = [var for var in globals() if var[0] != \"_\"]\n",
      "    for var in all:\n",
      "        del globals()[var]\n",
      "clearall()\n",
      "\n",
      "# Import functions\n",
      "import numpy as np\n",
      "import scipy.stats as stat\n",
      "import os\n",
      "import csv\n",
      "from print_csv import print_outputs\n",
      "\n",
      "def damage_to_loss(SaT,bTSa,iml):\n",
      "    cd = os.getcwd()\n",
      "    # INPUT: SaT is the mean log(iml), bTSa is the dispersion, std(log(iml))\n",
      "    # Input consequence functions. The number of damage state considered should\n",
      "    # be the same in both fragility and consequence. \n",
      "    input2 = cd+'/consequence.csv'\n",
      "    with open(input2, 'rb') as f:\n",
      "        reader = csv.reader(f)\n",
      "        newlist = [row for row in reader]\n",
      "        loss_ratio=[float(ele) for ele in newlist[1]]\n",
      "\n",
      "    # From continuous function to dicrete\n",
      "    poe = [np.zeros_like(iml)]*len(SaT)\n",
      "    for i in range(0,len(SaT)):\n",
      "        mu = SaT[i]\n",
      "        sigma = bTSa[i]\n",
      "        if sigma == 0:\n",
      "            probability = np.zeros_like(iml)\n",
      "            probability[iml>np.exp(mu)] = 1 # check this\n",
      "            poe[i] = probability\n",
      "        else:\n",
      "            poe[i] = stat.norm(mu,sigma).cdf(np.log(iml)) # Probability of exceedance each DS\n",
      "\n",
      "    # From probability of exceedance to probability of occurance and loss ratio per damage state\n",
      "    loss_ratio_DS = [np.zeros_like(iml)]*len(SaT)\n",
      "    poo = poe\n",
      "    for i in range(0,len(SaT)-1):\n",
      "        poo[i] = poe[i]-poe[i+1] # probability of occurance of each DS\n",
      "    for i in range(0,len(SaT)):\n",
      "        loss_ratio_DS[i] = poo[i]*loss_ratio[i] # loss_ratio vs intensity measure for each DS\n",
      "\n",
      "    # Total loss_ratio\n",
      "    LR = sum(loss_ratio_DS)\n",
      "    return LR"
     ],
     "language": "python",
     "metadata": {},
     "outputs": [],
     "prompt_number": 1
    },
    {
     "cell_type": "code",
     "collapsed": false,
     "input": [
      "plotflag = [0, 0, 1, 1]\n",
      "linew = 2\n",
      "fontsize = 10\n",
      "units = ['[m]', '[kN]', '[g]']\n",
      "iml = np.linspace(0.05,2,25)\n",
      "plot_feature = [plotflag, linew, fontsize, units, iml]\n",
      "with open('fragility.csv', 'rb') as f:\n",
      "    reader = csv.reader(f)\n",
      "    newlist = [row for row in reader]\n",
      "    Sa = [float(ele[1]) for ele in newlist[1:]] # First period\n",
      "    b = [float(ele[2]) for ele in newlist[1:]]\n"
     ],
     "language": "python",
     "metadata": {},
     "outputs": [],
     "prompt_number": 2
    },
    {
     "cell_type": "code",
     "collapsed": false,
     "input": [
      "nType = len(Sa)/3\n",
      "SaT = np.reshape(np.array(Sa),(nType,3))\n",
      "bTSa = np.reshape(np.array(Sa),(nType,3))\n",
      "LR = []"
     ],
     "language": "python",
     "metadata": {},
     "outputs": [],
     "prompt_number": 3
    },
    {
     "cell_type": "code",
     "collapsed": false,
     "input": [
      "for i in range(0,len(SaT)):\n",
      "    LR.append(damage_to_loss(SaT[i],bTSa[i],iml))\n",
      "bLR = np.zeros_like(LR)\n"
     ],
     "language": "python",
     "metadata": {},
     "outputs": [
      {
       "ename": "IOError",
       "evalue": "[Errno 2] No such file or directory: '/Users/chiaracasotto/GitHub/RMTK/rmtk/vulnerability/commonconsequence.csv'",
       "output_type": "pyerr",
       "traceback": [
        "\u001b[0;31m---------------------------------------------------------------------------\u001b[0m\n\u001b[0;31mIOError\u001b[0m                                   Traceback (most recent call last)",
        "\u001b[0;32m<ipython-input-4-f81c3f6c396a>\u001b[0m in \u001b[0;36m<module>\u001b[0;34m()\u001b[0m\n\u001b[1;32m      1\u001b[0m \u001b[0;32mfor\u001b[0m \u001b[0mi\u001b[0m \u001b[0;32min\u001b[0m \u001b[0mrange\u001b[0m\u001b[0;34m(\u001b[0m\u001b[0;36m0\u001b[0m\u001b[0;34m,\u001b[0m\u001b[0mlen\u001b[0m\u001b[0;34m(\u001b[0m\u001b[0mSaT\u001b[0m\u001b[0;34m)\u001b[0m\u001b[0;34m)\u001b[0m\u001b[0;34m:\u001b[0m\u001b[0;34m\u001b[0m\u001b[0m\n\u001b[0;32m----> 2\u001b[0;31m     \u001b[0mLR\u001b[0m\u001b[0;34m.\u001b[0m\u001b[0mappend\u001b[0m\u001b[0;34m(\u001b[0m\u001b[0mdamage_to_loss\u001b[0m\u001b[0;34m(\u001b[0m\u001b[0mSaT\u001b[0m\u001b[0;34m[\u001b[0m\u001b[0mi\u001b[0m\u001b[0;34m]\u001b[0m\u001b[0;34m,\u001b[0m\u001b[0mbTSa\u001b[0m\u001b[0;34m[\u001b[0m\u001b[0mi\u001b[0m\u001b[0;34m]\u001b[0m\u001b[0;34m,\u001b[0m\u001b[0miml\u001b[0m\u001b[0;34m)\u001b[0m\u001b[0;34m)\u001b[0m\u001b[0;34m\u001b[0m\u001b[0m\n\u001b[0m\u001b[1;32m      3\u001b[0m \u001b[0mbLR\u001b[0m \u001b[0;34m=\u001b[0m \u001b[0mnp\u001b[0m\u001b[0;34m.\u001b[0m\u001b[0mzeros_like\u001b[0m\u001b[0;34m(\u001b[0m\u001b[0mLR\u001b[0m\u001b[0;34m)\u001b[0m\u001b[0;34m\u001b[0m\u001b[0m\n",
        "\u001b[0;32m<ipython-input-1-e56637fb9253>\u001b[0m in \u001b[0;36mdamage_to_loss\u001b[0;34m(SaT, bTSa, iml)\u001b[0m\n\u001b[1;32m     24\u001b[0m     \u001b[0;31m# be the same in both fragility and consequence.\u001b[0m\u001b[0;34m\u001b[0m\u001b[0;34m\u001b[0m\u001b[0m\n\u001b[1;32m     25\u001b[0m     \u001b[0minput2\u001b[0m \u001b[0;34m=\u001b[0m \u001b[0mcd\u001b[0m\u001b[0;34m+\u001b[0m\u001b[0;34m'consequence.csv'\u001b[0m\u001b[0;34m\u001b[0m\u001b[0m\n\u001b[0;32m---> 26\u001b[0;31m     \u001b[0;32mwith\u001b[0m \u001b[0mopen\u001b[0m\u001b[0;34m(\u001b[0m\u001b[0minput2\u001b[0m\u001b[0;34m,\u001b[0m \u001b[0;34m'rb'\u001b[0m\u001b[0;34m)\u001b[0m \u001b[0;32mas\u001b[0m \u001b[0mf\u001b[0m\u001b[0;34m:\u001b[0m\u001b[0;34m\u001b[0m\u001b[0m\n\u001b[0m\u001b[1;32m     27\u001b[0m         \u001b[0mreader\u001b[0m \u001b[0;34m=\u001b[0m \u001b[0mcsv\u001b[0m\u001b[0;34m.\u001b[0m\u001b[0mreader\u001b[0m\u001b[0;34m(\u001b[0m\u001b[0mf\u001b[0m\u001b[0;34m)\u001b[0m\u001b[0;34m\u001b[0m\u001b[0m\n\u001b[1;32m     28\u001b[0m         \u001b[0mnewlist\u001b[0m \u001b[0;34m=\u001b[0m \u001b[0;34m[\u001b[0m\u001b[0mrow\u001b[0m \u001b[0;32mfor\u001b[0m \u001b[0mrow\u001b[0m \u001b[0;32min\u001b[0m \u001b[0mreader\u001b[0m\u001b[0;34m]\u001b[0m\u001b[0;34m\u001b[0m\u001b[0m\n",
        "\u001b[0;31mIOError\u001b[0m: [Errno 2] No such file or directory: '/Users/chiaracasotto/GitHub/RMTK/rmtk/vulnerability/commonconsequence.csv'"
       ]
      }
     ],
     "prompt_number": 4
    },
    {
     "cell_type": "code",
     "collapsed": false,
     "input": [
      "# Export discrete vulnerability curve to csv\n",
      "output_file = './vulnerability_curve.csv'\n",
      "header = ['Intensity Measure Level','mean Loss Ratio','coefficient of variation Loss Ratio']\n",
      "n_lines = len(LR)\n",
      "col_data = [iml, LR, bLR] # mean and coefficient of variation of LR"
     ],
     "language": "python",
     "metadata": {},
     "outputs": [],
     "prompt_number": 6
    },
    {
     "cell_type": "code",
     "collapsed": false,
     "input": [
      "import pandas as pd\n",
      "col_data = pd.DataFrame(columns = np.arange(len(LR)+1),index = np.arange(len(LR[0])))"
     ],
     "language": "python",
     "metadata": {},
     "outputs": [],
     "prompt_number": "*"
    },
    {
     "cell_type": "code",
     "collapsed": false,
     "input": [
      "col_data.iloc[:,0] = iml\n",
      "for i in range(0,len(LR)):\n",
      "    col_data.iloc[:,i+1] = LR[i]"
     ],
     "language": "python",
     "metadata": {},
     "outputs": [],
     "prompt_number": 44
    },
    {
     "cell_type": "code",
     "collapsed": false,
     "input": [
      "exp = col_data.transpose()\n",
      "exp.to_csv('outputs/vulnerability_model.csv')"
     ],
     "language": "python",
     "metadata": {},
     "outputs": [],
     "prompt_number": 45
    },
    {
     "cell_type": "code",
     "collapsed": false,
     "input": [],
     "language": "python",
     "metadata": {},
     "outputs": []
    }
   ],
   "metadata": {}
  }
 ]
}