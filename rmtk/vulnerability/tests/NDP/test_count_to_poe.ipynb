{
 "metadata": {
  "name": ""
 },
 "nbformat": 3,
 "nbformat_minor": 0,
 "worksheets": [
  {
   "cells": [
    {
     "cell_type": "code",
     "collapsed": false,
     "input": [
      "# Clear existing variables\n",
      "def clearall():\n",
      "    all = [var for var in globals() if var[0] != \"_\"]\n",
      "    for var in all:\n",
      "        del globals()[var]\n",
      "clearall()\n",
      "import numpy as np\n",
      "\n",
      "dcm = np.matrix([[  30.,   16.,   54.],\n",
      "        [  54.,   15.,   31.],\n",
      "        [  59.,   10.,   31.],\n",
      "        [  24.,   26.,   50.],\n",
      "        [  58.,    5.,   37.],\n",
      "        [ 100.,    0.,    0.],\n",
      "        [  30.,   24.,   46.],\n",
      "        [   7.,   35.,   58.],\n",
      "        [   0.,    0.,  100.],\n",
      "        [   0.,    5.,   95.],\n",
      "        [   0.,    0.,  100.],\n",
      "        [   0.,   12.,   88.],\n",
      "        [   4.,   24.,   72.],\n",
      "        [  76.,   16.,    8.],\n",
      "        [  10.,   25.,   65.],\n",
      "        [  40.,   17.,   43.],\n",
      "        [  80.,    4.,   16.],\n",
      "        [   4.,   37.,   59.],\n",
      "        [  19.,   40.,   41.],\n",
      "        [   1.,   39.,   60.],\n",
      "        [  95.,    5.,    0.]])\n",
      "totblg = 100\n",
      "dpm = np.matrix(np.empty([dcm.shape[0],dcm.shape[1]]))\n",
      "fr = np.matrix(np.empty([dcm.shape[0],dcm.shape[1]])) #change here dimensions"
     ],
     "language": "python",
     "metadata": {},
     "outputs": [],
     "prompt_number": 3
    },
    {
     "cell_type": "code",
     "collapsed": false,
     "input": [
      "for line in range(0,dcm.shape[0]):\n",
      "    for ls in range(0,dcm.shape[1]):\n",
      "        dpm[line,ls] = np.divide(dcm[line,ls],totblg) # probability of occurance of damage\n",
      "        acc = -dpm[line,:ls]\n",
      "        cc = acc.tolist()\n",
      "        cdm = [1]+cc[0]\n",
      "        fr[line,ls] = sum(cdm) # probability of exceedance of damage\n",
      "        fr = fr.round(5)\n",
      "        fr = fr.__abs__()\n",
      "print fr"
     ],
     "language": "python",
     "metadata": {},
     "outputs": [
      {
       "output_type": "stream",
       "stream": "stdout",
       "text": [
        "[[ 1.    0.7   0.54]\n",
        " [ 1.    0.46  0.31]\n",
        " [ 1.    0.41  0.31]\n",
        " [ 1.    0.76  0.5 ]\n",
        " [ 1.    0.42  0.37]\n",
        " [ 1.    0.    0.  ]\n",
        " [ 1.    0.7   0.46]\n",
        " [ 1.    0.93  0.58]\n",
        " [ 1.    1.    1.  ]\n",
        " [ 1.    1.    0.95]\n",
        " [ 1.    1.    1.  ]\n",
        " [ 1.    1.    0.88]\n",
        " [ 1.    0.96  0.72]\n",
        " [ 1.    0.24  0.08]\n",
        " [ 1.    0.9   0.65]\n",
        " [ 1.    0.6   0.43]\n",
        " [ 1.    0.2   0.16]\n",
        " [ 1.    0.96  0.59]\n",
        " [ 1.    0.81  0.41]\n",
        " [ 1.    0.99  0.6 ]\n",
        " [ 1.    0.05  0.  ]]\n"
       ]
      }
     ],
     "prompt_number": 4
    },
    {
     "cell_type": "code",
     "collapsed": false,
     "input": [],
     "language": "python",
     "metadata": {},
     "outputs": []
    }
   ],
   "metadata": {}
  }
 ]
}