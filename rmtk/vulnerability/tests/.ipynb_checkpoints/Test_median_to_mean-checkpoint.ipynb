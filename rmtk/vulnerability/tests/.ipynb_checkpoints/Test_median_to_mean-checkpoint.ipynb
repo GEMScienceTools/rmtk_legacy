{
 "metadata": {
  "name": ""
 },
 "nbformat": 3,
 "nbformat_minor": 0,
 "worksheets": [
  {
   "cells": [
    {
     "cell_type": "code",
     "collapsed": false,
     "input": [
      "from conversions import from_median_to_mean\n",
      "# variables\n",
      "log_meanSa, log_stSa = 0.602266747732, 0.757685228737"
     ],
     "language": "python",
     "metadata": {},
     "outputs": [],
     "prompt_number": 1
    },
    {
     "cell_type": "code",
     "collapsed": false,
     "input": [
      "[meanSa, stSa] = from_median_to_mean(np.exp(log_meanSa),log_stSa)\n",
      "cov = np.divide(stSa,meanSa)\n",
      "print meanSa, stSa, cov"
     ],
     "language": "python",
     "metadata": {},
     "outputs": []
    }
   ],
   "metadata": {}
  }
 ]
}