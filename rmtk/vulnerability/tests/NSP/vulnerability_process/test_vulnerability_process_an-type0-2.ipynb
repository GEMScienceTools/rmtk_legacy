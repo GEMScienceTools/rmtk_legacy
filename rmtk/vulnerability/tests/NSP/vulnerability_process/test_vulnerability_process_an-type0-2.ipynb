{
 "metadata": {
  "name": ""
 },
 "nbformat": 3,
 "nbformat_minor": 0,
 "worksheets": [
  {
   "cells": [
    {
     "cell_type": "code",
     "collapsed": false,
     "input": [
      "\"\"\"\n",
      "Created on Mon Sep 22 18:16:12 2014\n",
      "\n",
      "@author: chiaracasotto\n",
      "\"\"\"\n",
      "def clearall():\n",
      "    all = [var for var in globals() if var[0] != \"_\"]\n",
      "    for var in all:\n",
      "        del globals()[var]\n",
      "clearall()\n",
      "\n",
      "import numpy as np\n",
      "from functions.simplified_method import simplified_bilinear\n",
      "from functions.DF_method import DFfragility\n",
      "from functions.damage_to_loss import damage_to_loss\n",
      "\n",
      "an_type = 0\n",
      "Gamma = [1.292]\n",
      "T = [1.612]\n",
      "Tav = [1.612]\n",
      "Sa_ratios = [1]\n",
      "SPO=[[0.0422728605913,0.113278436093,0.123312633118,0.290448402,2133.26,2133.26,939.913228223]]\n",
      "dcroof=[[0.0781,\t0.1323,\t0.1869,\t0.2448,\t0.2904]]\n",
      "w=1;\n",
      "bUthd=[[0.,\t0.,\t0.1,\t0.2,\t0.3]]\n",
      "noBlg = 1\n",
      "g = 9.81;\n",
      "mf = 6.87\n",
      "MC = 10;\n",
      "Tc = 0.5\n",
      "Td = 1.8\n",
      "plotflag = [0, 1, 0, 0]\n",
      "linew = 2\n",
      "fontsize = 10\n",
      "iml = np.linspace(0.1,1,10)\n",
      "units = ['[m]', '[kN]', '[g]']\n",
      "\n",
      "mc = 2.5\n",
      "a = 0.00\n",
      "ac = 2.36\n",
      "r = 0.44\n",
      "\n",
      "LR50s = []\n",
      "bLRs = []"
     ],
     "language": "python",
     "metadata": {},
     "outputs": [],
     "prompt_number": 1
    },
    {
     "cell_type": "code",
     "collapsed": false,
     "input": [
      "#if an_type != 1:\n",
      "blg = 0\n",
      "LRs = []\n",
      "if an_type == 0:\n",
      "    # Ruiz-Garcia Miranda's method the uncertainty in the damage criteria is already included in the total dispersion in a simplified way\n",
      "    SaT50 = [0.093,\t0.157,\t0.221,\t0.287,\t0.339]\n",
      "    bTSa = [0.1901,\t0.3307,\t0.3993,\t0.4548,\t0.5113]\n",
      "else:\n",
      "    #[mc,a,ac,r,mf] = get_spo2ida_parameters(SPO[blg], T[blg], Gamma[blg]) # Convert MDoF into SDoF\n",
      "    [SaT50,bTSa] = DFfragility(T[blg], Gamma[blg], dcroof[blg], SPO[blg], bUthd[blg], mc, r, g, Tc, Td)\n",
      "# Conversions\n",
      "SaTlogmean_av, bTSa_av = np.log(SaT50)*Sa_ratios[blg], np.array(bTSa)*Sa_ratios[blg]\n",
      "LR50 = damage_to_loss(SaTlogmean_av,bTSa_av,iml,'NSP')\n",
      "LRs.append(LR50)"
     ],
     "language": "python",
     "metadata": {},
     "outputs": [
      {
       "output_type": "stream",
       "stream": "stdout",
       "text": [
        "[array([ 0.64867663,  0.99997187,  1.        ,  1.        ,  1.        ,\n",
        "        1.        ,  1.        ,  1.        ,  1.        ,  1.        ]), array([ 0.08628339,  0.76791494,  0.97488962,  0.99765799,  0.99976977,\n",
        "        0.99997483,  0.99999691,  0.99999958,  0.99999994,  0.99999999]), array([ 0.02351907,  0.40127398,  0.77797999,  0.93134124,  0.97955737,\n",
        "        0.99381299,  0.99805747,  0.99936297,  0.99978155,  0.99992177]), array([ 0.01021955,  0.21356338,  0.53879802,  0.76729035,  0.88888   ,\n",
        "        0.94754224,  0.97502652,  0.98790263,  0.99401454,  0.99697135]), array([ 0.00847714,  0.15102637,  0.40553995,  0.6268853 ,  0.77638439,\n",
        "        0.86792231,  0.92192084,  0.95345045,  0.97190967,  0.98281465])]\n"
       ]
      }
     ],
     "prompt_number": 2
    },
    {
     "cell_type": "code",
     "collapsed": false,
     "input": [
      "# Define Vulnerability curve for each building\n",
      "LR50s.append(np.mean(LRs,axis = 0))\n",
      "bLRs.append(np.std(LRs, axis = 0))"
     ],
     "language": "python",
     "metadata": {},
     "outputs": [],
     "prompt_number": 16
    },
    {
     "cell_type": "code",
     "collapsed": false,
     "input": [
      "print LRs"
     ],
     "language": "python",
     "metadata": {},
     "outputs": [
      {
       "output_type": "stream",
       "stream": "stdout",
       "text": [
        "[array([ 0.0914152 ,  0.42185556,  0.67999551,  0.82732351,  0.90655674,\n",
        "        0.94864271,  0.97119243,  0.98348817,  0.99033211,  0.99422302])]\n"
       ]
      }
     ],
     "prompt_number": 17
    },
    {
     "cell_type": "code",
     "collapsed": false,
     "input": [
      "print LR50s"
     ],
     "language": "python",
     "metadata": {},
     "outputs": [
      {
       "output_type": "stream",
       "stream": "stdout",
       "text": [
        "[array([ 0.09606938,  0.45208575,  0.70945065,  0.84814789,  0.91980728,\n",
        "        0.9567676 ,  0.97613273,  0.98650345,  0.99218945,  0.9953805 ])]\n"
       ]
      }
     ],
     "prompt_number": 13
    }
   ],
   "metadata": {}
  }
 ]
}