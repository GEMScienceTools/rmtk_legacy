{
 "metadata": {
  "name": ""
 },
 "nbformat": 3,
 "nbformat_minor": 0,
 "worksheets": [
  {
   "cells": [
    {
     "cell_type": "code",
     "collapsed": false,
     "input": [
      "\"\"\"\n",
      "Created on Wed May 28 15:23:24 2014\n",
      "\n",
      "@author: chiaracasotto\n",
      "\"\"\"\n",
      "import numpy as np\n",
      "import matplotlib.pyplot as plt\n",
      "from idealisation import bilinear\n",
      "from idealisation import quadrilinear\n",
      "import os\n",
      "import csv\n",
      "\n",
      "cd = os.getcwd()\n",
      "input1 = cd+'/NSP/inputs/displacements_pushover.csv' # storeys height and displacements at story levels starting from level 0\n",
      "input2 = cd+'/NSP/inputs/reactions_pushover.csv' # Base Reactions [kN]\n",
      "input3 = cd+'/NSP/inputs/building_parameters.csv' # First period of vibration and partecipation factor normalised with respect to top floor\n",
      "input4 = cd+'/NSP/inputs/limits.csv' # Limit States expressed as drifts"
     ],
     "language": "python",
     "metadata": {},
     "outputs": [
      {
       "ename": "ImportError",
       "evalue": "No module named idealisation",
       "output_type": "pyerr",
       "traceback": [
        "\u001b[0;31m---------------------------------------------------------------------------\u001b[0m\n\u001b[0;31mImportError\u001b[0m                               Traceback (most recent call last)",
        "\u001b[0;32m<ipython-input-3-8dbb8899e4d8>\u001b[0m in \u001b[0;36m<module>\u001b[0;34m()\u001b[0m\n\u001b[1;32m      6\u001b[0m \u001b[0;32mimport\u001b[0m \u001b[0mnumpy\u001b[0m \u001b[0;32mas\u001b[0m \u001b[0mnp\u001b[0m\u001b[0;34m\u001b[0m\u001b[0m\n\u001b[1;32m      7\u001b[0m \u001b[0;32mimport\u001b[0m \u001b[0mmatplotlib\u001b[0m\u001b[0;34m.\u001b[0m\u001b[0mpyplot\u001b[0m \u001b[0;32mas\u001b[0m \u001b[0mplt\u001b[0m\u001b[0;34m\u001b[0m\u001b[0m\n\u001b[0;32m----> 8\u001b[0;31m \u001b[0;32mfrom\u001b[0m \u001b[0midealisation\u001b[0m \u001b[0;32mimport\u001b[0m \u001b[0mbilinear\u001b[0m\u001b[0;34m\u001b[0m\u001b[0m\n\u001b[0m\u001b[1;32m      9\u001b[0m \u001b[0;32mfrom\u001b[0m \u001b[0midealisation\u001b[0m \u001b[0;32mimport\u001b[0m \u001b[0mquadrilinear\u001b[0m\u001b[0;34m\u001b[0m\u001b[0m\n\u001b[1;32m     10\u001b[0m \u001b[0;32mimport\u001b[0m \u001b[0mos\u001b[0m\u001b[0;34m\u001b[0m\u001b[0m\n",
        "\u001b[0;31mImportError\u001b[0m: No module named idealisation"
       ]
      }
     ],
     "prompt_number": 3
    },
    {
     "cell_type": "code",
     "collapsed": false,
     "input": [
      "with open(input3, 'rb') as f:\n",
      "    reader = csv.reader(f)\n",
      "    newlist = [row for row in reader]\n",
      "T = [float(ele[1]) for ele in newlist[1:]] # First period\n",
      "Gamma = [float(ele[2]) for ele in newlist[1:]] # first modal participation factor normalised with respect to the top displ., Dispersions\n",
      "w = [float(ele[3]) for ele in newlist[1:]] # weight assigned to each building if multiple buildings are input\n",
      "noStorey = [int(ele[4]) for ele in newlist[1:]]\n",
      "noBlg = len(T)\n",
      "H = []\n",
      "for i in range(1,len(newlist)):\n",
      "    H.append([float(ele) for ele in newlist[i][5:5+int(noStorey[i-1])]])\n",
      "    #H.append(np.array(newlist[i][5:5+int(noStorey[i-1])],float)) # storeys height [m]\n",
      "        \n",
      "with open(input1, 'rb') as f:\n",
      "    reader = csv.reader(f)\n",
      "    newlist = [row for row in reader]\n",
      "tmp, disp = [],[]\n",
      "tmp.append([[] for i in range(0,len(newlist))]); tmp = tmp[0]\n",
      "disp.append([[] for i in range(0,noBlg)]); disp = disp[0]\n",
      "for i in range(1,len(newlist)):        \n",
      "    for ele in newlist[i][2:]:\n",
      "        if ele is not '':\n",
      "            tmp[i-1].append(ele)\n",
      "    j = int((i-1)/noStorey[0])\n",
      "    disp[j].append(abs(np.array(tmp[i-1][:],float)))\n",
      "\n",
      "with open(input2, 'rb') as f:\n",
      "    reader = csv.reader(f)\n",
      "    newlist = [row for row in reader] \n",
      "react = newlist[1:]\n",
      "R, tmp = [],[]\n",
      "tmp.append([[] for i in range(0,len(react))]); tmp = tmp[0]\n",
      "for i in range(0,len(react)):\n",
      "    for ele in react[i]:\n",
      "        if ele is not '':\n",
      "            tmp[i].append(ele)\n",
      "    R.append(abs(np.array(tmp[i][1:],float)))\n",
      "\n",
      "with open(input4, 'rb') as f:\n",
      "    reader = csv.reader(f)\n",
      "    newlist = [row for row in reader]\n",
      "newlist = [ele[1:] for ele in newlist]\n",
      "limits = np.array(newlist[1::2],float) #limit states [drifts]\n",
      "bUthd = np.array(newlist[2::2],float)\n",
      "\n",
      "if len(limits) < noBlg:\n",
      "    limits = np.repeat(limits,noBlg,axis=0)\n",
      "    bUthd = np.repeat(bUthd,noBlg,axis=0)\n",
      "bUthd = bUthd.tolist()\n",
      "limits = limits.tolist()\n",
      "    \n",
      "# Assign damage to each analysis and return displacement profile at each Limit state attainment\n",
      "droof = []\n",
      "for blg in range(0,len(disp)):\n",
      "    droof.append(disp[blg][noStorey[blg]-1]) # roof displacements  "
     ],
     "language": "python",
     "metadata": {},
     "outputs": [
      {
       "ename": "NameError",
       "evalue": "name 'input3' is not defined",
       "output_type": "pyerr",
       "traceback": [
        "\u001b[0;31m---------------------------------------------------------------------------\u001b[0m\n\u001b[0;31mNameError\u001b[0m                                 Traceback (most recent call last)",
        "\u001b[0;32m<ipython-input-2-1f25d5f3403a>\u001b[0m in \u001b[0;36m<module>\u001b[0;34m()\u001b[0m\n\u001b[0;32m----> 1\u001b[0;31m \u001b[0;32mwith\u001b[0m \u001b[0mopen\u001b[0m\u001b[0;34m(\u001b[0m\u001b[0minput3\u001b[0m\u001b[0;34m,\u001b[0m \u001b[0;34m'rb'\u001b[0m\u001b[0;34m)\u001b[0m \u001b[0;32mas\u001b[0m \u001b[0mf\u001b[0m\u001b[0;34m:\u001b[0m\u001b[0;34m\u001b[0m\u001b[0m\n\u001b[0m\u001b[1;32m      2\u001b[0m     \u001b[0mreader\u001b[0m \u001b[0;34m=\u001b[0m \u001b[0mcsv\u001b[0m\u001b[0;34m.\u001b[0m\u001b[0mreader\u001b[0m\u001b[0;34m(\u001b[0m\u001b[0mf\u001b[0m\u001b[0;34m)\u001b[0m\u001b[0;34m\u001b[0m\u001b[0m\n\u001b[1;32m      3\u001b[0m     \u001b[0mnewlist\u001b[0m \u001b[0;34m=\u001b[0m \u001b[0;34m[\u001b[0m\u001b[0mrow\u001b[0m \u001b[0;32mfor\u001b[0m \u001b[0mrow\u001b[0m \u001b[0;32min\u001b[0m \u001b[0mreader\u001b[0m\u001b[0;34m]\u001b[0m\u001b[0;34m\u001b[0m\u001b[0m\n\u001b[1;32m      4\u001b[0m \u001b[0mT\u001b[0m \u001b[0;34m=\u001b[0m \u001b[0;34m[\u001b[0m\u001b[0mfloat\u001b[0m\u001b[0;34m(\u001b[0m\u001b[0mele\u001b[0m\u001b[0;34m[\u001b[0m\u001b[0;36m1\u001b[0m\u001b[0;34m]\u001b[0m\u001b[0;34m)\u001b[0m \u001b[0;32mfor\u001b[0m \u001b[0mele\u001b[0m \u001b[0;32min\u001b[0m \u001b[0mnewlist\u001b[0m\u001b[0;34m[\u001b[0m\u001b[0;36m1\u001b[0m\u001b[0;34m:\u001b[0m\u001b[0;34m]\u001b[0m\u001b[0;34m]\u001b[0m \u001b[0;31m# First period\u001b[0m\u001b[0;34m\u001b[0m\u001b[0m\n\u001b[1;32m      5\u001b[0m \u001b[0mGamma\u001b[0m \u001b[0;34m=\u001b[0m \u001b[0;34m[\u001b[0m\u001b[0mfloat\u001b[0m\u001b[0;34m(\u001b[0m\u001b[0mele\u001b[0m\u001b[0;34m[\u001b[0m\u001b[0;36m2\u001b[0m\u001b[0;34m]\u001b[0m\u001b[0;34m)\u001b[0m \u001b[0;32mfor\u001b[0m \u001b[0mele\u001b[0m \u001b[0;32min\u001b[0m \u001b[0mnewlist\u001b[0m\u001b[0;34m[\u001b[0m\u001b[0;36m1\u001b[0m\u001b[0;34m:\u001b[0m\u001b[0;34m]\u001b[0m\u001b[0;34m]\u001b[0m \u001b[0;31m# first modal participation factor normalised with respect to the top displ., Dispersions\u001b[0m\u001b[0;34m\u001b[0m\u001b[0m\n",
        "\u001b[0;31mNameError\u001b[0m: name 'input3' is not defined"
       ]
      }
     ],
     "prompt_number": 2
    },
    {
     "cell_type": "code",
     "collapsed": false,
     "input": [
      "droof,Vb,flag,linew,fontsize,units\n",
      "#   FEMA method\n",
      "    droof = np.array(droof)\n",
      "    Fy = np.max(Vb)\n",
      "    du = np.max(droof)\n",
      "    dmax = droof[Vb == Fy]\n",
      "    Ay = 0.6*Fy\n",
      "    Ax = np.interp(Ay, Vb[droof<=dmax],droof[droof<=dmax])\n",
      "    slp = Ay/Ax\n",
      "    dy = Ax+ (Fy-Ay)/slp\n",
      "    \n",
      "    if flag:\n",
      "        # Plot pushover curve and bilinear curve\n",
      "        plt.plot(droof,Vb,color='b',label='pushover input',linewidth=linew)\n",
      "        x = np.array([0, dy,du])\n",
      "        y = np.array([0, Fy, Fy])\n",
      "        plt.plot(x,y,color='r',marker = 'o',linewidth=linew,label='bilinear idealisation')\n",
      "        plt.xlabel('roof displacement, droof '+units[0],fontsize = fontsize)\n",
      "        plt.ylabel('base shear, Vb '+units[1],fontsize = fontsize)\n",
      "        plt.suptitle('Pushover curve',fontsize = fontsize)\n",
      "        plt.legend(loc='lower right',frameon = False)\n",
      "        plt.show()\n",
      "        \n",
      "    print [dy,du,Fy]"
     ],
     "language": "python",
     "metadata": {},
     "outputs": []
    },
    {
     "cell_type": "code",
     "collapsed": false,
     "input": [],
     "language": "python",
     "metadata": {},
     "outputs": []
    }
   ],
   "metadata": {}
  }
 ]
}