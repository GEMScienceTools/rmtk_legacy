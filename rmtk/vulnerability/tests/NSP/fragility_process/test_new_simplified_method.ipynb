{
 "metadata": {
  "name": ""
 },
 "nbformat": 3,
 "nbformat_minor": 0,
 "worksheets": [
  {
   "cells": [
    {
     "cell_type": "code",
     "collapsed": false,
     "input": [
      "\"\"\"\n",
      "Created on Tue May 13 18:04:57 2014\n",
      "\n",
      "@author: chiaracasotto\n",
      "\"\"\"\n",
      "# Clear existing variables\n",
      "def clearall():\n",
      "    all = [var for var in globals() if var[0] != \"_\"]\n",
      "    for var in all:\n",
      "        del globals()[var]\n",
      "clearall()\n",
      "\n",
      "# Import functions\n",
      "import matplotlib.pyplot as plt\n",
      "import numpy as np\n",
      "import scipy.stats as stat\n",
      "import os\n",
      "from NSP.get_data import read_data\n",
      "from NSP.fragility_process import fragility_process\n",
      "from NSP.export_fragility import export_fragility\n",
      "from common.export_vulnerability import export_vulnerability\n",
      "from NSP.vulnerability_process import vulnerability_process\n",
      "from NSP.simplified_method import simplified bilinear\n",
      "\n",
      "pi = 3.141592653589793\n",
      "plt.close(\"all\")\n",
      "cd = os.getcwd()"
     ],
     "language": "python",
     "metadata": {},
     "outputs": [],
     "prompt_number": 37
    },
    {
     "cell_type": "code",
     "collapsed": false,
     "input": [
      "N = 10\n",
      "MC = 10\n",
      "Tc = 0.5\n",
      "Td = 1.8\n",
      "plotflag = [1, 1, 1, 1]\n",
      "linew = 2\n",
      "fontsize = 10\n",
      "units = ['[m]', '[kN]', '[g]']\n",
      "vuln = 0\n",
      "g = 9.81\n",
      "iml = np.linspace(0.01,2,100)\n",
      "an_type = 0\n",
      "in_type = 1"
     ],
     "language": "python",
     "metadata": {},
     "outputs": [],
     "prompt_number": 38
    },
    {
     "cell_type": "code",
     "collapsed": false,
     "input": [
      "plot_feature = [plotflag, linew, fontsize, units, iml]\n",
      "[T, Gamma, w, dcroof, SPO, bUthd, noBlg, Tav, Sa_ratios] = read_data(in_type,an_type,linew,fontsize,units,plotflag[0])"
     ],
     "language": "python",
     "metadata": {},
     "outputs": [
      {
       "metadata": {},
       "output_type": "display_data",
       "png": "[encoded data removed]",
       "text": [
        "<matplotlib.figure.Figure at 0x10ef2d5d0>"
       ]
      }
     ],
     "prompt_number": 39
    },
    {
     "cell_type": "code",
     "collapsed": false,
     "input": [
      "T, Gamma, dcroof, SPO, bUthd = T[0], Gamma[0], dcroof[0], SPO[0], bUthd[0]"
     ],
     "language": "python",
     "metadata": {},
     "outputs": [],
     "prompt_number": 40
    },
    {
     "cell_type": "code",
     "collapsed": false,
     "input": [
      "if T<0.15: print 'error: T must be larger than 0.15sec'\n",
      "if T>3: print 'T>3 is not advised, but let us proceed'\n",
      "# Step 1: Ductility level mu for each Limit State\n",
      "dy, du = SPO[0],SPO[-2]\n",
      "dcroof, bUthd = np.array(dcroof),np.array(bUthd)\n",
      "dcroof[dcroof>du] = du\n",
      "mcroof = np.divide(dcroof,dy)\n",
      "print \"mu(LS) = \", mcroof\n",
      "    \n",
      "Say=4*np.power(pi,2)*dy/(g*Gamma*np.power(T,2));    \n",
      "c = np.multiply(79.12,np.power(T,1.98))\n",
      "R50 = 0.425*(1-c+np.sqrt(np.power(c,2)+c*2*(2*mcroof-1)+1))  \n",
      "if R50.any>6: print 'warning: R > 6 not advised, proceeding anyway'\n"
     ],
     "language": "python",
     "metadata": {},
     "outputs": [
      {
       "output_type": "stream",
       "stream": "stdout",
       "text": [
        "mu(LS) =  [ 1.12781585  2.23319959  4.97594994  7.61921332  9.88196139  9.88196139]\n",
        "warning: R > 6 not advised, proceeding anyway\n"
       ]
      }
     ],
     "prompt_number": 34
    },
    {
     "cell_type": "code",
     "collapsed": false,
     "input": [
      "# Monte Carlo simulation\n",
      "st = (1./(2.*MC))\n",
      "en = (1.-(1./(2.*MC)))\n",
      "xp = np.linspace(st,en,MC)\n",
      "musample = []\n",
      "for i in range(0,len(mcroof)):\n",
      "    if bUthd[i]>0 and MC>0:\n",
      "        musample.append(stat.lognorm.ppf(xp,bUthd[i],loc=0,scale=mcroof[i]))\n",
      "        musample[i][musample[i]>mcroof[-1]]=mcroof[-1]\n",
      "    else:\n",
      "        musample.append(np.repeat(mcroof[i],MC))\n",
      "Nr=10;\n",
      "R = np.array([np.insert(np.linspace(1,2*ele,Nr),0,0) for ele in R50])\n",
      "#Define constant relative strength inelastic displacement ratio Cr    \n",
      "CR50i = 1 + np.divide(R-1,(79.12*np.power(T,1.98)));\n",
      "bCR50i=1.957*(1/5.876+1/(11.749*(T+0.1)))*(1-np.exp(-0.739*(R-1)));\n",
      "mu50=R*CR50i;\n",
      "mu16=mu50*np.exp(-bCR50i);\n",
      "mu84=mu50*np.exp(bCR50i);\n",
      "x=[mu16, mu50, mu84];"
     ],
     "language": "python",
     "metadata": {},
     "outputs": [],
     "prompt_number": 35
    },
    {
     "cell_type": "code",
     "collapsed": false,
     "input": [
      "Sai = []\n",
      "for i in range(0,len(mcroof)):\n",
      "    Sai.append([])\n",
      "rMC, SaT50, bTSa, Sa = [],[],[],[]\n",
      "\n",
      "# Estimate R-values of Sa50 and bRSa that correspond to mlim samples.    \n",
      "for i in range(0,len(mcroof)):\n",
      "    Sa.append(np.array([]))\n",
      "    SaT50.append([])\n",
      "    bTSa.append([])\n",
      "    rMC.append([np.interp(musample[i],ele[i],R[i]) for ele in x])\n",
      "    if bUthd[i]>0:\n",
      "        allSa50 = [ele*Say for ele in rMC[i][1]]\n",
      "        allbSa50 = (np.log(rMC[i][0])-np.log(rMC[i][2]))/2\n",
      "        for j in range(0,MC):\n",
      "                if allbSa50[j]>0:\n",
      "                    realisation = stat.lognorm.ppf(xp,allbSa50[j],loc=0,scale=allSa50[j])\n",
      "                else:\n",
      "                    realisation = np.repeat(allSa50[j],MC)\n",
      "                Sai[i].append(realisation)\n",
      "\n",
      "for i in range(0,len(mcroof)):\n",
      "    if len(Sai[i])>0:\n",
      "        for j in range(1,len(Sai[i])):\n",
      "            Sai[i][j] = np.concatenate((Sai[i][j-1],Sai[i][j]))\n",
      "        Sa[i] = Sai[i][-1]\n",
      "        SaT50[i] = np.median(Sa[i])\n",
      "        bTSa[i] = np.std(np.log(Sa[i]))\n",
      "    else:\n",
      "        R = np.maximum(R50[i],1.00001)\n",
      "        Cr50 = 1+np.divide(R-1,c)           \n",
      "        SaT50[i] = np.divide(np.power(2*pi/T,2),g*Gamma*Cr50)*dcroof \n",
      "        b = 1+np.divide(np.log(Cr50),np.log(R))\n",
      "        sigmalnd = 1.957*(1/5.876+1/(11.749*(T+0.1)))*(1-np.exp(-0.73*(R-1)))\n",
      "        bTSa[i] = sigmalnd/b"
     ],
     "language": "python",
     "metadata": {},
     "outputs": [],
     "prompt_number": 36
    },
    {
     "cell_type": "code",
     "collapsed": false,
     "input": [],
     "language": "python",
     "metadata": {},
     "outputs": []
    },
    {
     "cell_type": "code",
     "collapsed": false,
     "input": [],
     "language": "python",
     "metadata": {},
     "outputs": [],
     "prompt_number": 41
    },
    {
     "cell_type": "code",
     "collapsed": false,
     "input": [
      "[SaT50, bTSa] = simplified_bilinear(T, Gamma, dcroof, SPO, bUthd, g, MC)"
     ],
     "language": "python",
     "metadata": {},
     "outputs": [
      {
       "output_type": "stream",
       "stream": "stdout",
       "text": [
        "mu(LS) =  [ 1.12781585  2.23319959  4.97594994  7.61921332  9.88196139  9.88196139]\n",
        "warning: R > 6 not advised, proceeding anyway\n",
        "median IM =  [0.11512828148723796, 0.21730155078625693, 0.49452041920675943, 0.75223132004402971, 0.92476806875754824, 0.92476806875754824]\n",
        "total dispersion =  [0.20520932317580282, 0.29240592831628287, 0.39416742936367272, 0.41436631956602255, 0.40623980533365189, 0.40623980533365189]\n"
       ]
      }
     ],
     "prompt_number": 42
    },
    {
     "cell_type": "code",
     "collapsed": false,
     "input": [],
     "language": "python",
     "metadata": {},
     "outputs": [],
     "prompt_number": 42
    },
    {
     "cell_type": "code",
     "collapsed": false,
     "input": [],
     "language": "python",
     "metadata": {},
     "outputs": []
    }
   ],
   "metadata": {}
  }
 ]
}