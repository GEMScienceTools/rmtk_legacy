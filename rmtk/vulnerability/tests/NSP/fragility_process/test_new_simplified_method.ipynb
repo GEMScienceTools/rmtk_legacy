{
 "metadata": {
  "name": ""
 },
 "nbformat": 3,
 "nbformat_minor": 0,
 "worksheets": [
  {
   "cells": [
    {
     "cell_type": "code",
     "collapsed": false,
     "input": [
      "\"\"\"\n",
      "Created on Tue May 13 18:04:57 2014\n",
      "\n",
      "@author: chiaracasotto\n",
      "\"\"\"\n",
      "# Clear existing variables\n",
      "def clearall():\n",
      "    all = [var for var in globals() if var[0] != \"_\"]\n",
      "    for var in all:\n",
      "        del globals()[var]\n",
      "clearall()\n",
      "\n",
      "# Import functions\n",
      "import matplotlib.pyplot as plt\n",
      "import numpy as np\n",
      "import scipy.stats as stat\n",
      "import os\n",
      "\n",
      "pi = 3.141592653589793\n",
      "plt.close(\"all\")\n",
      "cd = os.getcwd()"
     ],
     "language": "python",
     "metadata": {},
     "outputs": [],
     "prompt_number": 53
    },
    {
     "cell_type": "code",
     "collapsed": false,
     "input": [
      "N = 10\n",
      "MC = 25\n",
      "Tc = 0.5\n",
      "Td = 1.8\n",
      "plotflag = [1, 1, 1, 1]\n",
      "linew = 2\n",
      "fontsize = 10\n",
      "units = ['[m]', '[kN]', '[g]']\n",
      "vuln = 0\n",
      "g = 9.81\n",
      "iml = np.linspace(0.01,2,100)\n",
      "an_type = 0\n",
      "in_type = 1"
     ],
     "language": "python",
     "metadata": {},
     "outputs": [],
     "prompt_number": 54
    },
    {
     "cell_type": "code",
     "collapsed": false,
     "input": [
      "Gamma = [1.292]\n",
      "T = [1.612]\n",
      "Tav = [1.612]\n",
      "Sa_ratios = 1\n",
      "SPO =[[0.036765262,\t0.290448402,\t2133.26]]\n",
      "dcroof = [[0.0781,\t0.1323,\t0.1869,\t0.2448,\t0.291]]\n",
      "noBlg = 0\n",
      "w = 1\n",
      "bUthd = [[0.,\t0.1,\t0.1,\t0.1,\t0.1]]\n",
      "print \"T =\", T\n",
      "print \"G =\", Gamma\n",
      "print \"w =\", w\n",
      "print \"SPO \", SPO\n",
      "print \"dcroof = \", dcroof\n",
      "print \"bUthd = \", bUthd"
     ],
     "language": "python",
     "metadata": {},
     "outputs": [
      {
       "output_type": "stream",
       "stream": "stdout",
       "text": [
        "T = [1.612]\n",
        "G = [1.292]\n",
        "w = 1\n",
        "SPO  [[0.036765262, 0.290448402, 2133.26]]\n",
        "dcroof =  [[0.0781, 0.1323, 0.1869, 0.2448, 0.291]]\n",
        "bUthd =  [[0.0, 0.1, 0.1, 0.1, 0.1]]\n"
       ]
      }
     ],
     "prompt_number": 55
    },
    {
     "cell_type": "code",
     "collapsed": false,
     "input": [
      "T, Gamma, dcroof, SPO, bUthd = T[0], Gamma[0], dcroof[0], SPO[0], bUthd[0]"
     ],
     "language": "python",
     "metadata": {},
     "outputs": [],
     "prompt_number": 56
    },
    {
     "cell_type": "code",
     "collapsed": false,
     "input": [
      "if T<0.15: print 'error: T must be larger than 0.15sec'\n",
      "if T>3: print 'T>3 is not advised, but let us proceed'\n",
      "# Step 1: Ductility level mu for each Limit State\n",
      "dy, du = SPO[0],SPO[-2]\n",
      "dcroof, bUthd = np.array(dcroof),np.array(bUthd)\n",
      "dcroof[dcroof>du] = du\n",
      "mcroof = np.divide(dcroof,dy)\n",
      "print \"mu(LS) = \", mcroof\n",
      "    \n",
      "Say=4*np.power(pi,2)*dy/(g*Gamma*np.power(T,2));    \n",
      "c = np.multiply(79.12,np.power(T,1.98))\n",
      "R50 = 0.5*(1-c+np.sqrt(np.power(c,2)+c*2*(2*mcroof-1)+1))  \n",
      "if R50.any>6: print 'warning: R > 6 not advised, proceeding anyway'\n"
     ],
     "language": "python",
     "metadata": {},
     "outputs": [
      {
       "output_type": "stream",
       "stream": "stdout",
       "text": [
        "mu(LS) =  [ 2.12428787  3.59850557  5.0836031   6.65845928  7.90007703]\n",
        "warning: R > 6 not advised, proceeding anyway\n"
       ]
      }
     ],
     "prompt_number": 57
    },
    {
     "cell_type": "code",
     "collapsed": false,
     "input": [
      "# Monte Carlo simulation\n",
      "st = (1./(2.*MC))\n",
      "en = (1.-(1./(2.*MC)))\n",
      "xp = np.linspace(st,en,MC)\n",
      "musample = []\n",
      "for i in range(0,len(mcroof)):\n",
      "    if bUthd[i]>0 and MC>0:\n",
      "        musample.append(stat.lognorm.ppf(xp,bUthd[i],loc=0,scale=mcroof[i]))\n",
      "        musample[i][musample[i]>mcroof[-1]]=mcroof[-1]\n",
      "    else:\n",
      "        musample.append(np.repeat(mcroof[i],MC))\n",
      "Nr=10;\n",
      "R = np.array([np.insert(np.linspace(1,2*ele,Nr),0,0) for ele in R50])\n",
      "#Define constant relative strength inelastic displacement ratio Cr    \n",
      "CR50i = 1 + np.divide(R-1,(79.12*np.power(T,1.98)));\n",
      "bCR50i=1.957*(1/5.876+1/(11.749*(T+0.1)))*(1-np.exp(-0.739*(R-1)));\n",
      "mu50=R*CR50i;\n",
      "mu16=mu50*np.exp(-bCR50i);\n",
      "mu84=mu50*np.exp(bCR50i);\n",
      "x=[mu16, mu50, mu84];"
     ],
     "language": "python",
     "metadata": {},
     "outputs": [],
     "prompt_number": 58
    },
    {
     "cell_type": "code",
     "collapsed": false,
     "input": [
      "Sai = []\n",
      "for i in range(0,len(mcroof)):\n",
      "    Sai.append([])\n",
      "rMC, SaT50, bTSa, Sa = [],[],[],[]\n",
      "\n",
      "# Estimate R-values of Sa50 and bRSa that correspond to mlim samples.    \n",
      "for i in range(0,len(mcroof)):\n",
      "    Sa.append(np.array([]))\n",
      "    SaT50.append([])\n",
      "    bTSa.append([])\n",
      "    rMC.append([np.interp(musample[i],ele[i],R[i]) for ele in x])\n",
      "    if bUthd[i]>0:\n",
      "        allSa50 = [ele*Say for ele in rMC[i][1]]\n",
      "        allbSa50 = (np.log(rMC[i][0])-np.log(rMC[i][2]))/2\n",
      "        for j in range(0,MC):\n",
      "                if allbSa50[j]>0:\n",
      "                    realisation = stat.lognorm.ppf(xp,allbSa50[j],loc=0,scale=allSa50[j])\n",
      "                else:\n",
      "                    realisation = np.repeat(allSa50[j],MC)\n",
      "                Sai[i].append(realisation)\n"
     ],
     "language": "python",
     "metadata": {},
     "outputs": [],
     "prompt_number": 59
    },
    {
     "cell_type": "code",
     "collapsed": false,
     "input": [
      "for i in range(0,len(mcroof)):\n",
      "    if len(Sai[i])>0:\n",
      "        for j in range(1,len(Sai[i])):\n",
      "            Sai[i][j] = np.concatenate((Sai[i][j-1],Sai[i][j]))\n",
      "        Sa[i] = Sai[i][-1]\n",
      "        \n",
      "        SaT50[i] = np.median(Sa[i])\n",
      "        bTSa[i] = np.std(np.log(Sa[i]))\n",
      "    else:\n",
      "        R = np.maximum(0.85*R50[i],1.00001)\n",
      "        Cr50 = 1+np.divide(R-1,c)\n",
      "        b = 1+np.divide(np.log(Cr50),np.log(R))\n",
      "        bthd = 1.957*(1/5.876+1/(11.749*(T+0.1)))*(1-np.exp(-0.73*(R-1)))\n",
      "        \n",
      "        SaT50[i] = np.divide(np.power(2*pi/T,2),g*Gamma*Cr50)*dcroof[i]\n",
      "        bTSa[i] = bthd/b"
     ],
     "language": "python",
     "metadata": {},
     "outputs": [],
     "prompt_number": 60
    },
    {
     "cell_type": "code",
     "collapsed": false,
     "input": [
      "print SaT50\n",
      "print bTSa"
     ],
     "language": "python",
     "metadata": {},
     "outputs": [
      {
       "output_type": "stream",
       "stream": "stdout",
       "text": [
        "[0.093251380170704792, 0.1560283550467719, 0.21926151017088619, 0.28558048247195872, 0.32364800894207357]\n",
        "[0.18837060588280335, 0.35480483096501597, 0.38641889712033023, 0.39965116697541797, 0.39704824226809865]\n"
       ]
      }
     ],
     "prompt_number": 61
    },
    {
     "cell_type": "code",
     "collapsed": false,
     "input": [],
     "language": "python",
     "metadata": {},
     "outputs": []
    }
   ],
   "metadata": {}
  }
 ]
}