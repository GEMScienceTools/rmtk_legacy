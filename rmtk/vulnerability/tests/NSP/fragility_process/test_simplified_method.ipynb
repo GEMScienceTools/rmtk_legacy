{
 "metadata": {
  "name": ""
 },
 "nbformat": 3,
 "nbformat_minor": 0,
 "worksheets": [
  {
   "cells": [
    {
     "cell_type": "heading",
     "level": 1,
     "metadata": {},
     "source": [
      "TEST on Fragility-RGM-idealised "
     ]
    },
    {
     "cell_type": "code",
     "collapsed": false,
     "input": [
      "\"\"\"\n",
      "Created on Tue May 13 18:04:57 2014\n",
      "\n",
      "@author: chiaracasotto\n",
      "\"\"\"\n",
      "\n",
      "# Clear existing variables\n",
      "def clearall():\n",
      "    all = [var for var in globals() if var[0] != \"_\"]\n",
      "    for var in all:\n",
      "        del globals()[var]\n",
      "clearall()\n",
      "\n",
      "# Import functions\n",
      "import csv\n",
      "import scipy.stats as stat\n",
      "import numpy as np\n",
      "import os\n",
      "pi = 3.141592653589793\n",
      "cd = os.getcwd()\n",
      "\n",
      "g = 9.81\n",
      "iml = np.linspace(0.1,2,50)\n",
      "\n",
      "plotflag = [1, 0, 1, 1]\n",
      "linew = 2\n",
      "fontsize = 10\n",
      "units = ['[m]', '[kN]', '[g]']\n",
      "pw = 1\n",
      "filletstyle = 3\n",
      "N = 10\n",
      "MC = 10\n",
      "Tc = 0.5\n",
      "Td = 1.8"
     ],
     "language": "python",
     "metadata": {},
     "outputs": [],
     "prompt_number": 2
    },
    {
     "cell_type": "heading",
     "level": 4,
     "metadata": {},
     "source": [
      "Read data with bilinearised input"
     ]
    },
    {
     "cell_type": "code",
     "collapsed": false,
     "input": [
      "Gamma = [1.292]\n",
      "T = [1.612]\n",
      "Tav = [1.612]\n",
      "Sa_ratios = 1\n",
      "SPO =[[0.036765262,\t0.290448402,\t2133.26]]\n",
      "dcroof = [[0.0781,\t0.1323,\t0.1869,\t0.2448,\t0.291]]\n",
      "noBlg = 0\n",
      "w = 1\n",
      "bUthd = [0.,\t0.1,\t0.1,\t0.1,\t0.1]\n",
      "print \"T =\", T\n",
      "print \"G =\", Gamma\n",
      "print \"w =\", w\n",
      "print \"SPO \", SPO\n",
      "print \"dcroof = \", dcroof\n",
      "print \"bUthd = \", bUthd"
     ],
     "language": "python",
     "metadata": {},
     "outputs": [
      {
       "output_type": "stream",
       "stream": "stdout",
       "text": [
        "T = [1.612]\n",
        "G = [1.292]\n",
        "w = 1\n",
        "SPO  [[0.036765262, 0.290448402, 2133.26]]\n",
        "dcroof =  [[0.0781, 0.1323, 0.1869, 0.2448, 0.291]]\n",
        "bUthd =  [0.0, 0.1, 0.1, 0.1, 0.1]\n"
       ]
      }
     ],
     "prompt_number": 7
    },
    {
     "cell_type": "heading",
     "level": 4,
     "metadata": {},
     "source": [
      "Derive Fragility"
     ]
    },
    {
     "cell_type": "code",
     "collapsed": false,
     "input": [
      "# Single fragilities\n",
      "blg = 0\n",
      "# Simplified Bilinear function\n",
      "dy = SPO[blg][0]\n",
      "mu = np.divide(dcroof[blg],dy)\n",
      "print \"mu(LS) = \", mu\n",
      "# Step 2: Define constant relative strength inelastic displacement ratio Cr\n",
      "c = np.multiply(79.12,np.power(T[blg],1.98))\n",
      "R1 = 0.425*(1-c+np.sqrt(np.power(c,2)+c*2*(2*mu-1)+1))\n",
      "R = np.array([max(ele,1.00001) for ele in R1])\n",
      "Cr50 = 1+np.divide(R-1,c)\n",
      "\n",
      "# Step 4: Estimate Sa50 (median IM per Limit State) in m/s^2\n",
      "SaT50 = np.divide(np.power(2*pi/T[blg],2),g* Gamma[blg]*Cr50)*dcroof[blg]\n",
      "# Step 5: Estimate b\n",
      "b = 1+np.divide(np.log(Cr50),np.log(R))\n",
      "\n",
      "# Step 6: Estimate dispersion of theta demand\n",
      "sigmalnd = 1.957*(1/5.876+1/(11.749*(T[blg]+0.1)))*(1-np.exp(-0.73*(R-1)))\n",
      "bthd = sigmalnd\n",
      "bTSa = 1/b*np.sqrt(np.power(bthd,2)+np.power(bUthd[blg],2))\n",
      "print \"median IM = \", SaT50\n",
      "print \"total dispersion = \", bTSa"
     ],
     "language": "python",
     "metadata": {},
     "outputs": [
      {
       "output_type": "stream",
       "stream": "stdout",
       "text": [
        "mu(LS) =  [ 2.12428787  3.59850557  5.0836031   6.65845928  7.91508027]\n",
        "median IM =  [ 0.09325138  0.15702526  0.22052412  0.28707389  0.33961503]\n",
        "total dispersion =  [ 0.18837061  0.32897318  0.38565249  0.40911152  0.41672002]\n"
       ]
      }
     ],
     "prompt_number": 8
    },
    {
     "cell_type": "code",
     "collapsed": false,
     "input": [],
     "language": "python",
     "metadata": {},
     "outputs": [],
     "prompt_number": 8
    },
    {
     "cell_type": "code",
     "collapsed": false,
     "input": [],
     "language": "python",
     "metadata": {},
     "outputs": []
    }
   ],
   "metadata": {}
  }
 ]
}