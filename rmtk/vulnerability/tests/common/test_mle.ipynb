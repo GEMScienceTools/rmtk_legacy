{
 "metadata": {
  "name": ""
 },
 "nbformat": 3,
 "nbformat_minor": 0,
 "worksheets": [
  {
   "cells": [
    {
     "cell_type": "code",
     "collapsed": false,
     "input": [
      "\"\"\"\n",
      "Created on Thu May  8 18:18:30 2014\n",
      "\n",
      "@author: chiaracasotto\n",
      "\"\"\"\n",
      "import numpy as np\n",
      "import scipy as sci\n",
      "import scipy.stats as stat\n",
      "import scipy.optimize as optim\n",
      "\n",
      "num_collapse = [0,\t0,\t0,\t9,\t11,\t14,\t17,\t25,\t31,\t24]\n",
      "#iml = [0.082,\t0.247,\t0.399,\t0.596,\t0.746,\t0.886,\t1.068,\t1.232,\t1.396,\t1.560]\n",
      "#g = 1\n",
      "iml = [82,\t247,\t399,\t596,\t746,\t886,\t1068,\t1232,\t1396,\t1560]\n",
      "tot = 100\n",
      "g = 981"
     ],
     "language": "python",
     "metadata": {},
     "outputs": [],
     "prompt_number": 28
    },
    {
     "cell_type": "code",
     "collapsed": false,
     "input": [
      "\"This function computes the optimal fit of a function\"\n",
      "def func(x):\n",
      "    p = [stat.lognorm.cdf(i, x[0], loc=0, scale=x[1]) for i in iml]\n",
      "    return -sci.sum(stat.binom.logpmf(num_collapse,tot,p))"
     ],
     "language": "python",
     "metadata": {},
     "outputs": [],
     "prompt_number": 29
    },
    {
     "cell_type": "code",
     "collapsed": false,
     "input": [
      "x0 = np.array([1, 1])\n",
      "x = optim.fmin(func, x0)\n",
      "sigma = x[0]\n",
      "mu = np.log(x[1])"
     ],
     "language": "python",
     "metadata": {},
     "outputs": [
      {
       "output_type": "stream",
       "stream": "stdout",
       "text": [
        "Optimization terminated successfully.\n",
        "         Current function value: 21.266036\n",
        "         Iterations: 131\n",
        "         Function evaluations: 254\n"
       ]
      }
     ],
     "prompt_number": 30
    },
    {
     "cell_type": "code",
     "collapsed": false,
     "input": [
      "print mu, sigma"
     ],
     "language": "python",
     "metadata": {},
     "outputs": [
      {
       "output_type": "stream",
       "stream": "stdout",
       "text": [
        "7.7812913813 0.889506356848\n"
       ]
      }
     ],
     "prompt_number": 31
    },
    {
     "cell_type": "code",
     "collapsed": false,
     "input": [
      "print np.exp(mu)"
     ],
     "language": "python",
     "metadata": {},
     "outputs": [
      {
       "output_type": "stream",
       "stream": "stdout",
       "text": [
        "2395.36615513\n"
       ]
      }
     ],
     "prompt_number": 32
    },
    {
     "cell_type": "code",
     "collapsed": false,
     "input": [],
     "language": "python",
     "metadata": {},
     "outputs": [],
     "prompt_number": 32
    },
    {
     "cell_type": "code",
     "collapsed": false,
     "input": [],
     "language": "python",
     "metadata": {},
     "outputs": []
    }
   ],
   "metadata": {}
  }
 ]
}