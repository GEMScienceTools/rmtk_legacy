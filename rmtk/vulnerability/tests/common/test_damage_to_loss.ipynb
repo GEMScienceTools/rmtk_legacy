{
 "metadata": {
  "name": ""
 },
 "nbformat": 3,
 "nbformat_minor": 0,
 "worksheets": [
  {
   "cells": [
    {
     "cell_type": "code",
     "collapsed": false,
     "input": [
      "def clearall():\n",
      "    all = [var for var in globals() if var[0] != \"_\"]\n",
      "    for var in all:\n",
      "        del globals()[var]\n",
      "clearall()\n",
      "\n",
      "import numpy as np\n",
      "import scipy.stats as stat"
     ],
     "language": "python",
     "metadata": {},
     "outputs": [],
     "prompt_number": 5
    },
    {
     "cell_type": "code",
     "collapsed": false,
     "input": [
      "iml = np.linspace(0.1,1,10)\n",
      "theta = [0.30359629923905929, 0.61648687596347196, 0.90233055223871583, 1.1590608046681703, 1.1590608046681703]\n",
      "beta = [0.0, 0.1343651091408001, 0.22569253428542574, 0.28024503952191621, 0.28024503952191621]\n",
      "loss_ratio = [0.1,\t0.3,\t0.5,\t0.7,\t1]"
     ],
     "language": "python",
     "metadata": {},
     "outputs": [],
     "prompt_number": 6
    },
    {
     "cell_type": "code",
     "collapsed": false,
     "input": [
      "#SaT = [np.log(ele) for ele in theta]\n",
      "#bTSa = beta\n",
      "SaT = [-1.95401102, -0.79290775, -0.16846705,  0.24196138,  0.24196138]\n",
      "bTSa = [ 0.,          0.2202504,   0.36995371,  0.45937582,  0.45937582]\n",
      "# From continuous function to dicrete\n",
      "poe = [np.zeros_like(iml)]*len(SaT)\n",
      "for i in range(0,len(SaT)):\n",
      "    mu = SaT[i]\n",
      "    sigma = bTSa[i]\n",
      "    if sigma == 0:\n",
      "        probability = np.zeros_like(iml)\n",
      "        probability[iml>np.exp(mu)] = 1 # check this\n",
      "        poe[i] = probability\n",
      "    else:\n",
      "        poe[i] = stat.norm(mu,sigma).cdf(np.log(iml)) # Probability of exceedance each DS\n",
      "print poe\n",
      "# From probability of exceedance to probability of occurance and loss ratio per damage state\n",
      "loss_ratio_DS = [np.zeros_like(iml)]*len(SaT)\n",
      "poo = poe\n",
      "for i in range(0,len(SaT)-1):\n",
      "    poo[i] = poe[i]-poe[i+1] # probability of occurance of each DS\n",
      "\n",
      "for i in range(0,len(SaT)):    \n",
      "    loss_ratio_DS[i] = poo[i]*loss_ratio[i] # loss_ratio vs intensity measure for each DS\n",
      "# Total loss_ratio\n",
      "LR = sum(loss_ratio_DS)"
     ],
     "language": "python",
     "metadata": {},
     "outputs": [
      {
       "output_type": "stream",
       "stream": "stdout",
       "text": [
        "[array([ 0.,  1.,  1.,  1.,  1.,  1.,  1.,  1.,  1.,  1.]), array([  3.58141817e-12,   1.04748150e-04,   3.09959782e-02,\n",
        "         2.87673514e-01,   6.74704604e-01,   8.99856404e-01,\n",
        "         9.76183165e-01,   9.95157716e-01,   9.99100833e-01,\n",
        "         9.99840909e-01]), array([  3.99644198e-09,   4.90987287e-05,   2.56294273e-03,\n",
        "         2.16192919e-02,   7.80615446e-02,   1.77376543e-01,\n",
        "         3.05469473e-01,   4.41253139e-01,   5.67722807e-01,\n",
        "         6.75579658e-01]), array([  1.51981250e-08,   2.78588079e-05,   8.23066453e-04,\n",
        "         5.84509855e-03,   2.08949253e-02,   5.06360973e-02,\n",
        "         9.62615091e-02,   1.55656330e-01,   2.24802557e-01,\n",
        "         2.99194818e-01]), array([  1.51981250e-08,   2.78588079e-05,   8.23066453e-04,\n",
        "         5.84509855e-03,   2.08949253e-02,   5.06360973e-02,\n",
        "         9.62615091e-02,   1.55656330e-01,   2.24802557e-01,\n",
        "         2.99194818e-01])]\n"
       ]
      }
     ],
     "prompt_number": 7
    },
    {
     "cell_type": "code",
     "collapsed": false,
     "input": [
      "print LR"
     ],
     "language": "python",
     "metadata": {},
     "outputs": [
      {
       "output_type": "stream",
       "stream": "stdout",
       "text": [
        "[  8.39906719e-09   1.00044699e-01   1.07123317e-01   1.64781110e-01\n",
        "   2.61000692e-01   3.40764638e-01   4.04461282e-01   4.65110336e-01\n",
        "   5.25766007e-01   5.84681522e-01]\n"
       ]
      }
     ],
     "prompt_number": 8
    },
    {
     "cell_type": "code",
     "collapsed": false,
     "input": [],
     "language": "python",
     "metadata": {},
     "outputs": []
    }
   ],
   "metadata": {}
  }
 ]
}