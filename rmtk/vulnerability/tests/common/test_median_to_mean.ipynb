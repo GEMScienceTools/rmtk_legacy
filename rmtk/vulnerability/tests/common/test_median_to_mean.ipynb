{
 "metadata": {
  "name": ""
 },
 "nbformat": 3,
 "nbformat_minor": 0,
 "worksheets": [
  {
   "cells": [
    {
     "cell_type": "code",
     "collapsed": false,
     "input": [
      "# Clear existing variables\n",
      "def clearall():\n",
      "    all = [var for var in globals() if var[0] != \"_\"]\n",
      "    for var in all:\n",
      "        del globals()[var]\n",
      "clearall()\n",
      "import numpy as np\n",
      "from conversions import from_median_to_mean\n",
      "# variables\n",
      "log_meanSa, log_stSa = 0.602266747732, 0.757685228737"
     ],
     "language": "python",
     "metadata": {},
     "outputs": [],
     "prompt_number": 1
    },
    {
     "cell_type": "code",
     "collapsed": false,
     "input": [
      "[meanSa, stSa] = from_median_to_mean(np.exp(log_meanSa),log_stSa)\n",
      "cov = np.divide(stSa,meanSa)\n",
      "print meanSa, stSa, cov"
     ],
     "language": "python",
     "metadata": {},
     "outputs": [
      {
       "output_type": "stream",
       "stream": "stdout",
       "text": [
        "2.43345047966 1.96669339647 0.808191254726\n"
       ]
      }
     ],
     "prompt_number": 2
    },
    {
     "cell_type": "code",
     "collapsed": false,
     "input": [],
     "language": "python",
     "metadata": {},
     "outputs": []
    }
   ],
   "metadata": {}
  }
 ]
}