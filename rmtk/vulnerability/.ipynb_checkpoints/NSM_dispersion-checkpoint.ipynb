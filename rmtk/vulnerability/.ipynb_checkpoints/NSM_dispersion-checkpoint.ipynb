{
 "metadata": {
  "name": ""
 },
 "nbformat": 3,
 "nbformat_minor": 0,
 "worksheets": [
  {
   "cells": [
    {
     "cell_type": "heading",
     "level": 1,
     "metadata": {},
     "source": [
      "Nonlinear Static Procedure with dispersion"
     ]
    },
    {
     "cell_type": "markdown",
     "metadata": {},
     "source": [
      "The user should change only section 1 \"Define Option\""
     ]
    },
    {
     "cell_type": "code",
     "collapsed": false,
     "input": [
      "\"\"\"\n",
      "Created on Tue May 13 18:04:57 2014\n",
      "\n",
      "@author: chiaracasotto\n",
      "\"\"\"\n",
      "# Clear existing variables\n",
      "def clearall():\n",
      "    all = [var for var in globals() if var[0] != \"_\"]\n",
      "    for var in all:\n",
      "        del globals()[var]\n",
      "clearall()\n",
      "\n",
      "# Import functions\n",
      "import matplotlib.pyplot as plt\n",
      "import numpy as np\n",
      "import os\n",
      "from NSP.get_data import read_data\n",
      "from NSP.fragility_process import fragility_process\n",
      "from NSP.export_fragility import export_fragility\n",
      "from common.export_vulnerability import export_vulnerability\n",
      "from NSP.vulnerability_process import vulnerability_process\n",
      "\n",
      "pi = 3.141592653589793\n",
      "plt.close(\"all\")\n",
      "cd = os.getcwd()"
     ],
     "language": "python",
     "metadata": {},
     "outputs": [],
     "prompt_number": 1
    },
    {
     "cell_type": "heading",
     "level": 2,
     "metadata": {},
     "source": [
      "1. Define Options"
     ]
    },
    {
     "cell_type": "markdown",
     "metadata": {},
     "source": [
      ">####an_type (analysis type) <br />\n",
      "0: elastoplastic Pushover, inelastic displacement obtained from Ruiz-Garcia Miranda [1] <br />\n",
      "1: any pushover shape (bilinear, trilinear, quadrilinear) inelastic displacement obtained from spo2ida [2] <br />\n",
      "2: any pushover shape (bilinear, trilinear, quadrilinear) inelastic displacement obtained from Dolsek and Fajfar [3] <br />\n",
      "\n",
      ">####in_type (input_type)\n",
      "0: input is idealised pushover curve <br />\n",
      "1: input is pushover curve <br />"
     ]
    },
    {
     "cell_type": "code",
     "collapsed": false,
     "input": [
      "an_type = 1\n",
      "in_type = 1"
     ],
     "language": "python",
     "metadata": {},
     "outputs": [],
     "prompt_number": 2
    },
    {
     "cell_type": "markdown",
     "metadata": {},
     "source": [
      ">####vuln\n",
      "0: derive fragility curves <br />\n",
      "1: derive vulnerability curves from fragility curves <br />\n",
      "####g\n",
      "Units of g compatible with T and displacements\n",
      "####iml\n",
      "Array of intensity measure level used to discretise the fragility curves and get discrete vulnerability curves"
     ]
    },
    {
     "cell_type": "code",
     "collapsed": false,
     "input": [
      "vuln = 1\n",
      "g = 9.81\n",
      "iml = np.linspace(0.01,2,100)"
     ],
     "language": "python",
     "metadata": {},
     "outputs": [],
     "prompt_number": 3
    },
    {
     "cell_type": "markdown",
     "metadata": {},
     "source": [
      ">####plotflag \n",
      "4 integers for each plot: idealised pushover curve, 16%-50%-84% ida curves, fragility curves, vulenarbility curve <br />\n",
      "1: plot <br />\n",
      "0: don't plot <br />\n",
      ">####linew\n",
      "Line width for plots\n",
      ">####fontsize\n",
      "Fontsize used for labels, graphs etc.\n",
      ">####units\n",
      "List of 2 strings defining the displacements and forces units as ['[kN]' '[m]']"
     ]
    },
    {
     "cell_type": "code",
     "collapsed": false,
     "input": [
      "plotflag = [0, 0, 1, 1]\n",
      "linew = 2\n",
      "fontsize = 10\n",
      "units = ['[m]', '[kN]']"
     ],
     "language": "python",
     "metadata": {},
     "outputs": [],
     "prompt_number": 4
    },
    {
     "cell_type": "markdown",
     "metadata": {},
     "source": [
      ">####N\n",
      "Number of points per segment of IDA curve derived with spo2ida (only spo2ida procedure)\n",
      ">####MC \n",
      "Number of Monte Carlo simulations to account for uncertainty in damage thresholds (only spo2ida procedure)\n",
      ">####Tc, Td\n",
      "Constant accel-constant velocity  and constant velocity-constant displacement corner periods of a Newmark-Hall type spectrum. Default\n",
      "values <br />\n",
      "Tc = 0.5 <br />\n",
      "Td = 1.8 <br />"
     ]
    },
    {
     "cell_type": "code",
     "collapsed": false,
     "input": [
      "N = 10\n",
      "MC = 10\n",
      "Tc = 0.5\n",
      "Td = 1.8"
     ],
     "language": "python",
     "metadata": {},
     "outputs": [],
     "prompt_number": 5
    },
    {
     "cell_type": "heading",
     "level": 2,
     "metadata": {},
     "source": [
      "2. Read data from csv input file and Process data"
     ]
    },
    {
     "cell_type": "markdown",
     "metadata": {},
     "source": [
      "Obtain: First period, first modal participation factor, weights associated to each building, roof disp. at each limit state, idealised pushover parameters, dispersion in the limit states"
     ]
    },
    {
     "cell_type": "code",
     "collapsed": false,
     "input": [
      "plot_feature = [plotflag, linew, fontsize, units, iml]\n",
      "[T, Gamma, w, dcroof, SPO, bUthd, noBlg, Tav, Sa_ratios] = read_data(in_type,an_type,linew,fontsize,units,plotflag[0])"
     ],
     "language": "python",
     "metadata": {},
     "outputs": [],
     "prompt_number": 9
    },
    {
     "cell_type": "heading",
     "level": 2,
     "metadata": {},
     "source": [
      "3.a Derive Fragility and plot"
     ]
    },
    {
     "cell_type": "code",
     "collapsed": false,
     "input": [
      "if vuln == 0:\n",
      "    [log_meanSa, log_stSa] = fragility_process(vuln, an_type, T, Gamma, w, dcroof, SPO, bUthd, noBlg, g, MC, Sa_ratios, plot_feature, N, Tc, Td)\n",
      "    export_fragility(vuln, plot_feature, log_meanSa, log_stSa,'on')"
     ],
     "language": "python",
     "metadata": {},
     "outputs": [],
     "prompt_number": 10
    },
    {
     "cell_type": "heading",
     "level": 2,
     "metadata": {},
     "source": [
      "3.b Derive Vulnerability curves from damage-to-loss ratios and export Vulnerability"
     ]
    },
    {
     "cell_type": "code",
     "collapsed": false,
     "input": [
      "if vuln == 1:\n",
      "    [LR50, bLR] = vulnerability_process(vuln, an_type, T, Gamma, w, dcroof, SPO, bUthd, noBlg, g, MC, Sa_ratios, plot_feature, N, Tc, Td)\n",
      "    export_vulnerability(vuln, plot_feature, LR50, bLR)"
     ],
     "language": "python",
     "metadata": {},
     "outputs": [
      {
       "ename": "IndexError",
       "evalue": "list index out of range",
       "output_type": "pyerr",
       "traceback": [
        "\u001b[0;31m---------------------------------------------------------------------------\u001b[0m\n\u001b[0;31mIndexError\u001b[0m                                Traceback (most recent call last)",
        "\u001b[0;32m<ipython-input-11-5ad4d346d2ea>\u001b[0m in \u001b[0;36m<module>\u001b[0;34m()\u001b[0m\n\u001b[1;32m      1\u001b[0m \u001b[0;32mif\u001b[0m \u001b[0mvuln\u001b[0m \u001b[0;34m==\u001b[0m \u001b[0;36m1\u001b[0m\u001b[0;34m:\u001b[0m\u001b[0;34m\u001b[0m\u001b[0m\n\u001b[0;32m----> 2\u001b[0;31m     \u001b[0;34m[\u001b[0m\u001b[0mLR50\u001b[0m\u001b[0;34m,\u001b[0m \u001b[0mbLR\u001b[0m\u001b[0;34m]\u001b[0m \u001b[0;34m=\u001b[0m \u001b[0mvulnerability_process\u001b[0m\u001b[0;34m(\u001b[0m\u001b[0mvuln\u001b[0m\u001b[0;34m,\u001b[0m \u001b[0man_type\u001b[0m\u001b[0;34m,\u001b[0m \u001b[0mT\u001b[0m\u001b[0;34m,\u001b[0m \u001b[0mGamma\u001b[0m\u001b[0;34m,\u001b[0m \u001b[0mw\u001b[0m\u001b[0;34m,\u001b[0m \u001b[0mdcroof\u001b[0m\u001b[0;34m,\u001b[0m \u001b[0mSPO\u001b[0m\u001b[0;34m,\u001b[0m \u001b[0mbUthd\u001b[0m\u001b[0;34m,\u001b[0m \u001b[0mnoBlg\u001b[0m\u001b[0;34m,\u001b[0m \u001b[0mg\u001b[0m\u001b[0;34m,\u001b[0m \u001b[0mMC\u001b[0m\u001b[0;34m,\u001b[0m \u001b[0mSa_ratios\u001b[0m\u001b[0;34m,\u001b[0m \u001b[0mplot_feature\u001b[0m\u001b[0;34m,\u001b[0m \u001b[0mN\u001b[0m\u001b[0;34m,\u001b[0m \u001b[0mTc\u001b[0m\u001b[0;34m,\u001b[0m \u001b[0mTd\u001b[0m\u001b[0;34m)\u001b[0m\u001b[0;34m\u001b[0m\u001b[0m\n\u001b[0m\u001b[1;32m      3\u001b[0m     \u001b[0mexport_vulnerability\u001b[0m\u001b[0;34m(\u001b[0m\u001b[0mvuln\u001b[0m\u001b[0;34m,\u001b[0m \u001b[0mplot_feature\u001b[0m\u001b[0;34m,\u001b[0m \u001b[0mLR50\u001b[0m\u001b[0;34m,\u001b[0m \u001b[0mbLR\u001b[0m\u001b[0;34m)\u001b[0m\u001b[0;34m\u001b[0m\u001b[0m\n",
        "\u001b[0;32m/Users/chiaracasotto/GitHub/RMTK/NSP/vulnerability_process.pyc\u001b[0m in \u001b[0;36mvulnerability_process\u001b[0;34m(vuln, an_type, T, Gamma, w, dcroof, SPO, bUthd, noBlg, g, MC, Sa_ratios, plot_feature, N, Tc, Td)\u001b[0m\n\u001b[1;32m     61\u001b[0m                 \u001b[0mSaTlogmean_av\u001b[0m\u001b[0;34m,\u001b[0m \u001b[0mbTSa_av\u001b[0m \u001b[0;34m=\u001b[0m \u001b[0mnp\u001b[0m\u001b[0;34m.\u001b[0m\u001b[0mlog\u001b[0m\u001b[0;34m(\u001b[0m\u001b[0mSaT50\u001b[0m\u001b[0;34m)\u001b[0m\u001b[0;34m*\u001b[0m\u001b[0mSa_ratios\u001b[0m\u001b[0;34m[\u001b[0m\u001b[0mblg\u001b[0m\u001b[0;34m]\u001b[0m\u001b[0;34m,\u001b[0m \u001b[0mnp\u001b[0m\u001b[0;34m.\u001b[0m\u001b[0marray\u001b[0m\u001b[0;34m(\u001b[0m\u001b[0mbTSa\u001b[0m\u001b[0;34m)\u001b[0m\u001b[0;34m*\u001b[0m\u001b[0mSa_ratios\u001b[0m\u001b[0;34m[\u001b[0m\u001b[0mblg\u001b[0m\u001b[0;34m]\u001b[0m\u001b[0;34m\u001b[0m\u001b[0m\n\u001b[1;32m     62\u001b[0m                 \u001b[0;31m# Reconvert to median and dispersion\u001b[0m\u001b[0;34m\u001b[0m\u001b[0;34m\u001b[0m\u001b[0m\n\u001b[0;32m---> 63\u001b[0;31m                 \u001b[0mLRs\u001b[0m\u001b[0;34m.\u001b[0m\u001b[0mappend\u001b[0m\u001b[0;34m(\u001b[0m\u001b[0mdamage_to_loss\u001b[0m\u001b[0;34m(\u001b[0m\u001b[0mSaTlogmean_av\u001b[0m\u001b[0;34m,\u001b[0m\u001b[0mbTSa_av\u001b[0m\u001b[0;34m,\u001b[0m\u001b[0miml\u001b[0m\u001b[0;34m,\u001b[0m\u001b[0;34m'NSP'\u001b[0m\u001b[0;34m)\u001b[0m\u001b[0;34m)\u001b[0m\u001b[0;34m\u001b[0m\u001b[0m\n\u001b[0m\u001b[1;32m     64\u001b[0m         \u001b[0;31m# Define Vulnerability curve for each building\u001b[0m\u001b[0;34m\u001b[0m\u001b[0;34m\u001b[0m\u001b[0m\n\u001b[1;32m     65\u001b[0m         \u001b[0mLR50s\u001b[0m\u001b[0;34m.\u001b[0m\u001b[0mappend\u001b[0m\u001b[0;34m(\u001b[0m\u001b[0mnp\u001b[0m\u001b[0;34m.\u001b[0m\u001b[0mmean\u001b[0m\u001b[0;34m(\u001b[0m\u001b[0mLRs\u001b[0m\u001b[0;34m,\u001b[0m\u001b[0maxis\u001b[0m \u001b[0;34m=\u001b[0m \u001b[0;36m0\u001b[0m\u001b[0;34m)\u001b[0m\u001b[0;34m)\u001b[0m\u001b[0;34m\u001b[0m\u001b[0m\n",
        "\u001b[0;32m/Users/chiaracasotto/GitHub/RMTK/common/damage_to_loss.pyc\u001b[0m in \u001b[0;36mdamage_to_loss\u001b[0;34m(SaT, bTSa, iml, proc)\u001b[0m\n\u001b[1;32m     21\u001b[0m         \u001b[0mlines\u001b[0m \u001b[0;34m=\u001b[0m \u001b[0ml\u001b[0m\u001b[0;34m.\u001b[0m\u001b[0msplit\u001b[0m\u001b[0;34m(\u001b[0m\u001b[0;34m'\\n'\u001b[0m\u001b[0;34m)\u001b[0m\u001b[0;34m\u001b[0m\u001b[0m\n\u001b[1;32m     22\u001b[0m         \u001b[0mnewlist\u001b[0m \u001b[0;34m=\u001b[0m \u001b[0;34m[\u001b[0m\u001b[0mlines\u001b[0m\u001b[0;34m[\u001b[0m\u001b[0mi\u001b[0m\u001b[0;34m]\u001b[0m\u001b[0;34m.\u001b[0m\u001b[0msplit\u001b[0m\u001b[0;34m(\u001b[0m\u001b[0;34m','\u001b[0m\u001b[0;34m)\u001b[0m \u001b[0;32mfor\u001b[0m \u001b[0mi\u001b[0m \u001b[0;32min\u001b[0m \u001b[0mrange\u001b[0m\u001b[0;34m(\u001b[0m\u001b[0;36m0\u001b[0m\u001b[0;34m,\u001b[0m \u001b[0mlen\u001b[0m\u001b[0;34m(\u001b[0m\u001b[0mlines\u001b[0m\u001b[0;34m)\u001b[0m\u001b[0;34m)\u001b[0m\u001b[0;34m]\u001b[0m\u001b[0;34m\u001b[0m\u001b[0m\n\u001b[0;32m---> 23\u001b[0;31m         \u001b[0mloss_ratio\u001b[0m\u001b[0;34m=\u001b[0m\u001b[0;34m[\u001b[0m\u001b[0mfloat\u001b[0m\u001b[0;34m(\u001b[0m\u001b[0mele\u001b[0m\u001b[0;34m)\u001b[0m \u001b[0;32mfor\u001b[0m \u001b[0mele\u001b[0m \u001b[0;32min\u001b[0m \u001b[0mnewlist\u001b[0m\u001b[0;34m[\u001b[0m\u001b[0;36m1\u001b[0m\u001b[0;34m]\u001b[0m\u001b[0;34m]\u001b[0m\u001b[0;34m\u001b[0m\u001b[0m\n\u001b[0m\u001b[1;32m     24\u001b[0m \u001b[0;34m\u001b[0m\u001b[0m\n\u001b[1;32m     25\u001b[0m     \u001b[0;31m# From continuous function to dicrete\u001b[0m\u001b[0;34m\u001b[0m\u001b[0;34m\u001b[0m\u001b[0m\n",
        "\u001b[0;31mIndexError\u001b[0m: list index out of range"
       ]
      },
      {
       "output_type": "stream",
       "stream": "stdout",
       "text": [
        "mu(LS) =  [ 0.70979208  1.19745138  1.82562013]\n",
        "median IM =  [0.16359293251582246, 0.28071564404200244, 0.42900421201450839]\n",
        "total dispersion =  [0.0, 0.063954716115905683, 0.17929520736570501]\n"
       ]
      }
     ],
     "prompt_number": 11
    },
    {
     "cell_type": "code",
     "collapsed": false,
     "input": [],
     "language": "python",
     "metadata": {},
     "outputs": []
    }
   ],
   "metadata": {}
  }
 ]
}