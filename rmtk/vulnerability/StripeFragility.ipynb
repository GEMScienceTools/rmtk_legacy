{
 "metadata": {
  "name": ""
 },
 "nbformat": 3,
 "nbformat_minor": 0,
 "worksheets": [
  {
   "cells": [
    {
     "cell_type": "code",
     "collapsed": false,
     "input": [
      "\"\"\"\n",
      "Created on Wed Dec 17 15:20:10 2014\n",
      "\n",
      "@author: chiaracasotto\n",
      "\"\"\"\n",
      "# Clear existing variables\n",
      "def clearall():\n",
      "    all = [var for var in globals() if var[0] != \"_\"]\n",
      "    for var in all:\n",
      "        del globals()[var]\n",
      "clearall()\n",
      "from NDP.read_IDA import read_IDA\n",
      "from NDP.IDA_postprocess import IDA_postprocess\n",
      "import numpy as np\n",
      "import scipy.stats as stat\n",
      "import matplotlib.pyplot as plt\n",
      "\n",
      "import os \n",
      "cd = os.getcwd()"
     ],
     "language": "python",
     "metadata": {},
     "outputs": [],
     "prompt_number": 1
    },
    {
     "cell_type": "code",
     "collapsed": false,
     "input": [
      "vuln = 0\n",
      "g = 1\n",
      "plotflag = [1, 1]\n",
      "iml = np.linspace(0.1, 2, 100)\n",
      "IMlabel = ['m/s$^{2}$']\n",
      "linew = 2\n",
      "fontsize = 14\n",
      "plot_feature = [plotflag, linew, fontsize, IMlabel, iml]\n",
      "\n",
      "[IM, EDP, limits, bUthd, rec_data] = read_IDA()"
     ],
     "language": "python",
     "metadata": {},
     "outputs": [],
     "prompt_number": 2
    },
    {
     "cell_type": "code",
     "collapsed": false,
     "input": [
      "[log_meanSa, log_stSa, Pex] = IDA_postprocess(IM, EDP, limits, bUthd, rec_data, g)"
     ],
     "language": "python",
     "metadata": {},
     "outputs": [
      {
       "output_type": "stream",
       "stream": "stderr",
       "text": [
        "NDP/IDA_postprocess.py:20: RuntimeWarning: divide by zero encountered in log\n",
        "  Pex.append(np.divide(float(len(edp[np.log(edp)>np.log(limits[i])])),float(Nrec)))\n",
        "/opt/local/Library/Frameworks/Python.framework/Versions/2.7/lib/python2.7/site-packages/scipy/stats/distributions.py:7184: RuntimeWarning: invalid value encountered in greater_equal\n",
        "  return (n >= 0) & (p >= 0) & (p <= 1)\n"
       ]
      },
      {
       "output_type": "stream",
       "stream": "stdout",
       "text": [
        "Optimization terminated successfully.\n",
        "         Current function value: 10.502857\n",
        "         Iterations: 55\n",
        "         Function evaluations: 107\n",
        "0.120534171191 0.16895542423\n",
        "Optimization terminated successfully."
       ]
      },
      {
       "output_type": "stream",
       "stream": "stdout",
       "text": [
        "\n",
        "         Current function value: 29.716640\n",
        "         Iterations: 50\n",
        "         Function evaluations: 96\n",
        "0.259669940316 0.29508346758\n",
        "Optimization terminated successfully."
       ]
      },
      {
       "output_type": "stream",
       "stream": "stdout",
       "text": [
        "\n",
        "         Current function value: 62.664687\n",
        "         Iterations: 43\n",
        "         Function evaluations: 82\n",
        "0.486145980019 0.333094087269\n",
        "Optimization terminated successfully."
       ]
      },
      {
       "output_type": "stream",
       "stream": "stdout",
       "text": [
        "\n",
        "         Current function value: 103.404282\n",
        "         Iterations: 38\n",
        "         Function evaluations: 72\n",
        "0.676694770603 0.395261056224\n",
        "Optimization terminated successfully."
       ]
      },
      {
       "output_type": "stream",
       "stream": "stdout",
       "text": [
        "\n",
        "         Current function value: 124.765193\n",
        "         Iterations: 37\n",
        "         Function evaluations: 72\n",
        "0.805096385256 0.448628888084\n",
        "Optimization terminated successfully."
       ]
      },
      {
       "output_type": "stream",
       "stream": "stdout",
       "text": [
        "\n",
        "         Current function value: 125.043627\n",
        "         Iterations: 34\n",
        "         Function evaluations: 67\n",
        "0.911371952643 0.471215153345\n",
        "medians= [0.12053417119054029, 0.2596699403164639, 0.48614598001879361, 0.67669477060280636, 0.80509638525563409, 0.91137195264310567]\n",
        "total dispersion= [0.16895542422962417, 0.29508346758000059, 0.33309408726876027, 0.39526105622444319, 0.44862888808395385, 0.47121515334474762]\n"
       ]
      },
      {
       "output_type": "stream",
       "stream": "stderr",
       "text": [
        "/opt/local/Library/Frameworks/Python.framework/Versions/2.7/lib/python2.7/site-packages/scipy/stats/distributions.py:7184: RuntimeWarning: invalid value encountered in less_equal\n",
        "  return (n >= 0) & (p >= 0) & (p <= 1)\n"
       ]
      }
     ],
     "prompt_number": 3
    },
    {
     "cell_type": "code",
     "collapsed": false,
     "input": [
      "colours = ['b','r','g','k','c','y']\n",
      "for q in range(0,len(log_meanSa)):\n",
      "    damage = Pex[q]\n",
      "    txt = 'Damage State '+str(q+1)\n",
      "    plt.plot(IM,damage,marker='o',color=colours[q], linestyle='None',label=txt)\n",
      "    y = stat.norm(log_meanSa[q],log_stSa[q]).cdf(np.log(IM))\n",
      "    plt.plot(IM,y,color=colours[q],linewidth=linew,label = txt)\n",
      "      \n",
      "plt.xlabel('Spectral acceleration at T elastic, Sa(Tel) '+IMlabel[0],fontsize = fontsize)\n",
      "plt.ylabel('Probabilty of Exceedance',fontsize = fontsize)\n",
      "plt.suptitle('Fragility Curves',fontsize = fontsize)\n",
      "plt.legend(loc='lower right',frameon = False)\n",
      "plt.savefig(cd+'/outputs/fragility_curves.png')\n",
      "plt.show()"
     ],
     "language": "python",
     "metadata": {},
     "outputs": [
      {
       "output_type": "stream",
       "stream": "stderr",
       "text": [
        "-c:6: RuntimeWarning: divide by zero encountered in log\n"
       ]
      }
     ],
     "prompt_number": 4
    },
    {
     "cell_type": "code",
     "collapsed": false,
     "input": [],
     "language": "python",
     "metadata": {},
     "outputs": []
    }
   ],
   "metadata": {}
  }
 ]
}