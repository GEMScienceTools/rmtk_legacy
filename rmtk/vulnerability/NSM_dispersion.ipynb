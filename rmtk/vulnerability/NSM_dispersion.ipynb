{
 "metadata": {
  "name": "",
  "signature": "sha256:ee2097f64202e936a89e7451781520f0a33446fcb9b7f41854b770f810b55681"
 },
 "nbformat": 3,
 "nbformat_minor": 0,
 "worksheets": [
  {
   "cells": [
    {
     "cell_type": "heading",
     "level": 1,
     "metadata": {},
     "source": [
      "Nonlinear Static Procedure with dispersion"
     ]
    },
    {
     "cell_type": "markdown",
     "metadata": {},
     "source": [
      "The user should change only section 1 \"Define Option\""
     ]
    },
    {
     "cell_type": "code",
     "collapsed": false,
     "input": [
      "\"\"\"\n",
      "Created on Tue May 13 18:04:57 2014\n",
      "\n",
      "@author: chiaracasotto\n",
      "\"\"\"\n",
      "# Clear existing variables\n",
      "def clearall():\n",
      "    all = [var for var in globals() if var[0] != \"_\"]\n",
      "    for var in all:\n",
      "        del globals()[var]\n",
      "clearall()\n",
      "\n",
      "# Import functions\n",
      "import matplotlib.pyplot as plt\n",
      "import numpy as np\n",
      "import os\n",
      "from NSP.get_data import read_data\n",
      "from NSP.fragility_process import fragility_process\n",
      "from NSP.export_fragility import export_fragility\n",
      "from common.export_vulnerability import export_vulnerability\n",
      "from NSP.vulnerability_process import vulnerability_process\n",
      "\n",
      "pi = 3.141592653589793\n",
      "plt.close(\"all\")\n",
      "cd = os.getcwd()"
     ],
     "language": "python",
     "metadata": {},
     "outputs": [],
     "prompt_number": 9
    },
    {
     "cell_type": "heading",
     "level": 2,
     "metadata": {},
     "source": [
      "1. Define Options"
     ]
    },
    {
     "cell_type": "markdown",
     "metadata": {},
     "source": [
      ">####an_type (analysis type) <br />\n",
      "0: elastoplastic Pushover, inelastic displacement obtained from Ruiz-Garcia Miranda [1] <br />\n",
      "1: any pushover shape (bilinear, trilinear, quadrilinear) inelastic displacement obtained from spo2ida [2] <br />\n",
      "2: any pushover shape (bilinear, trilinear, quadrilinear) inelastic displacement obtained from Dolsek and Fajfar [3] <br />\n",
      "\n",
      ">####in_type (input_type)\n",
      "0: input is idealised pushover curve <br />\n",
      "1: input is pushover curve <br />"
     ]
    },
    {
     "cell_type": "code",
     "collapsed": false,
     "input": [
      "an_type = 1\n",
      "in_type = 1"
     ],
     "language": "python",
     "metadata": {},
     "outputs": [],
     "prompt_number": 10
    },
    {
     "cell_type": "markdown",
     "metadata": {},
     "source": [
      ">####vuln\n",
      "0: derive fragility curves <br />\n",
      "1: derive vulnerability curves from fragility curves <br />\n",
      "####g\n",
      "Units of g compatible with T and displacement\n",
      "####iml\n",
      "Array of intensity measure level used to discretise the fragility curves and get discrete vulnerability curves"
     ]
    },
    {
     "cell_type": "code",
     "collapsed": false,
     "input": [
      "vuln = 0\n",
      "g = 9.81\n",
      "iml = np.linspace(0.01,2,100)"
     ],
     "language": "python",
     "metadata": {},
     "outputs": [],
     "prompt_number": 11
    },
    {
     "cell_type": "markdown",
     "metadata": {},
     "source": [
      ">####plotflag \n",
      "4 integers for each plot: idealised pushover curve, 16%-50%-84% ida curves, fragility curves, vulenarbility curve <br />\n",
      "1: plot <br />\n",
      "0: don't plot <br />\n",
      ">####linew\n",
      "Line width for plots\n",
      ">####fontsize\n",
      "Fontsize used for labels, graphs etc.\n",
      ">####units\n",
      "List of 3 strings defining the displacements, forces and Sa units as ['[kN]' '[m]' ['m/s^2]]"
     ]
    },
    {
     "cell_type": "code",
     "collapsed": false,
     "input": [
      "plotflag = [0, 0, 0, 0]\n",
      "linew = 2\n",
      "fontsize = 10\n",
      "units = ['[m]', '[kN]', '[g]']"
     ],
     "language": "python",
     "metadata": {},
     "outputs": [],
     "prompt_number": 12
    },
    {
     "cell_type": "markdown",
     "metadata": {},
     "source": [
      ">####N\n",
      "Number of points per segment of IDA curve derived with spo2ida (only spo2ida procedure)\n",
      ">####MC \n",
      "Number of Monte Carlo simulations to account for uncertainty in damage thresholds (only spo2ida procedure)\n",
      ">####Tc, Td\n",
      "Constant accel-constant velocity  and constant velocity-constant displacement corner periods of a Newmark-Hall type spectrum. Default\n",
      "values <br />\n",
      "Tc = 0.5 <br />\n",
      "Td = 1.8 <br />"
     ]
    },
    {
     "cell_type": "code",
     "collapsed": false,
     "input": [
      "N = 20\n",
      "MC = 0\n",
      "Tc = 0.5\n",
      "Td = 1.8"
     ],
     "language": "python",
     "metadata": {},
     "outputs": [],
     "prompt_number": 13
    },
    {
     "cell_type": "heading",
     "level": 2,
     "metadata": {},
     "source": [
      "2. Read data from csv input file and Process data"
     ]
    },
    {
     "cell_type": "markdown",
     "metadata": {},
     "source": [
      "Obtain: First period, first modal participation factor, weights associated to each building, roof disp. at each limit state, idealised pushover parameters, dispersion in the limit states"
     ]
    },
    {
     "cell_type": "code",
     "collapsed": false,
     "input": [
      "plot_feature = [plotflag, linew, fontsize, units, iml]\n",
      "[T, Gamma, w, dcroof, SPO, bUthd, noBlg, Tav, Sa_ratios] = read_data(in_type,an_type,linew,fontsize,units,plotflag[0])"
     ],
     "language": "python",
     "metadata": {},
     "outputs": [],
     "prompt_number": 14
    },
    {
     "cell_type": "heading",
     "level": 2,
     "metadata": {},
     "source": [
      "3.a Derive Fragility and plot"
     ]
    },
    {
     "cell_type": "code",
     "collapsed": false,
     "input": [
      "if vuln == 0:\n",
      "    [log_meanSa, log_stSa] = fragility_process(vuln, an_type, T, Gamma, w, dcroof, SPO, bUthd, noBlg, g, MC, Sa_ratios, plot_feature, N, Tc, Td)\n",
      "    export_fragility(vuln, plot_feature, log_meanSa, log_stSa, 'on' )"
     ],
     "language": "python",
     "metadata": {},
     "outputs": [
      {
       "output_type": "stream",
       "stream": "stdout",
       "text": [
        "mu(LS) =  [ 1.02754782  2.03465784  4.53356505  6.94183012  9.00340945  9.00340945]\n",
        "median IM =  [0.12909131427427334, 0.26300654398611711, 0.53170896084560337, 0.69806306413508168, 0.75525138105725698, 0.75525138105725698]\n",
        "total dispersion =  [0.010602573431057543, 0.21363825414874787, 0.35846285447089976, 0.39371425696950857, 0.40163973957333521, 0.40163973957333521]\n"
       ]
      }
     ],
     "prompt_number": 15
    },
    {
     "cell_type": "heading",
     "level": 2,
     "metadata": {},
     "source": [
      "3.b Derive Vulnerability curves from damage-to-loss ratios and export Vulnerability"
     ]
    },
    {
     "cell_type": "code",
     "collapsed": false,
     "input": [
      "if vuln == 1:\n",
      "    [LR50, bLR] = vulnerability_process(vuln, an_type, T, Gamma, w, dcroof, SPO, bUthd, noBlg, g, MC, Sa_ratios, plot_feature, N, Tc, Td)\n",
      "    export_vulnerability(vuln, plot_feature, LR50, bLR)"
     ],
     "language": "python",
     "metadata": {},
     "outputs": [],
     "prompt_number": 8
    },
    {
     "cell_type": "code",
     "collapsed": false,
     "input": [],
     "language": "python",
     "metadata": {},
     "outputs": []
    }
   ],
   "metadata": {}
  }
 ]
}