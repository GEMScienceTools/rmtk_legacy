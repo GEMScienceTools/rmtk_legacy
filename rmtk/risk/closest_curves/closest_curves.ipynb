{
 "metadata": {
  "name": "",
  "signature": "sha256:6c0783e92c8c15efab47f36c77426c10cb25307c5441162070f809e1df03a565"
 },
 "nbformat": 3,
 "nbformat_minor": 0,
 "worksheets": [
  {
   "cells": [
    {
     "cell_type": "heading",
     "level": 1,
     "metadata": {},
     "source": [
      "List Closest Curves"
     ]
    },
    {
     "cell_type": "markdown",
     "metadata": {},
     "source": [
      "This IPython notebook allows the user to sort a list of hazard curves in descending order of the average distance from the mean hazard curve."
     ]
    },
    {
     "cell_type": "code",
     "collapsed": false,
     "input": [
      "import closest_curves as cc"
     ],
     "language": "python",
     "metadata": {},
     "outputs": [],
     "prompt_number": 1
    },
    {
     "cell_type": "markdown",
     "metadata": {},
     "source": [
      "Please specify below the path of the directory containing the hazard curve NRML files:"
     ]
    },
    {
     "cell_type": "code",
     "collapsed": false,
     "input": [
      "input_dir = 'sample_outputs'"
     ],
     "language": "python",
     "metadata": {},
     "outputs": [],
     "prompt_number": 2
    },
    {
     "cell_type": "code",
     "collapsed": false,
     "input": [
      "cc.list_closest_curves(input_dir)"
     ],
     "language": "python",
     "metadata": {},
     "outputs": [
      {
       "output_type": "stream",
       "stream": "stdout",
       "text": [
        "gsimlt_path=CauzziFaccioli2008_*_*_Toro2002SHARE_*_*_*,smlt_path=b2 0.0847919471184\n",
        "gsimlt_path=ZhaoEtAl2006Asc_*_*_Toro2002SHARE_*_*_*,smlt_path=b2 0.0848318418561\n",
        "gsimlt_path=AkkarBommer2010_*_*_Toro2002SHARE_*_*_*,smlt_path=b2 0.0848420322725\n",
        "gsimlt_path=ChiouYoungs2008_*_*_Toro2002SHARE_*_*_*,smlt_path=b2 0.0849064678025\n",
        "gsimlt_path=ChiouYoungs2008_*_Toro2002SHARE_Toro2002SHARE_*_*_FaccioliEtAl2010,smlt_path=b1 0.0850259901198\n",
        "gsimlt_path=ChiouYoungs2008_*_Campbell2003SHARE_Toro2002SHARE_*_*_FaccioliEtAl2010,smlt_path=b1 0.0850260944944\n",
        "gsimlt_path=AkkarBommer2010_*_Toro2002SHARE_Toro2002SHARE_*_*_FaccioliEtAl2010,smlt_path=b1 0.0850653783715\n",
        "gsimlt_path=AkkarBommer2010_*_Campbell2003SHARE_Toro2002SHARE_*_*_FaccioliEtAl2010,smlt_path=b1 0.0850654826977\n",
        "gsimlt_path=ZhaoEtAl2006Asc_*_Toro2002SHARE_Toro2002SHARE_*_*_FaccioliEtAl2010,smlt_path=b1 0.0850668072856\n",
        "gsimlt_path=ZhaoEtAl2006Asc_*_Campbell2003SHARE_Toro2002SHARE_*_*_FaccioliEtAl2010,smlt_path=b1 0.0850669116101\n",
        "gsimlt_path=CauzziFaccioli2008_*_Toro2002SHARE_Toro2002SHARE_*_*_FaccioliEtAl2010,smlt_path=b1 0.085449943133\n",
        "gsimlt_path=CauzziFaccioli2008_*_Campbell2003SHARE_Toro2002SHARE_*_*_FaccioliEtAl2010,smlt_path=b1 0.0854500469897\n",
        "gsimlt_path=ChiouYoungs2008_*_Campbell2003SHARE_CauzziFaccioli2008_*_*_FaccioliEtAl2010,smlt_path=b3 0.130789343431\n",
        "gsimlt_path=ChiouYoungs2008_*_Toro2002SHARE_CauzziFaccioli2008_*_*_FaccioliEtAl2010,smlt_path=b3 0.13078963624\n",
        "gsimlt_path=AkkarBommer2010_*_Campbell2003SHARE_CauzziFaccioli2008_*_*_FaccioliEtAl2010,smlt_path=b3 0.130873927961\n",
        "gsimlt_path=AkkarBommer2010_*_Toro2002SHARE_CauzziFaccioli2008_*_*_FaccioliEtAl2010,smlt_path=b3 0.13087422058\n",
        "gsimlt_path=CauzziFaccioli2008_*_Campbell2003SHARE_CauzziFaccioli2008_*_*_FaccioliEtAl2010,smlt_path=b3 0.130929956138\n",
        "gsimlt_path=CauzziFaccioli2008_*_Toro2002SHARE_CauzziFaccioli2008_*_*_FaccioliEtAl2010,smlt_path=b3 0.130930248633\n",
        "gsimlt_path=ZhaoEtAl2006Asc_*_Campbell2003SHARE_CauzziFaccioli2008_*_*_FaccioliEtAl2010,smlt_path=b3 0.133892636771\n",
        "gsimlt_path=ZhaoEtAl2006Asc_*_Toro2002SHARE_CauzziFaccioli2008_*_*_FaccioliEtAl2010,smlt_path=b3 0.133892922793\n",
        "gsimlt_path=CauzziFaccioli2008_*_*_Campbell2003SHARE_*_*_*,smlt_path=b2 0.135733885976\n",
        "gsimlt_path=CauzziFaccioli2008_*_Toro2002SHARE_Campbell2003SHARE_*_*_FaccioliEtAl2010,smlt_path=b1 0.135764812219\n",
        "gsimlt_path=CauzziFaccioli2008_*_Campbell2003SHARE_Campbell2003SHARE_*_*_FaccioliEtAl2010,smlt_path=b1 0.135764993002\n",
        "gsimlt_path=ZhaoEtAl2006Asc_*_*_Campbell2003SHARE_*_*_*,smlt_path=b2 0.135773047011\n",
        "gsimlt_path=AkkarBommer2010_*_*_Campbell2003SHARE_*_*_*,smlt_path=b2 0.135779376957\n",
        "gsimlt_path=ChiouYoungs2008_*_*_Campbell2003SHARE_*_*_*,smlt_path=b2 0.135800339924\n",
        "gsimlt_path=ChiouYoungs2008_*_Toro2002SHARE_Campbell2003SHARE_*_*_FaccioliEtAl2010,smlt_path=b1 0.135921928347\n",
        "gsimlt_path=ChiouYoungs2008_*_Campbell2003SHARE_Campbell2003SHARE_*_*_FaccioliEtAl2010,smlt_path=b1 0.135922108921\n",
        "gsimlt_path=ZhaoEtAl2006Asc_*_Toro2002SHARE_Campbell2003SHARE_*_*_FaccioliEtAl2010,smlt_path=b1 0.135983794726\n",
        "gsimlt_path=ZhaoEtAl2006Asc_*_Campbell2003SHARE_Campbell2003SHARE_*_*_FaccioliEtAl2010,smlt_path=b1 0.135983975218\n",
        "gsimlt_path=AkkarBommer2010_*_Toro2002SHARE_Campbell2003SHARE_*_*_FaccioliEtAl2010,smlt_path=b1 0.135987024029\n",
        "gsimlt_path=AkkarBommer2010_*_Campbell2003SHARE_Campbell2003SHARE_*_*_FaccioliEtAl2010,smlt_path=b1 0.135987204516\n",
        "gsimlt_path=CauzziFaccioli2008_*_Toro2002SHARE_AkkarBommer2010_*_*_FaccioliEtAl2010,smlt_path=b1 0.136894940324\n",
        "gsimlt_path=CauzziFaccioli2008_*_Campbell2003SHARE_AkkarBommer2010_*_*_FaccioliEtAl2010,smlt_path=b1 0.136894956804\n",
        "gsimlt_path=ZhaoEtAl2006Asc_*_Toro2002SHARE_AkkarBommer2010_*_*_FaccioliEtAl2010,smlt_path=b1 0.137067562408\n",
        "gsimlt_path=ZhaoEtAl2006Asc_*_Campbell2003SHARE_AkkarBommer2010_*_*_FaccioliEtAl2010,smlt_path=b1 0.137067578867\n",
        "gsimlt_path=ChiouYoungs2008_*_Toro2002SHARE_AkkarBommer2010_*_*_FaccioliEtAl2010,smlt_path=b1 0.137070243489\n",
        "gsimlt_path=ChiouYoungs2008_*_Campbell2003SHARE_AkkarBommer2010_*_*_FaccioliEtAl2010,smlt_path=b1 0.137070259948\n",
        "gsimlt_path=AkkarBommer2010_*_Toro2002SHARE_AkkarBommer2010_*_*_FaccioliEtAl2010,smlt_path=b1 0.137070995268\n",
        "gsimlt_path=AkkarBommer2010_*_Campbell2003SHARE_AkkarBommer2010_*_*_FaccioliEtAl2010,smlt_path=b1 0.137071011726\n",
        "gsimlt_path=CauzziFaccioli2008_*_*_AkkarBommer2010_*_*_*,smlt_path=b2 0.137218098757\n",
        "gsimlt_path=ZhaoEtAl2006Asc_*_*_AkkarBommer2010_*_*_*,smlt_path=b2 0.13723069386\n",
        "gsimlt_path=AkkarBommer2010_*_*_AkkarBommer2010_*_*_*,smlt_path=b2 0.137241747195\n",
        "gsimlt_path=ChiouYoungs2008_*_*_AkkarBommer2010_*_*_*,smlt_path=b2 0.137294748373\n",
        "gsimlt_path=CauzziFaccioli2008_*_Toro2002SHARE_ChiouYoungs2008_*_*_FaccioliEtAl2010,smlt_path=b1 0.140200756381\n",
        "gsimlt_path=CauzziFaccioli2008_*_Campbell2003SHARE_ChiouYoungs2008_*_*_FaccioliEtAl2010,smlt_path=b1 0.140200770312\n",
        "gsimlt_path=ZhaoEtAl2006Asc_*_Toro2002SHARE_ChiouYoungs2008_*_*_FaccioliEtAl2010,smlt_path=b1 0.140367452207\n",
        "gsimlt_path=ZhaoEtAl2006Asc_*_Campbell2003SHARE_ChiouYoungs2008_*_*_FaccioliEtAl2010,smlt_path=b1 0.140367466121\n",
        "gsimlt_path=AkkarBommer2010_*_Toro2002SHARE_ChiouYoungs2008_*_*_FaccioliEtAl2010,smlt_path=b1 0.140372046773\n",
        "gsimlt_path=AkkarBommer2010_*_Campbell2003SHARE_ChiouYoungs2008_*_*_FaccioliEtAl2010,smlt_path=b1 0.140372060687\n",
        "gsimlt_path=ChiouYoungs2008_*_Toro2002SHARE_ChiouYoungs2008_*_*_FaccioliEtAl2010,smlt_path=b1 0.140384961604\n",
        "gsimlt_path=ChiouYoungs2008_*_Campbell2003SHARE_ChiouYoungs2008_*_*_FaccioliEtAl2010,smlt_path=b1 0.140384975516\n",
        "gsimlt_path=CauzziFaccioli2008_*_*_ChiouYoungs2008_*_*_*,smlt_path=b2 0.140579439424\n",
        "gsimlt_path=ZhaoEtAl2006Asc_*_*_ChiouYoungs2008_*_*_*,smlt_path=b2 0.140586132361\n",
        "gsimlt_path=AkkarBommer2010_*_*_ChiouYoungs2008_*_*_*,smlt_path=b2 0.140597554658\n",
        "gsimlt_path=ChiouYoungs2008_*_*_ChiouYoungs2008_*_*_*,smlt_path=b2 0.140656249795\n",
        "gsimlt_path=ChiouYoungs2008_*_Campbell2003SHARE_AkkarBommer2010_*_*_FaccioliEtAl2010,smlt_path=b3 0.140794652897\n",
        "gsimlt_path=ChiouYoungs2008_*_Toro2002SHARE_AkkarBommer2010_*_*_FaccioliEtAl2010,smlt_path=b3 0.14079490728\n",
        "gsimlt_path=AkkarBommer2010_*_Campbell2003SHARE_AkkarBommer2010_*_*_FaccioliEtAl2010,smlt_path=b3 0.140903568143\n",
        "gsimlt_path=AkkarBommer2010_*_Toro2002SHARE_AkkarBommer2010_*_*_FaccioliEtAl2010,smlt_path=b3 0.140903822329\n",
        "gsimlt_path=CauzziFaccioli2008_*_Campbell2003SHARE_AkkarBommer2010_*_*_FaccioliEtAl2010,smlt_path=b3 0.140947809394\n",
        "gsimlt_path=CauzziFaccioli2008_*_Toro2002SHARE_AkkarBommer2010_*_*_FaccioliEtAl2010,smlt_path=b3 0.1409480635\n",
        "gsimlt_path=ZhaoEtAl2006Asc_*_Campbell2003SHARE_AkkarBommer2010_*_*_FaccioliEtAl2010,smlt_path=b3 0.141073944924\n",
        "gsimlt_path=ZhaoEtAl2006Asc_*_Toro2002SHARE_AkkarBommer2010_*_*_FaccioliEtAl2010,smlt_path=b3 0.141074198803\n",
        "gsimlt_path=ChiouYoungs2008_*_Campbell2003SHARE_ChiouYoungs2008_*_*_FaccioliEtAl2010,smlt_path=b3 0.141484129241\n",
        "gsimlt_path=ChiouYoungs2008_*_Toro2002SHARE_ChiouYoungs2008_*_*_FaccioliEtAl2010,smlt_path=b3 0.141484368305\n",
        "gsimlt_path=AkkarBommer2010_*_Campbell2003SHARE_ChiouYoungs2008_*_*_FaccioliEtAl2010,smlt_path=b3 0.141613977877\n",
        "gsimlt_path=AkkarBommer2010_*_Toro2002SHARE_ChiouYoungs2008_*_*_FaccioliEtAl2010,smlt_path=b3 0.141614216722\n",
        "gsimlt_path=CauzziFaccioli2008_*_Campbell2003SHARE_ChiouYoungs2008_*_*_FaccioliEtAl2010,smlt_path=b3 0.141646548848\n",
        "gsimlt_path=CauzziFaccioli2008_*_Toro2002SHARE_ChiouYoungs2008_*_*_FaccioliEtAl2010,smlt_path=b3 0.141646787638\n",
        "gsimlt_path=ZhaoEtAl2006Asc_*_Campbell2003SHARE_ChiouYoungs2008_*_*_FaccioliEtAl2010,smlt_path=b3 0.141738048883\n",
        "gsimlt_path=ZhaoEtAl2006Asc_*_Toro2002SHARE_ChiouYoungs2008_*_*_FaccioliEtAl2010,smlt_path=b3 0.14173828752\n",
        "gsimlt_path=ChiouYoungs2008_*_Campbell2003SHARE_Campbell2003SHARE_*_*_FaccioliEtAl2010,smlt_path=b3 0.145216604883\n",
        "gsimlt_path=ChiouYoungs2008_*_Toro2002SHARE_Campbell2003SHARE_*_*_FaccioliEtAl2010,smlt_path=b3 0.145216654481\n",
        "gsimlt_path=CauzziFaccioli2008_*_Campbell2003SHARE_Campbell2003SHARE_*_*_FaccioliEtAl2010,smlt_path=b3 0.145362515121\n",
        "gsimlt_path=CauzziFaccioli2008_*_Toro2002SHARE_Campbell2003SHARE_*_*_FaccioliEtAl2010,smlt_path=b3 0.145362564668\n",
        "gsimlt_path=AkkarBommer2010_*_Campbell2003SHARE_Campbell2003SHARE_*_*_FaccioliEtAl2010,smlt_path=b3 0.145407138941\n",
        "gsimlt_path=AkkarBommer2010_*_Toro2002SHARE_Campbell2003SHARE_*_*_FaccioliEtAl2010,smlt_path=b3 0.145407188474\n",
        "gsimlt_path=ZhaoEtAl2006Asc_*_Campbell2003SHARE_Campbell2003SHARE_*_*_FaccioliEtAl2010,smlt_path=b3 0.145522047807\n",
        "gsimlt_path=ZhaoEtAl2006Asc_*_Toro2002SHARE_Campbell2003SHARE_*_*_FaccioliEtAl2010,smlt_path=b3 0.145522097301\n",
        "gsimlt_path=AkkarBommer2010_*_Campbell2003SHARE_CauzziFaccioli2008_*_*_FaccioliEtAl2010,smlt_path=b1 0.272436870958\n",
        "gsimlt_path=AkkarBommer2010_*_Toro2002SHARE_CauzziFaccioli2008_*_*_FaccioliEtAl2010,smlt_path=b1 0.272436878166\n",
        "gsimlt_path=ZhaoEtAl2006Asc_*_Campbell2003SHARE_CauzziFaccioli2008_*_*_FaccioliEtAl2010,smlt_path=b1 0.272438472617\n",
        "gsimlt_path=ZhaoEtAl2006Asc_*_Toro2002SHARE_CauzziFaccioli2008_*_*_FaccioliEtAl2010,smlt_path=b1 0.272438479825\n",
        "gsimlt_path=ChiouYoungs2008_*_Campbell2003SHARE_CauzziFaccioli2008_*_*_FaccioliEtAl2010,smlt_path=b1 0.272445204889\n",
        "gsimlt_path=ChiouYoungs2008_*_Toro2002SHARE_CauzziFaccioli2008_*_*_FaccioliEtAl2010,smlt_path=b1 0.272445212097\n",
        "gsimlt_path=CauzziFaccioli2008_*_Campbell2003SHARE_CauzziFaccioli2008_*_*_FaccioliEtAl2010,smlt_path=b1 0.27308593966\n",
        "gsimlt_path=CauzziFaccioli2008_*_Toro2002SHARE_CauzziFaccioli2008_*_*_FaccioliEtAl2010,smlt_path=b1 0.273085946851\n",
        "gsimlt_path=ZhaoEtAl2006Asc_*_*_CauzziFaccioli2008_*_*_*,smlt_path=b2 0.273209868845\n",
        "gsimlt_path=CauzziFaccioli2008_*_*_CauzziFaccioli2008_*_*_*,smlt_path=b2 0.273212080727\n",
        "gsimlt_path=AkkarBommer2010_*_*_CauzziFaccioli2008_*_*_*,smlt_path=b2 0.273213499088\n",
        "gsimlt_path=ChiouYoungs2008_*_*_CauzziFaccioli2008_*_*_*,smlt_path=b2 0.273243965886\n",
        "gsimlt_path=ChiouYoungs2008_*_Campbell2003SHARE_Toro2002SHARE_*_*_FaccioliEtAl2010,smlt_path=b3 0.999535378154\n",
        "gsimlt_path=ChiouYoungs2008_*_Toro2002SHARE_Toro2002SHARE_*_*_FaccioliEtAl2010,smlt_path=b3 0.999535398355\n",
        "gsimlt_path=AkkarBommer2010_*_Campbell2003SHARE_Toro2002SHARE_*_*_FaccioliEtAl2010,smlt_path=b3 0.999558146551\n",
        "gsimlt_path=AkkarBommer2010_*_Toro2002SHARE_Toro2002SHARE_*_*_FaccioliEtAl2010,smlt_path=b3 0.999558166751\n",
        "gsimlt_path=CauzziFaccioli2008_*_Campbell2003SHARE_Toro2002SHARE_*_*_FaccioliEtAl2010,smlt_path=b3 0.999567009306\n",
        "gsimlt_path=CauzziFaccioli2008_*_Toro2002SHARE_Toro2002SHARE_*_*_FaccioliEtAl2010,smlt_path=b3 0.999567029506\n",
        "gsimlt_path=ZhaoEtAl2006Asc_*_Campbell2003SHARE_Toro2002SHARE_*_*_FaccioliEtAl2010,smlt_path=b3 0.999999979808\n",
        "gsimlt_path=ZhaoEtAl2006Asc_*_Toro2002SHARE_Toro2002SHARE_*_*_FaccioliEtAl2010,smlt_path=b3 1.0\n"
       ]
      }
     ],
     "prompt_number": 3
    },
    {
     "cell_type": "code",
     "collapsed": false,
     "input": [],
     "language": "python",
     "metadata": {},
     "outputs": []
    }
   ],
   "metadata": {}
  }
 ]
}