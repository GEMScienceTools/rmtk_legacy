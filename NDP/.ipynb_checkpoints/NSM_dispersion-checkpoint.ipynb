{
 "metadata": {
  "name": ""
 },
 "nbformat": 3,
 "nbformat_minor": 0,
 "worksheets": [
  {
   "cells": [
    {
     "cell_type": "code",
     "collapsed": false,
     "input": [
      "\"\"\"\n",
      "Created on Tue May 13 18:04:57 2014\n",
      "\n",
      "@author: chiaracasotto\n",
      "\"\"\"\n",
      "# Clear existing variables\n",
      "def clearall():\n",
      "    all = [var for var in globals() if var[0] != \"_\"]\n",
      "    for var in all:\n",
      "        del globals()[var]\n",
      "clearall()\n",
      "\n",
      "# Import functions\n",
      "import matplotlib.pyplot as plt\n",
      "import numpy as np\n",
      "import os\n",
      "from get_data import read_data\n",
      "from get_Sc_bt import simplified_bilinear\n",
      "from get_Sc_bt import spo2ida\n",
      "from print_csv import print_outputs\n",
      "from plot_fragility import plot_fragility\n",
      "from damage_to_loss import damage_to_loss\n",
      "pi = 3.141592653589793\n",
      "plt.close(\"all\")\n",
      "\n",
      "# Define inputs\n",
      "# -------------------------------------------------------------------------------------------------------\n",
      "# an_type (Analysis type):\n",
      "# 0: Elastoplastic Pushover, inelastic displacement obtained from Ruiz-Garcia Miranda [1]\n",
      "# 1: Any pushover shape (bilinear, trilinear, quadrilinear) inelastic displacement obtained from spo2ida [2]\n",
      "#\n",
      "# in_type (input_type):\n",
      "# 0: input is idealised pushover curve\n",
      "# 1: input is pushover curve\n",
      "#\n",
      "# pw: pinching model weight (between 0 and 1)\n",
      "#\n",
      "# plotflag (4 integers for each plot: idealised pushover curve, 16%-50%-84% ida curves, fragility curves, vulenarbility curve)\n",
      "# 1: plot\n",
      "# 0: don't plot\n",
      "#\n",
      "# filletstyle\n",
      "# 0,1,2 = don't use spline curve to connect different branches of ida curve\n",
      "# 3: use spline (reccomended)\n",
      "\n",
      "# N: number of points per segment od IDa curve derived with spo2ida\n",
      "#\n",
      "# linew: line width for plots\n",
      "#\n",
      "# fontsize : fontsize used for labels, graphs etc.\n",
      "#\n",
      "# g = units of g compatible with T and displacement\n",
      "#\n",
      "# units: list of 3 strings defining the displacements, forces and Sa units as ['[kN]' '[m]' ['m/s^2]]\n",
      "#\n",
      "# iml = array of intensity measure level used to discretise the fragility curves and get discrete vulnerability curves\n",
      "# -------------------------------------------------------------------------------------------------------\n",
      "\n",
      "an_type = 1\n",
      "in_type = 1\n",
      "vulnerability = 1\n",
      "pw = 1\n",
      "plotflag = [1, 1, 1, 1]\n",
      "filletstyle = 3\n",
      "N = 10\n",
      "linew = 2\n",
      "fontsize = 20\n",
      "g = 9.81 \n",
      "units = ['[m]', '[kN]', '[m/s^2]']\n",
      "iml = np.linspace(0.1,15,200)\n",
      "\n",
      "# Read data from csv input file and get:\n",
      "# First period, first modal participation factor, roof disp. at each limit state, idealised pushover parameters, Dispersions\n",
      "[T, Gamma, dcroof, SPO, bs] = read_data(in_type,an_type,linew,fontsize,units,plotflag[0])"
     ],
     "language": "python",
     "metadata": {},
     "outputs": []
    },
    {
     "cell_type": "code",
     "collapsed": false,
     "input": [
      "# Derive median Sa value of capacity for each Limit State and corresponding overall dispersion\n",
      "plt.close(\"all\")\n",
      "if an_type==0: # Ruiz-Garcia Miranda's method\n",
      "    [Sa50, bTSa] = simplified_bilinear(T, Gamma, dcroof, SPO, bs, g)\n",
      "else: # Vamvatsikos' method\n",
      "    [Sa50, bTSa] = spo2ida(T, Gamma, dcroof, SPO, bs, pw, g, plotflag[1], filletstyle, N, linew, fontsize)"
     ],
     "language": "python",
     "metadata": {},
     "outputs": []
    },
    {
     "cell_type": "code",
     "collapsed": false,
     "input": [
      "# Export fragility parameters (mu and sigma of ln(Sa) to csv\n",
      "cd = os.getcwd()\n",
      "output_path = cd+'/outputs/logn_parameters.csv'\n",
      "header = ['DS', 'mu', 'sigma']\n",
      "n_lines = len(Sa50)\n",
      "Samean = [np.log(ele) for ele in Sa50]\n",
      "DS = range(len(Sa50)+1)\n",
      "col_data = [DS[1:], Samean, bTSa] # mean and standard deviation of log(x)\n",
      "print_outputs(output_path,header,n_lines,col_data)"
     ],
     "language": "python",
     "metadata": {},
     "outputs": []
    },
    {
     "cell_type": "code",
     "collapsed": false,
     "input": [
      "# Plot fragility curves\n",
      "plt.close(\"all\")\n",
      "if plotflag[2]:\n",
      "    plot_fragility(iml,Sa50,bTSa,linew,fontsize,units)"
     ],
     "language": "python",
     "metadata": {},
     "outputs": []
    },
    {
     "cell_type": "code",
     "collapsed": false,
     "input": [
      "# Derive vulnerability curves from damage-to-loss ratios\n",
      "plt.close(\"all\")\n",
      "if vulnerability == 1:\n",
      "    LR = damage_to_loss(iml,linew,fontsize,units,plotflag[3])"
     ],
     "language": "python",
     "metadata": {},
     "outputs": []
    },
    {
     "cell_type": "code",
     "collapsed": false,
     "input": [
      "# Export discrete vulnerability curve to csv\n",
      "output_path = cd+'/outputs/vulnerability_curve.csv'\n",
      "header = ['Intensity Measure Level','Loss Ratio']\n",
      "n_lines = len(LR)\n",
      "col_data = [iml, LR] # mean and standard deviation of log(x)\n",
      "print_outputs(output_path,header,n_lines,col_data)"
     ],
     "language": "python",
     "metadata": {},
     "outputs": []
    }
   ],
   "metadata": {}
  }
 ]
}