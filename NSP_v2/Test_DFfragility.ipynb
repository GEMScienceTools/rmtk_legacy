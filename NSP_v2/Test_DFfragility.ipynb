{
 "metadata": {
  "name": ""
 },
 "nbformat": 3,
 "nbformat_minor": 0,
 "worksheets": [
  {
   "cells": [
    {
     "cell_type": "code",
     "collapsed": false,
     "input": [
      "import numpy as np\n",
      "import os\n",
      "pi = 3.141592653589793"
     ],
     "language": "python",
     "metadata": {},
     "outputs": [],
     "prompt_number": 1
    },
    {
     "cell_type": "code",
     "collapsed": false,
     "input": [
      "# Example\n",
      "T=1;\n",
      "Gamma=1.3; \n",
      "drlim= [0.1,0.3,0.5] \n",
      "dry=0.1; #(in meters)\n",
      "buthd= [0.,0.2,0.3]\n",
      "mc=2\n",
      "r=0.5\n",
      "g=9.81\n",
      "Tc=0.5\n",
      "Td=1.8\n",
      "\n",
      "mlim=np.array(drlim)/dry\n",
      "print mlim\n",
      "\n",
      "if mlim.any()>10: \n",
      "    print 'Error: mlim should be less than 10'\n",
      "    os._exit(1)\n",
      "if r>1 and r<0.25:\n",
      "    print 'Error: rp should be within [0.25,1]'\n",
      "    os._exit(1)\n",
      "if mc<1 and mc>2.5:\n",
      "    print 'Error: mc should be within [1,2.5]'\n",
      "    os._exit(1)"
     ],
     "language": "python",
     "metadata": {},
     "outputs": [
      {
       "output_type": "stream",
       "stream": "stdout",
       "text": [
        "[ 1.  3.  5.]\n"
       ]
      }
     ],
     "prompt_number": 21
    },
    {
     "cell_type": "code",
     "collapsed": false,
     "input": [
      "# Get the (mc50, Rmc) point\n",
      "Tdstar=Td*np.sqrt(2-r)\n",
      "R0=1\n",
      "m0=1\n",
      "# Eq. 2 and 3 in Dolsek and Fajfar (2004) \n",
      "if T<=Tc:\n",
      "    c=0.7*(T/Tc)\n",
      "elif T<=Tdstar:\n",
      "    DT=(T-Tc)/(Tdstar-Tc)\n",
      "    c=(0.7 + 0.3*DT)\n",
      "else:\n",
      "    c=1\n",
      "Rmc = c*(mc-m0) + R0\n",
      "# from Ruiz-Garcia and Miranda (2007)\n",
      "bthd_mc=1.957*(1/5.876 + 1/(11.749*(T+0.1)))*(1-np.exp(-0.739*(Rmc-1)))\n",
      "# Get median and fractiles. For lognormal: Median = mean * exp(0.5*sigma^2)\n",
      "mc50=mc/np.exp(0.5*np.power(bthd_mc,2))\n",
      "mc16=mc50*np.exp(-bthd_mc)\n",
      "mc84=mc50*np.exp(bthd_mc)"
     ],
     "language": "python",
     "metadata": {},
     "outputs": [],
     "prompt_number": 22
    },
    {
     "cell_type": "code",
     "collapsed": false,
     "input": [
      "# Now set Rmf as twice Rmc and get (mf50,Rmf) point\n",
      "Rmf=2*Rmc\n",
      "R0=Rmc\n",
      "m0=mc\n",
      "if T<=Tc:\n",
      "    c=0.7*np.sqrt(r)*(T/Tc)^(1/np.sqrt(r))\n",
      "elif T<=Tdstar:\n",
      "    c=0.7*np.sqrt(r)*(1-DT)+DT\n",
      "else:\n",
      "   c=1\n",
      "# This is the mean mu given R\n",
      "mf_mean=(Rmf-R0)/c + m0\n",
      "bthd_mf=1.957*(1/5.876 + 1/(11.749*(T + 0.1)))*(1-np.exp(-0.739*(Rmf - 1)))\n",
      "# For lognormal: Median = mean * exp(0.5*sigma^2)\n",
      "mf50=mf_mean/np.exp(0.5*np.power(bthd_mf,2))\n",
      "mf16=mf50*np.exp(-bthd_mf)\n",
      "mf84=mf50*np.exp(bthd_mf)\n",
      "\n",
      "R=[0,1,Rmc,Rmf]\n",
      "mu16=[0,1,mc16,mf16]\n",
      "mu50=[0,1,mc50,mf50]\n",
      "mu84=[0,1,mc84,mf84]\n",
      "# Now we have fractiles and can invert. Use linear extrapolation for mlim values larger than mf. \n",
      "R16=np.interp(np.array(mlim),np.array(mu84),np.array(R))\n",
      "R50=np.interp(np.array(mlim),np.array(mu50),np.array(R))\n",
      "R84=np.interp(np.array(mlim),np.array(mu16),np.array(R))"
     ],
     "language": "python",
     "metadata": {},
     "outputs": [],
     "prompt_number": 23
    },
    {
     "cell_type": "code",
     "collapsed": false,
     "input": [
      "# Go to an R value at 85% of the R50 for a biased estimate of \"b\"\n",
      "Rlim=0.85*R50\n",
      "m50Rlim=np.interp(np.array(Rlim),np.array(R),np.array(mu50))\n",
      "b=np.log(m50Rlim)/np.log(Rlim)\n",
      "\n",
      "bRSa=0.5*(np.log(R84)-np.log(R16))\n",
      "bUSa=buthd/b\n",
      "\n",
      "CR50 = mlim/R50\n",
      "Sa50 = 4*np.power(pi,2)*np.array(drlim)/(g*Gamma*CR50*np.power(T,2))\n",
      "bTSa = np.sqrt(np.power(bUSa,2) + np.power(bRSa,2))"
     ],
     "language": "python",
     "metadata": {},
     "outputs": [
      {
       "output_type": "stream",
       "stream": "stdout",
       "text": [
        "[0.0, 0.2, 0.3] [ 1.          1.16989714  1.16706065] [ 0.          0.1709552   0.25705605]\n"
       ]
      }
     ],
     "prompt_number": 30
    },
    {
     "cell_type": "code",
     "collapsed": false,
     "input": [],
     "language": "python",
     "metadata": {},
     "outputs": [
      {
       "output_type": "stream",
       "stream": "stdout",
       "text": [
        "[ 0.30956181  0.79098902  1.10699318]\n",
        "[ 0.          0.32988788  0.27868909]\n"
       ]
      }
     ],
     "prompt_number": 25
    },
    {
     "cell_type": "code",
     "collapsed": false,
     "input": [],
     "language": "python",
     "metadata": {},
     "outputs": []
    }
   ],
   "metadata": {}
  }
 ]
}