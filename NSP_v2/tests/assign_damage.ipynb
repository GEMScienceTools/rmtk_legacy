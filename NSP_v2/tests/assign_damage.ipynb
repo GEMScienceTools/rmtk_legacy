{
 "metadata": {
  "name": ""
 },
 "nbformat": 3,
 "nbformat_minor": 0,
 "worksheets": [
  {
   "cells": [
    {
     "cell_type": "code",
     "collapsed": false,
     "input": [
      "\"\"\"\n",
      "Created on Thu May 29 08:32:34 2014\n",
      "\n",
      "@author: chiaracasotto\n",
      "\"\"\"\n",
      "import numpy as np\n",
      "\n",
      "def assign_damage(limits,disp,H,noStorey):\n",
      "    # Limits state definition\n",
      "    # Assign damage state to each analysis\n",
      "    disp.insert(0, np.zeros_like(disp[0]))\n",
      "    H.insert(0, float(0))\n",
      "    I = []\n",
      "    for ls in range(0,len(limits)):\n",
      "        for i in range(0,noStorey):\n",
      "            a = np.divide(np.array(disp[i+1])-np.array(disp[i]),H[i+1]) #convert displacement to inter-storey-drift\n",
      "            b = np.nonzero(a>limits[ls]) # find where drifts exceed limit states\n",
      "            if len(b[0]) == 0: \n",
      "                find = len(a)-1\n",
      "            else:\n",
      "                find = b[0][0]\n",
      "            I.append(find)\n",
      "\n",
      "    LS_index = zip(*[iter(I)]*noStorey)\n",
      "    LS_global = [min(ele) for ele in LS_index]\n",
      "    disp_profile = np.empty([noStorey,len(limits)])\n",
      "    for i in range(0,noStorey):\n",
      "        disp_profile[i,:] = [disp[i+1][ele] for ele in LS_global]\n",
      "    disp_profile = disp_profile.tolist()\n",
      "#    \n",
      "    return [disp_profile]"
     ],
     "language": "python",
     "metadata": {},
     "outputs": []
    }
   ],
   "metadata": {}
  }
 ]
}