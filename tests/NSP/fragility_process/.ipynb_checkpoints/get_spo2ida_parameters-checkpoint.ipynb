{
 "metadata": {
  "name": ""
 },
 "nbformat": 3,
 "nbformat_minor": 0,
 "worksheets": [
  {
   "cells": [
    {
     "cell_type": "code",
     "collapsed": false,
     "input": [
      "\"\"\"\n",
      "Created on Thu May 29 16:10:42 2014\n",
      "\n",
      "@author: chiaracasotto\n",
      "\"\"\"\n",
      "# Clear existing variables\n",
      "def clearall():\n",
      "    all = [var for var in globals() if var[0] != \"_\"]\n",
      "    for var in all:\n",
      "        del globals()[var]\n",
      "clearall()\n",
      "import numpy as np\n",
      "# passing from MDoF to SDoF\n",
      "SPO = [0.0422728605913,0.113278436093,0.123312633118,0.290448402,2133.26,2133.26,939.913228223]\n",
      "Gamma = 1.292\n",
      "T = 1.612\n",
      "[dy_sdof,ds_sdof,dmin_sdof,du_sdof,Fy_sdof,Fmax_sdof,Fmin_sdof] = [ele/Gamma for ele in SPO]"
     ],
     "language": "python",
     "metadata": {},
     "outputs": [],
     "prompt_number": 2
    },
    {
     "cell_type": "code",
     "collapsed": false,
     "input": [
      "# Converting droof in mu\n",
      "mc = ds_sdof/dy_sdof\n",
      "mf = du_sdof/dy_sdof\n",
      "mr = dmin_sdof/dy_sdof\n",
      "# Converting F in R\n",
      "Ry = 1\n",
      "Rmax = Fmax_sdof/Fy_sdof\n",
      "Rmin = Fmin_sdof/Fy_sdof\n",
      "a = (Rmax-Ry)/(mc-1)\n",
      "ac = (Rmax-Rmin)/(mr-mc)\n",
      "r = Rmin/Ry\n",
      "if ac<0.02: \n",
      "    print 'ac<0.02, it must be in [0.02,4], changed to ac = 0.02'\n",
      "    ac = 0.02 \n",
      "elif ac> 4: \n",
      "    print 'ac>4, it must be in [0.02,4], changed to ac = 4'\n",
      "    ac = 4\n",
      "if mc<1 or mc>9: print 'We must have \"mc\" in [1,9]'\n",
      "if a<0 or a>0.90: print 'We must have \"a\" in [0,0.90]'\n",
      "if r<0 or r>0.95: print 'We must have \"r\" in [0,0.95]'\n",
      "if mf<1: print 'We must have \"mf\" > 1'\n",
      "if T<0.1 or T>4: print 'We must have \"T\" in [0.1sec,4sec]'\n",
      "print [mc,a,ac,r,mf]"
     ],
     "language": "python",
     "metadata": {},
     "outputs": [
      {
       "output_type": "stream",
       "stream": "stdout",
       "text": [
        "[2.67969648868081, 0.0, 2.3566868882463092, 0.44059947133635835, 6.870800743959493]\n"
       ]
      }
     ],
     "prompt_number": 3
    },
    {
     "cell_type": "code",
     "collapsed": false,
     "input": [],
     "language": "python",
     "metadata": {},
     "outputs": []
    }
   ],
   "metadata": {}
  }
 ]
}