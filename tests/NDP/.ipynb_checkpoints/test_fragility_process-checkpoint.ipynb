{
 "metadata": {
  "name": ""
 },
 "nbformat": 3,
 "nbformat_minor": 0,
 "worksheets": [
  {
   "cells": [
    {
     "cell_type": "code",
     "collapsed": false,
     "input": [
      "\"\"\"\n",
      "Created on Wed Sep 24 15:12:45 2014\n",
      "\n",
      "@author: chiaracasotto\n",
      "\"\"\"\n",
      "import numpy as np\n",
      "from mle import mle\n",
      "dcm = np.matrix([[  30.,   16.,   54.],\n",
      "        [  54.,   15.,   31.],\n",
      "        [  59.,   10.,   31.],\n",
      "        [  24.,   26.,   50.],\n",
      "        [  58.,    5.,   37.],\n",
      "        [ 100.,    0.,    0.],\n",
      "        [  30.,   24.,   46.],\n",
      "        [   7.,   35.,   58.],\n",
      "        [   0.,    0.,  100.],\n",
      "        [   0.,    5.,   95.],\n",
      "        [   0.,    0.,  100.],\n",
      "        [   0.,   12.,   88.],\n",
      "        [   4.,   24.,   72.],\n",
      "        [  76.,   16.,    8.],\n",
      "        [  10.,   25.,   65.],\n",
      "        [  40.,   17.,   43.],\n",
      "        [  80.,    4.,   16.],\n",
      "        [   4.,   37.,   59.],\n",
      "        [  19.,   40.,   41.],\n",
      "        [   1.,   39.,   60.],\n",
      "        [  95.,    5.,    0.]])\n",
      "totblg = 100\n",
      "im = np.matrix([[  49.852 ],\n",
      "        [  47.056 ],\n",
      "        [  33.012 ],\n",
      "        [  82.125 ],\n",
      "        [  37.499 ],\n",
      "        [   3.159 ],\n",
      "        [  52.205 ],\n",
      "        [  88.363 ],\n",
      "        [ 290.11  ],\n",
      "        [ 241.78  ],\n",
      "        [ 273.37  ],\n",
      "        [ 151.24  ],\n",
      "        [  92.957 ],\n",
      "        [  40.101 ],\n",
      "        [  97.535 ],\n",
      "        [  54.723 ],\n",
      "        [  26.081 ],\n",
      "        [ 105.61  ],\n",
      "        [ 156.81  ],\n",
      "        [  82.401 ],\n",
      "        [  26.807 ]])\n",
      "g = 9.81\n",
      "noLS = 2"
     ],
     "language": "python",
     "metadata": {},
     "outputs": [],
     "prompt_number": 7
    },
    {
     "cell_type": "code",
     "collapsed": false,
     "input": [
      "def count_to_poe(dcm,totblg):\n",
      "    dpm = np.matrix(np.empty([dcm.shape[0],dcm.shape[1]]))\n",
      "    fr = np.matrix(np.empty([dcm.shape[0],dcm.shape[1]])) #change here dimensions\n",
      "    for line in range(0,dcm.shape[0]):\n",
      "        for ls in range(0,dcm.shape[1]):\n",
      "            dpm[line,ls] = np.divide(dcm[line,ls],totblg) # probability of occurance of damage\n",
      "            acc = -dpm[line,:ls]\n",
      "            cc = acc.tolist()\n",
      "            cdm = [1]+cc[0]\n",
      "            fr[line,ls] = sum(cdm) # probability of exceedance of damage\n",
      "            fr = fr.round(5)\n",
      "            fr = fr.__abs__()\n",
      "    return [fr]"
     ],
     "language": "python",
     "metadata": {},
     "outputs": [],
     "prompt_number": 8
    },
    {
     "cell_type": "code",
     "collapsed": false,
     "input": [
      "[fr] = count_to_poe(dcm,totblg)   \n",
      "#Sort the matrices according to Intensity Measure Levels\n",
      "dcm = np.matrix(np.empty(fr.shape))\n",
      "I = np.argsort(im, axis=0)\n",
      "FR = fr[I,:]\n",
      "IM = im[I,:]\n",
      "log_meanSa, log_stSa = [],[]"
     ],
     "language": "python",
     "metadata": {},
     "outputs": [],
     "prompt_number": 9
    },
    {
     "cell_type": "code",
     "collapsed": false,
     "input": [
      "# Fit number of buildings exceeding each level of damage with Maximum Likelihood regression method\n",
      "for j in range(1,FR.shape[2]):\n",
      "    damage = FR[:,0,j]*totblg #number of buildings exceeding damage j\n",
      "    dint = damage.astype(int)\n",
      "    nc = dint.transpose()\n",
      "    num_collapse = nc.tolist()\n",
      "    print num_collapse\n",
      "    IML = [IM[i,0,0] for i in range(0,len(IM))]\n",
      "    [mu, sigma]=mle(num_collapse, IML, totblg,g)\n",
      "    log_meanSa.append(mu)\n",
      "    log_stSa.append(sigma)\n",
      "    \n",
      "    print \"LS\", j\n",
      "    print \"mu=\",mu\n",
      "    print \"sigma=\",sigma\n",
      "    \n",
      "print [log_meanSa, log_stSa]"
     ],
     "language": "python",
     "metadata": {},
     "outputs": [
      {
       "output_type": "stream",
       "stream": "stdout",
       "text": [
        "[0, 20, 5, 41, 42, 24, 46, 70, 70, 60, 76, 99, 93, 96, 90, 96, 100, 81, 100, 100, 100]\n",
        "Optimization terminated successfully."
       ]
      },
      {
       "output_type": "stream",
       "stream": "stdout",
       "text": [
        "\n",
        "         Current function value: 113.505454\n",
        "         Iterations: 71\n",
        "         Function evaluations: 134\n",
        "LS 1\n",
        "mu= 3.80287670601\n",
        "sigma= 0.604228312047\n",
        "[0, 16, 0, 31, 37, 8, 31, 54, 46, 43, 50, 60, 57, 72, 65, 59, 88, 41, 95, 100, 100]\n",
        "Optimization terminated successfully."
       ]
      },
      {
       "output_type": "stream",
       "stream": "stdout",
       "text": [
        "\n",
        "         Current function value: 144.659154\n",
        "         Iterations: 75\n",
        "         Function evaluations: 141\n",
        "LS 2\n",
        "mu= 4.24895193359\n",
        "sigma= 0.920870270656\n",
        "[[3.8028767060145912, 4.2489519335946788, 3.8028767060145912, 4.2489519335946788], [0.6042283120473686, 0.92087027065560823, 0.6042283120473686, 0.92087027065560823]]\n"
       ]
      }
     ],
     "prompt_number": 11
    },
    {
     "cell_type": "code",
     "collapsed": false,
     "input": [],
     "language": "python",
     "metadata": {},
     "outputs": []
    }
   ],
   "metadata": {}
  }
 ]
}